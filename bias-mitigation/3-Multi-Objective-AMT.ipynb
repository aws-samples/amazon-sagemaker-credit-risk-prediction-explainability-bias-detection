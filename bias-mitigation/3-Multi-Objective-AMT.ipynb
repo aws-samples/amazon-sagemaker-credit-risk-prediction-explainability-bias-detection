{
 "cells": [
  {
   "cell_type": "markdown",
   "metadata": {
    "tags": []
   },
   "source": [
    "### Multi Objective Optimization with Credit Risk Analysis\n",
    "Here we will optimize our AI model for multiple objectives - Performance with Area Under Curve (AUC), and Fairness with Statistical Disparity (SD)"
   ]
  },
  {
   "cell_type": "code",
   "execution_count": 1,
   "metadata": {},
   "outputs": [],
   "source": [
    "%%capture\n",
    "#Cell magic to hide outputs \n",
    "\n",
    "#Install dependencies\n",
    "from io import StringIO\n",
    "import os\n",
    "import time\n",
    "import sys\n",
    "import IPython\n",
    "from time import gmtime, strftime\n",
    "\n",
    "import boto3\n",
    "import numpy as np\n",
    "import pandas as pd\n",
    "import urllib\n",
    "\n",
    "import sagemaker\n",
    "from sagemaker.s3 import S3Uploader\n",
    "from sagemaker.processing import ProcessingInput, ProcessingOutput\n",
    "from sagemaker.sklearn.processing import SKLearnProcessor\n",
    "from sagemaker.inputs import TrainingInput\n",
    "from sagemaker.xgboost import XGBoost\n",
    "from sagemaker.s3 import S3Downloader\n",
    "from sagemaker.s3 import S3Uploader\n",
    "from sagemaker import Session\n",
    "from sagemaker import get_execution_role\n",
    "from sagemaker.xgboost import XGBoostModel\n",
    "from sagemaker.sklearn import SKLearnModel\n",
    "from sagemaker.pipeline import PipelineModel\n",
    "from sagemaker.inputs import TrainingInput\n",
    "\n",
    "\n",
    "session = Session()\n",
    "bucket = session.default_bucket()\n",
    "prefix = \"sagemaker/sagemaker-amt-credit-risk-model\"\n",
    "region = session.boto_region_name\n",
    "\n",
    "# Define IAM role\n",
    "role = get_execution_role()"
   ]
  },
  {
   "cell_type": "code",
   "execution_count": 2,
   "metadata": {},
   "outputs": [],
   "source": [
    "# !pygmentize processing/preprocessor.py"
   ]
  },
  {
   "cell_type": "markdown",
   "metadata": {
    "tags": []
   },
   "source": [
    "## Train XGBoost Model\n",
    "In this step, we will train an XGBoost model on the preprocessed data. We will use our own training script with the built-in XGBoost container provided by SageMaker.\n",
    "\n",
    "Alternatively, for your own use case, you can also bring your own model (trained elsewhere) to SageMaker for processing with SageMaker Clarify\n"
   ]
  },
  {
   "cell_type": "markdown",
   "metadata": {},
   "source": [
    "### Set up XGBoost Estimator\n",
    "\n",
    "Next, let us set up:    \n",
    " 1. Pre-defined values for Hyperparameters for XGBoost algorithm\n",
    " 1. XGBoost Estimator for SageMaker\n",
    "\n",
    "    "
   ]
  },
  {
   "cell_type": "code",
   "execution_count": 3,
   "metadata": {},
   "outputs": [],
   "source": [
    "hyperparameters = {\n",
    "    \"max_depth\": \"5\",\n",
    "    \"eta\": \"0.1\",\n",
    "    \"gamma\": \"4\",\n",
    "    \"min_child_weight\": \"6\",\n",
    "    \"silent\": \"1\",\n",
    "    \"objective\": \"binary:logistic\",\n",
    "    \"num_round\": \"100\",\n",
    "    \"subsample\": \"0.8\",\n",
    "    \"eval_metric\": \"auc\",\n",
    "    \"early_stopping_rounds\": \"20\",\n",
    "    \"output_data_dir\": \"/opt/ml/output/data/\",\n",
    "}\n",
    "\n",
    "entry_point = \"train_xg_amt_multi.py\"\n",
    "source_dir = \"training/\"\n",
    "output_path = \"s3://{0}/{1}/{2}\".format(bucket, prefix, \"xgb_model\")\n",
    "code_location = \"s3://{0}/{1}/code\".format(bucket, prefix)\n",
    "\n",
    "estimator = XGBoost(\n",
    "    entry_point=entry_point,\n",
    "    source_dir=source_dir,\n",
    "    output_path=output_path,\n",
    "    code_location=code_location,\n",
    "    hyperparameters=hyperparameters,\n",
    "    instance_type=\"ml.c5.xlarge\",\n",
    "    instance_count=1,\n",
    "    framework_version=\"0.90-2\",\n",
    "    py_version=\"py3\",\n",
    "    role=role,\n",
    ")"
   ]
  },
  {
   "cell_type": "code",
   "execution_count": null,
   "metadata": {},
   "outputs": [],
   "source": []
  },
  {
   "cell_type": "markdown",
   "metadata": {
    "tags": []
   },
   "source": [
    "### SageMaker AMT (HPO)\n",
    "\n",
    "Now it's time to run the HPO job to train and find the best model \n",
    "\n",
    "#### NOTE: THIS CELL WILL RUN FOR APPROX. 5-8 MINUTES! PLEASE BE PATIENT."
   ]
  },
  {
   "cell_type": "code",
   "execution_count": 4,
   "metadata": {},
   "outputs": [],
   "source": [
    "%store -r train_data_path\n",
    "%store -r val_data_path\n",
    "%store -r model_path"
   ]
  },
  {
   "cell_type": "code",
   "execution_count": 5,
   "metadata": {},
   "outputs": [
    {
     "name": "stderr",
     "output_type": "stream",
     "text": [
      "No finished training job found associated with this estimator. Please make sure this estimator is only used for building workflow config\n"
     ]
    },
    {
     "name": "stdout",
     "output_type": "stream",
     "text": [
      "...................................................................................................................................................!\n",
      "!\n"
     ]
    }
   ],
   "source": [
    "# Automatic Model Tuning (HPO)\n",
    "\n",
    "# output_data_dir = 's3://sagemaker-us-east-2-921553072635/sagemaker/sagemaker-amt-credit-risk-model/data/output/'\n",
    "\n",
    "from sagemaker.tuner import IntegerParameter, CategoricalParameter, ContinuousParameter, HyperparameterTuner\n",
    "\n",
    "hyperparameter_ranges = {'eta': ContinuousParameter(1e-3, 1, 'Logarithmic'),\n",
    "                        'min_child_weight': ContinuousParameter(1e-6, 10, 'Logarithmic'),\n",
    "                        'gamma': ContinuousParameter(1e-6, 10, 'Logarithmic'),\n",
    "                        'max_depth': IntegerParameter(2, 10, 'Linear')}\n",
    "\n",
    "objective_metric_name = 'validation:auc'\n",
    "\n",
    "tuner = HyperparameterTuner(estimator,\n",
    "                            objective_metric_name,\n",
    "                            hyperparameter_ranges,\n",
    "                            max_jobs=100, # 100\n",
    "                            max_parallel_jobs=10, #16\n",
    "                           )\n",
    "\n",
    "tuning_job_name = \"xgb-tuner-{}\".format(strftime(\"%d-%H-%M-%S\", gmtime()))\n",
    "\n",
    "# inputs = {'train': train_data_path, 'validation': val_data_path, 'output_data_dir': output_data_dir}\n",
    "\n",
    "inputs = {'train': train_data_path, 'validation': val_data_path}\n",
    "\n",
    "tuner.fit(inputs, job_name=tuning_job_name)\n",
    "\n",
    "tuner.wait()\n",
    "\n",
    "tuner_metrics = sagemaker.HyperparameterTuningJobAnalytics(tuning_job_name)"
   ]
  },
  {
   "cell_type": "code",
   "execution_count": 6,
   "metadata": {},
   "outputs": [
    {
     "data": {
      "text/plain": [
       "'xgb-tuner-27-00-32-14-052-be514283'"
      ]
     },
     "execution_count": 6,
     "metadata": {},
     "output_type": "execute_result"
    }
   ],
   "source": [
    "tuner.best_training_job()"
   ]
  },
  {
   "cell_type": "code",
   "execution_count": 7,
   "metadata": {},
   "outputs": [],
   "source": [
    "xgboost_model_data = (\n",
    "    \"s3://{}/{}/{}/{}\".format(bucket, prefix, \"xgb_model\", tuner.best_training_job()) + \"/output/model.tar.gz\"\n",
    ")"
   ]
  },
  {
   "cell_type": "code",
   "execution_count": 8,
   "metadata": {},
   "outputs": [],
   "source": [
    "xgboost_inference_code_location = \"s3://{}/{}/{}/code\".format(bucket, prefix, \"xgb_model\")\n",
    "\n",
    "xgboost_model = XGBoostModel(\n",
    "    name=\"xgb-model-{0}\".format(str(int(time.time()))),\n",
    "    model_data=xgboost_model_data,\n",
    "    entry_point=\"inference.py\",\n",
    "    source_dir=\"inference/xgboost/\",\n",
    "    code_location=xgboost_inference_code_location,\n",
    "    framework_version=\"0.90-2\",\n",
    "    py_version=\"py3\",\n",
    "    role=role,\n",
    "    sagemaker_session=session,\n",
    ")"
   ]
  },
  {
   "cell_type": "code",
   "execution_count": 9,
   "metadata": {},
   "outputs": [
    {
     "name": "stdout",
     "output_type": "stream",
     "text": [
      "EndpointName = MULTI-2023-01-27-0044\n"
     ]
    }
   ],
   "source": [
    "from datetime import datetime\n",
    "\n",
    "endpoint_name = f\"MULTI-{datetime.utcnow():%Y-%m-%d-%H%M}\"\n",
    "print(\"EndpointName =\", endpoint_name)"
   ]
  },
  {
   "cell_type": "code",
   "execution_count": 10,
   "metadata": {},
   "outputs": [
    {
     "name": "stdout",
     "output_type": "stream",
     "text": [
      "-----!"
     ]
    }
   ],
   "source": [
    "#Create Endpoint Instance\n",
    "\n",
    "#Instance Count\n",
    "initial_instance_count=1 # Example\n",
    "#instance Type\n",
    "instance_type='ml.m5.large' # Example\n",
    "\n",
    "FinalModel = xgboost_model.deploy(\n",
    "    initial_instance_count=initial_instance_count,\n",
    "    instance_type=instance_type,\n",
    "    endpoint_name=endpoint_name\n",
    ")"
   ]
  },
  {
   "cell_type": "code",
   "execution_count": 11,
   "metadata": {},
   "outputs": [
    {
     "data": {
      "text/plain": [
       "'s3://sagemaker-us-east-2-921553072635/sagemaker/sagemaker-amt-credit-risk-model/data/preprocessed/val/val_features.csv'"
      ]
     },
     "execution_count": 11,
     "metadata": {},
     "output_type": "execute_result"
    }
   ],
   "source": [
    "#Validation\n",
    "n = val_data_path+\"val_features.csv\"\n",
    "test_dataset = S3Downloader.read_file(n)\n",
    "n"
   ]
  },
  {
   "cell_type": "code",
   "execution_count": 12,
   "metadata": {},
   "outputs": [
    {
     "name": "stdout",
     "output_type": "stream",
     "text": [
      "44157\n",
      "221\n"
     ]
    }
   ],
   "source": [
    "print(len(test_dataset))\n",
    "test_dataset = test_dataset.split(\"\\n\")\n",
    "print(len(test_dataset))"
   ]
  },
  {
   "cell_type": "code",
   "execution_count": 13,
   "metadata": {},
   "outputs": [],
   "source": [
    "for i in range(len(test_dataset)-1):\n",
    "    test_dataset[i] = np.fromstring(test_dataset[i], dtype=float, sep=',')"
   ]
  },
  {
   "cell_type": "code",
   "execution_count": 14,
   "metadata": {},
   "outputs": [],
   "source": [
    "#Set up predictor \n",
    "from sagemaker.serializers import CSVSerializer\n",
    "predictor = sagemaker.predictor.Predictor(\n",
    "    endpoint_name,\n",
    "    session,\n",
    "    serializer=sagemaker.serializers.CSVSerializer(),\n",
    "    deserializer=sagemaker.deserializers.CSVDeserializer(),\n",
    ")"
   ]
  },
  {
   "cell_type": "code",
   "execution_count": 15,
   "metadata": {},
   "outputs": [],
   "source": [
    "#Make Predictions on the test dataset\n",
    "Multi_Optimized_Predictions = []\n",
    "for i in range(len(test_dataset)-1):\n",
    "    Multi_Optimized_Predictions.append(predictor.predict(test_dataset[i]))"
   ]
  },
  {
   "cell_type": "code",
   "execution_count": 16,
   "metadata": {},
   "outputs": [
    {
     "name": "stdout",
     "output_type": "stream",
     "text": [
      "[['0.9327612']]\n",
      "[['0.86414945']]\n",
      "[['0.9440027']]\n"
     ]
    }
   ],
   "source": [
    "#See first 3 predictions and how they look. We have the double brackets meaning each element is a 3 dimensional element, we will make them a single dimension in the next cell \n",
    "print(Multi_Optimized_Predictions[0])\n",
    "print(Multi_Optimized_Predictions[1])\n",
    "print(Multi_Optimized_Predictions[2])"
   ]
  },
  {
   "cell_type": "code",
   "execution_count": 17,
   "metadata": {},
   "outputs": [],
   "source": [
    "#Turn each item into a single dimension element in the list  \n",
    "Predictions = []\n",
    "for i in range(len(Multi_Optimized_Predictions)):\n",
    "    Predictions.append(Multi_Optimized_Predictions[i][0][0])"
   ]
  },
  {
   "cell_type": "code",
   "execution_count": 18,
   "metadata": {},
   "outputs": [
    {
     "name": "stdout",
     "output_type": "stream",
     "text": [
      "0.9327612\n",
      "0.86414945\n",
      "0.9440027\n"
     ]
    }
   ],
   "source": [
    "#Look at first 3 processed predictions. They are now i nthe format we want\n",
    "print(Predictions[0])\n",
    "print(Predictions[1])\n",
    "print(Predictions[2])"
   ]
  },
  {
   "cell_type": "code",
   "execution_count": 19,
   "metadata": {},
   "outputs": [],
   "source": [
    "#Each prediction value is between 0 - 1. But the target variable \"Credit Risk\" is either bad (0) or good (1) there for we will round up/down to ensure every value is either 0 or 1\n",
    "for i in range(len(Predictions)):\n",
    "    if (float(Predictions[i]) >= float(0.5)):\n",
    "        Predictions[i] = 1 \n",
    "    elif (float(Predictions[i]) < float(0.5)):\n",
    "        Predictions[i] = 0"
   ]
  },
  {
   "cell_type": "code",
   "execution_count": 20,
   "metadata": {},
   "outputs": [
    {
     "name": "stdout",
     "output_type": "stream",
     "text": [
      "1\n",
      "1\n",
      "1\n"
     ]
    }
   ],
   "source": [
    "#Look at first 3 predictions now to confirm we will be able to see they are either 0 or 1 \n",
    "print(Predictions[0])\n",
    "print(Predictions[1])\n",
    "print(Predictions[2])"
   ]
  },
  {
   "cell_type": "code",
   "execution_count": 21,
   "metadata": {},
   "outputs": [
    {
     "name": "stdout",
     "output_type": "stream",
     "text": [
      "71\n",
      "149\n"
     ]
    }
   ],
   "source": [
    "#Check how many predictions were 0 (Bad Credit) and 1(Good Credit)\n",
    "print(Predictions.count(0))\n",
    "print(Predictions.count(1))"
   ]
  },
  {
   "cell_type": "code",
   "execution_count": 22,
   "metadata": {},
   "outputs": [
    {
     "data": {
      "image/png": "[encoded data removed]",
      "text/plain": [
       "<Figure size 432x288 with 1 Axes>"
      ]
     },
     "metadata": {},
     "output_type": "display_data"
    }
   ],
   "source": [
    "#Graph the predictions as a pie graph\n",
    "from matplotlib import pyplot as plt\n",
    "\n",
    "slices = [Predictions.count(0),Predictions.count(1)]\n",
    "labels = ['Bad Credit', 'Good Credit']\n",
    "colors = ['red', 'green']\n",
    "explode = [0, 0.1]\n",
    "plt.pie(slices, labels=labels, autopct='%1.1f%%', explode=explode, colors=colors, wedgeprops={'edgecolor': 'black'})\n",
    "plt.title(\"Credit Risk Ratio For a Multi Optimized Model - All\")\n",
    "plt.show()"
   ]
  },
  {
   "cell_type": "code",
   "execution_count": 23,
   "metadata": {},
   "outputs": [
    {
     "data": {
      "text/plain": [
       "36"
      ]
     },
     "execution_count": 23,
     "metadata": {},
     "output_type": "execute_result"
    }
   ],
   "source": [
    "#Now let us take a look at Foreign worker predictions only. the last element in the list represents Foreign workers (1 means foreign 2 means non-foreign)\n",
    "filtered_dataset=[]\n",
    "for i in range(len(test_dataset)-1):\n",
    "    if test_dataset[i][-1] == 1:\n",
    "        filtered_dataset.append(test_dataset[i])\n",
    "len(filtered_dataset)"
   ]
  },
  {
   "cell_type": "code",
   "execution_count": 24,
   "metadata": {},
   "outputs": [
    {
     "data": {
      "text/plain": [
       "36"
      ]
     },
     "execution_count": 24,
     "metadata": {},
     "output_type": "execute_result"
    }
   ],
   "source": [
    "len(filtered_dataset)"
   ]
  },
  {
   "cell_type": "code",
   "execution_count": 25,
   "metadata": {},
   "outputs": [],
   "source": [
    "#Make Predictions on the test dataset\n",
    "Multi_F_Predictions = []\n",
    "for i in range(len(filtered_dataset)):\n",
    "    Multi_F_Predictions.append(predictor.predict(filtered_dataset[i]))"
   ]
  },
  {
   "cell_type": "code",
   "execution_count": 26,
   "metadata": {},
   "outputs": [],
   "source": [
    "#Turn each item into a single dimension element in the list  \n",
    "for i in range(len(Multi_F_Predictions)):\n",
    "    Multi_F_Predictions[i]=(Multi_F_Predictions[i][0][0])"
   ]
  },
  {
   "cell_type": "code",
   "execution_count": 27,
   "metadata": {},
   "outputs": [
    {
     "data": {
      "text/plain": [
       "['0.24157475',\n",
       " '4.7756188e-05',\n",
       " '0.06342731',\n",
       " '0.93585235',\n",
       " '6.523058e-05',\n",
       " '0.5261048',\n",
       " '0.7142568',\n",
       " '0.014334942',\n",
       " '0.017389935',\n",
       " '9.352473e-05',\n",
       " '0.6630546',\n",
       " '0.4402347',\n",
       " '0.044109173',\n",
       " '0.13703965',\n",
       " '0.13513479',\n",
       " '0.09022986',\n",
       " '0.27975675',\n",
       " '0.7313284',\n",
       " '0.8185003',\n",
       " '0.123835415',\n",
       " '0.042360604',\n",
       " '0.000822239',\n",
       " '0.0046404405',\n",
       " '0.03956926',\n",
       " '0.932917',\n",
       " '0.76213884',\n",
       " '0.00038311264',\n",
       " '0.12971416',\n",
       " '0.90214473',\n",
       " '0.0013121088',\n",
       " '0.0013635819',\n",
       " '0.8794973',\n",
       " '0.026009575',\n",
       " '0.08722933',\n",
       " '0.85275924',\n",
       " '0.0009555685']"
      ]
     },
     "execution_count": 27,
     "metadata": {},
     "output_type": "execute_result"
    }
   ],
   "source": [
    "Multi_F_Predictions"
   ]
  },
  {
   "cell_type": "code",
   "execution_count": 28,
   "metadata": {},
   "outputs": [],
   "source": [
    "#Each prediction value is between 0 - 1. But the target variable \"Credit Risk\" is either bad (0) or good (1) there for we will round up/down to ensure every value is either 0 or 1\n",
    "for i in range(len(Multi_F_Predictions)):\n",
    "    if (float(Multi_F_Predictions[i]) >= float(0.5)):\n",
    "        Multi_F_Predictions[i] = 1 \n",
    "    elif (float(Multi_F_Predictions[i]) < float(0.5)):\n",
    "        Multi_F_Predictions[i] = 0"
   ]
  },
  {
   "cell_type": "code",
   "execution_count": 29,
   "metadata": {},
   "outputs": [
    {
     "name": "stdout",
     "output_type": "stream",
     "text": [
      "25\n",
      "11\n"
     ]
    }
   ],
   "source": [
    "#Check how many predictions were 0 (Bad Credit) and 1(Good Credit)\n",
    "print(Multi_F_Predictions.count(0))\n",
    "print(Multi_F_Predictions.count(1))"
   ]
  },
  {
   "cell_type": "code",
   "execution_count": 30,
   "metadata": {},
   "outputs": [
    {
     "data": {
      "image/png": "[encoded data removed]",
      "text/plain": [
       "<Figure size 432x288 with 1 Axes>"
      ]
     },
     "metadata": {},
     "output_type": "display_data"
    }
   ],
   "source": [
    "#Pie Graph\n",
    "slices = [Multi_F_Predictions.count(0),Multi_F_Predictions.count(1)]\n",
    "labels = ['Bad Credit', 'Good Credit']\n",
    "colors = ['red', 'green']\n",
    "explode = [0, 0.1]\n",
    "plt.pie(slices, labels=labels, autopct='%1.1f%%', explode=explode, colors=colors, wedgeprops={'edgecolor': 'black'})\n",
    "plt.title(\"Credit Risk Ratio For a Multi Optimized Model - Foreign\")\n",
    "plt.show()"
   ]
  },
  {
   "cell_type": "code",
   "execution_count": 31,
   "metadata": {},
   "outputs": [
    {
     "name": "stdout",
     "output_type": "stream",
     "text": [
      "46\n",
      "138\n"
     ]
    },
    {
     "data": {
      "image/png": "[encoded data removed]",
      "text/plain": [
       "<Figure size 432x288 with 1 Axes>"
      ]
     },
     "metadata": {},
     "output_type": "display_data"
    }
   ],
   "source": [
    "#TESTING - Non Foreign Workers\n",
    "filtered_dataset=[]\n",
    "for i in range(len(test_dataset)-1):\n",
    "    if test_dataset[i][-1] == 2:\n",
    "        filtered_dataset.append(test_dataset[i])\n",
    "len(filtered_dataset)\n",
    "\n",
    "Single_F_Predictions = []\n",
    "for i in range(len(filtered_dataset)):\n",
    "    Single_F_Predictions.append(predictor.predict(filtered_dataset[i]))\n",
    "    \n",
    "for i in range(len(Single_F_Predictions)):\n",
    "    Single_F_Predictions[i]=(Single_F_Predictions[i][0][0])\n",
    "    \n",
    "for i in range(len(Single_F_Predictions)):\n",
    "    if (float(Single_F_Predictions[i]) >= float(0.5)):\n",
    "        Single_F_Predictions[i] = 1 \n",
    "    elif (float(Single_F_Predictions[i]) < float(0.5)):\n",
    "        Single_F_Predictions[i] = 0\n",
    "\n",
    "print(Single_F_Predictions.count(0))\n",
    "print(Single_F_Predictions.count(1))\n",
    "\n",
    "#Pie Graph\n",
    "slices = [Single_F_Predictions.count(0),Single_F_Predictions.count(1)]\n",
    "labels = ['Bad Credit', 'Good Credit']\n",
    "colors = ['red', 'green']\n",
    "explode = [0, 0.1]\n",
    "plt.pie(slices, labels=labels, autopct='%1.1f%%', explode=explode, colors=colors, wedgeprops={'edgecolor': 'black'})\n",
    "plt.title(\"Credit Risk Ratio For a Single Optimized Model - Non-Foreign\")\n",
    "plt.show()"
   ]
  },
  {
   "cell_type": "code",
   "execution_count": 32,
   "metadata": {},
   "outputs": [],
   "source": [
    "# Generate Pareto Frontier \n",
    "def get_pareto_frontier(Xs, Ys, maxX=False, maxY=True):\n",
    "    \"\"\"plot Pareto front\n",
    "\n",
    "    in AMT this is impossible, since there is only one merged metric, But I\n",
    "    show here just from a scientific viewpoint\n",
    "\n",
    "    \"\"\"\n",
    "    sorted_list = sorted([[Xs[i], Ys[i]] for i in range(len(Xs))], reverse=maxX)\n",
    "    pareto_front = [sorted_list[0]]\n",
    "    for pair in sorted_list[1:]:\n",
    "        if maxY:\n",
    "            if pair[1] >= pareto_front[-1][1]:\n",
    "                pareto_front.append(pair)\n",
    "        else:\n",
    "            if pair[1] <= pareto_front[-1][1]:\n",
    "                pareto_front.append(pair)\n",
    "\n",
    "    pf_X = [pair[0] for pair in pareto_front]\n",
    "    pf_Y = [pair[1] for pair in pareto_front]\n",
    "    return pf_X, pf_Y"
   ]
  },
  {
   "cell_type": "code",
   "execution_count": 33,
   "metadata": {},
   "outputs": [
    {
     "data": {
      "text/plain": [
       "s3.ObjectSummary(bucket_name='sagemaker-us-east-2-921553072635', key='sagemaker/sagemaker-amt-credit-risk-model/data/output/tmp/02397abf-output.txt')"
      ]
     },
     "execution_count": 33,
     "metadata": {},
     "output_type": "execute_result"
    }
   ],
   "source": [
    "# S3 bucket's tmp folder is populated by results from training jobs run by HPO (Automatic Model Tuning)\n",
    "import boto3\n",
    "import pandas as pd\n",
    "import io\n",
    "\n",
    "s3 = boto3.resource('s3')\n",
    "bucket = s3.Bucket(session.default_bucket())\n",
    "prefix_objs = bucket.objects.filter(Prefix=\"sagemaker/sagemaker-amt-credit-risk-model/data/output/tmp/\")\n",
    "objects = iter(prefix_objs)\n",
    "next(objects)"
   ]
  },
  {
   "cell_type": "code",
   "execution_count": 34,
   "metadata": {},
   "outputs": [],
   "source": [
    "prefix_df = []\n",
    "\n",
    "from io import BytesIO\n",
    "\n",
    "for obj in objects:\n",
    "    key = obj.key\n",
    "    body = obj.get()['Body'].read()\n",
    "    tmp = str(body, 'UTF-8').strip()\n",
    "    prefix_df.append(tmp)\n",
    "    \n",
    "# prefix_df"
   ]
  },
  {
   "cell_type": "code",
   "execution_count": 35,
   "metadata": {},
   "outputs": [],
   "source": [
    "df = pd.DataFrame(prefix_df)\n",
    "df['models_list'] = df[0].str.split(',')\n",
    "df_models = pd.DataFrame(df['models_list'].tolist()).fillna('').add_prefix('model_')\n",
    "df_models.rename(columns={'model_0': 'sd', 'model_1': 'auc'}, inplace=True)\n",
    "df_models.to_csv('sd_auc_pareto_frontier.csv', index=False, header=True)\n",
    "sd_str_list = df_models.iloc[:, 0].tolist()\n",
    "sd_float_list = [float(x) for x in sd_str_list]\n",
    "auc_str_list = df_models.iloc[:, -1].tolist()\n",
    "auc_float_list = [float(x) for x in auc_str_list]"
   ]
  },
  {
   "cell_type": "code",
   "execution_count": 36,
   "metadata": {},
   "outputs": [],
   "source": [
    "pf_X, pf_Y = get_pareto_frontier(Xs=sd_float_list,Ys=auc_float_list)"
   ]
  },
  {
   "cell_type": "code",
   "execution_count": 37,
   "metadata": {},
   "outputs": [],
   "source": [
    "#Eliminate all 0's in pf_X and corresponding points in pf_Y \n",
    "i = 0 \n",
    "while i < len(pf_X):\n",
    "    if pf_X[i] != 0:\n",
    "        i += 1\n",
    "    else:\n",
    "        del(pf_X[i])\n",
    "        del(pf_Y[i])\n",
    "#Eliminate all 0's in sd_float_list and corresponding points in auc_float_listY \n",
    "i = 0 \n",
    "while i < len(sd_float_list):\n",
    "    if sd_float_list[i] != 0:\n",
    "        i += 1\n",
    "    else:\n",
    "        del(sd_float_list[i])\n",
    "        del(auc_float_list[i])"
   ]
  },
  {
   "cell_type": "code",
   "execution_count": 38,
   "metadata": {},
   "outputs": [
    {
     "name": "stdout",
     "output_type": "stream",
     "text": [
      "Baseline Statistical Disparity:  0.75\n",
      "Baseline Area Under Curve:  0.74 \n",
      "\n",
      "Optimized Statistical Disparity:  0.43\n",
      "Optimized Area Under Curve:  0.72 \n",
      "\n"
     ]
    },
    {
     "data": {
      "image/png": "[encoded data removed]",
      "text/plain": [
       "<Figure size 432x288 with 1 Axes>"
      ]
     },
     "metadata": {
      "needs_background": "light"
     },
     "output_type": "display_data"
    }
   ],
   "source": [
    "%matplotlib inline\n",
    "from matplotlib import pyplot as plt\n",
    "\n",
    "#Worst one wihtout optimization - You can get thess baseline value from the values you found in Notebook 2\n",
    "baseline_sd = 0.75 \n",
    "baseline_auc = 0.74\n",
    "\n",
    "#REAL ONE After optimization - follow steps from Notebook 2 for the training job created in this notebook to find these values. \n",
    "optimized_sd = 0.43\n",
    "optimized_auc = 0.72\n",
    "#combined = 0.75\n",
    "ax = plt.subplots()\n",
    "#Add grid \n",
    "plt.grid()\n",
    "\n",
    "#Graph pareto front chart \n",
    "plt.title(\"Pareto Chart\")\n",
    "plt.xlabel(\"Difference in Positive Proportions in Predicted Labels (DPPL)\")\n",
    "plt.ylabel(\"Area Under Curve (AUC)\")\n",
    "\n",
    "#Plot co ordinates \n",
    "plt.plot(pf_X, pf_Y, linestyle='--', linewidth=3, marker='o', c='#8B8000', mfc='b')\n",
    "#Plot additional points\n",
    "plt.plot(sd_float_list, auc_float_list, linestyle='None', marker='o', markersize=3, color='#86C5DA')\n",
    "#Show baseline SD & AUC \n",
    "plt.plot(baseline_sd, baseline_auc, \"ro\", markersize='10', label=(\"Baseline (\"+str(baseline_sd)+\", \"+str(baseline_auc)+\")\"))\n",
    "#Show optimized SD & AUC  \n",
    "plt.plot(optimized_sd, optimized_auc, \"gv\", markersize='10', label=(\"Optimized (\"+str(optimized_sd)+\", \"+str(optimized_auc)+\")\"))\n",
    "#Legend\n",
    "plt.legend(loc=\"lower left\")\n",
    "\n",
    "#Print Baseline Values \n",
    "print(\"Baseline Statistical Disparity: \",baseline_sd)\n",
    "print(\"Baseline Area Under Curve: \",baseline_auc,\"\\n\")\n",
    "\n",
    "#Print Optimized Values\n",
    "print(\"Optimized Statistical Disparity: \",optimized_sd)\n",
    "print(\"Optimized Area Under Curve: \",optimized_auc,\"\\n\")"
   ]
  },
  {
   "cell_type": "markdown",
   "metadata": {},
   "source": [
    "### The cell below provides a range of visualization for the tuning job above. This visualization and its libraries were provided by the following repo:\n",
    "\n",
    "https://github.com/aws-samples/amazon-sagemaker-amt-visualize/blob/main/1_tuning_of_builtin_xgboost.ipynb "
   ]
  },
  {
   "cell_type": "code",
   "execution_count": 39,
   "metadata": {},
   "outputs": [
    {
     "name": "stdout",
     "output_type": "stream",
     "text": [
      "Setting altair renderer to default.\n",
      "Tuning job xgb-tuner-27-00-32-14     status: Completed\n",
      "\n",
      "Number of training jobs with valid objective: 100\n",
      "Lowest: 0.5139889717102051 Highest 0.6838629841804504\n"
     ]
    },
    {
     "data": {
      "text/html": [
       "<div>\n",
       "<style scoped>\n",
       "    .dataframe tbody tr th:only-of-type {\n",
       "        vertical-align: middle;\n",
       "    }\n",
       "\n",
       "    .dataframe tbody tr th {\n",
       "        vertical-align: top;\n",
       "    }\n",
       "\n",
       "    .dataframe thead th {\n",
       "        text-align: right;\n",
       "    }\n",
       "</style>\n",
       "<table border=\"1\" class=\"dataframe\">\n",
       "  <thead>\n",
       "    <tr style=\"text-align: right;\">\n",
       "      <th></th>\n",
       "      <th>eta</th>\n",
       "      <th>gamma</th>\n",
       "      <th>max_depth</th>\n",
       "      <th>min_child_weight</th>\n",
       "      <th>TrainingJobName</th>\n",
       "      <th>TrainingJobStatus</th>\n",
       "      <th>TrainingStartTime</th>\n",
       "      <th>TrainingEndTime</th>\n",
       "      <th>TrainingElapsedTimeSeconds</th>\n",
       "      <th>TuningJobName</th>\n",
       "      <th>validation:auc</th>\n",
       "    </tr>\n",
       "  </thead>\n",
       "  <tbody>\n",
       "    <tr>\n",
       "      <th>48</th>\n",
       "      <td>0.548612</td>\n",
       "      <td>0.012421</td>\n",
       "      <td>4.0</td>\n",
       "      <td>0.000066</td>\n",
       "      <td>xgb-tuner-27-00-32-14-052-be514283</td>\n",
       "      <td>Completed</td>\n",
       "      <td>2023-01-27 00:39:38+00:00</td>\n",
       "      <td>2023-01-27 00:40:47+00:00</td>\n",
       "      <td>69.0</td>\n",
       "      <td>xgb-tuner-27-00-32-14</td>\n",
       "      <td>0.683863</td>\n",
       "    </tr>\n",
       "    <tr>\n",
       "      <th>68</th>\n",
       "      <td>0.544451</td>\n",
       "      <td>0.000904</td>\n",
       "      <td>4.0</td>\n",
       "      <td>0.000078</td>\n",
       "      <td>xgb-tuner-27-00-32-14-032-c6499eb4</td>\n",
       "      <td>Completed</td>\n",
       "      <td>2023-01-27 00:37:02+00:00</td>\n",
       "      <td>2023-01-27 00:37:40+00:00</td>\n",
       "      <td>38.0</td>\n",
       "      <td>xgb-tuner-27-00-32-14</td>\n",
       "      <td>0.678610</td>\n",
       "    </tr>\n",
       "    <tr>\n",
       "      <th>71</th>\n",
       "      <td>0.643851</td>\n",
       "      <td>0.000088</td>\n",
       "      <td>4.0</td>\n",
       "      <td>0.000003</td>\n",
       "      <td>xgb-tuner-27-00-32-14-029-43d2f514</td>\n",
       "      <td>Completed</td>\n",
       "      <td>2023-01-27 00:36:36+00:00</td>\n",
       "      <td>2023-01-27 00:37:08+00:00</td>\n",
       "      <td>32.0</td>\n",
       "      <td>xgb-tuner-27-00-32-14</td>\n",
       "      <td>0.677474</td>\n",
       "    </tr>\n",
       "    <tr>\n",
       "      <th>86</th>\n",
       "      <td>0.648377</td>\n",
       "      <td>0.000098</td>\n",
       "      <td>4.0</td>\n",
       "      <td>0.000018</td>\n",
       "      <td>xgb-tuner-27-00-32-14-014-7c090c65</td>\n",
       "      <td>Completed</td>\n",
       "      <td>2023-01-27 00:35:18+00:00</td>\n",
       "      <td>2023-01-27 00:35:50+00:00</td>\n",
       "      <td>32.0</td>\n",
       "      <td>xgb-tuner-27-00-32-14</td>\n",
       "      <td>0.669266</td>\n",
       "    </tr>\n",
       "    <tr>\n",
       "      <th>81</th>\n",
       "      <td>0.718554</td>\n",
       "      <td>0.054962</td>\n",
       "      <td>4.0</td>\n",
       "      <td>0.000013</td>\n",
       "      <td>xgb-tuner-27-00-32-14-019-b6885f1d</td>\n",
       "      <td>Completed</td>\n",
       "      <td>2023-01-27 00:35:35+00:00</td>\n",
       "      <td>2023-01-27 00:36:12+00:00</td>\n",
       "      <td>37.0</td>\n",
       "      <td>xgb-tuner-27-00-32-14</td>\n",
       "      <td>0.667242</td>\n",
       "    </tr>\n",
       "    <tr>\n",
       "      <th>35</th>\n",
       "      <td>0.524844</td>\n",
       "      <td>0.066738</td>\n",
       "      <td>3.0</td>\n",
       "      <td>0.000008</td>\n",
       "      <td>xgb-tuner-27-00-32-14-065-f1f06d11</td>\n",
       "      <td>Completed</td>\n",
       "      <td>2023-01-27 00:40:21+00:00</td>\n",
       "      <td>2023-01-27 00:40:58+00:00</td>\n",
       "      <td>37.0</td>\n",
       "      <td>xgb-tuner-27-00-32-14</td>\n",
       "      <td>0.665081</td>\n",
       "    </tr>\n",
       "    <tr>\n",
       "      <th>87</th>\n",
       "      <td>0.611708</td>\n",
       "      <td>0.000091</td>\n",
       "      <td>4.0</td>\n",
       "      <td>0.004199</td>\n",
       "      <td>xgb-tuner-27-00-32-14-013-e0d8f46a</td>\n",
       "      <td>Completed</td>\n",
       "      <td>2023-01-27 00:35:16+00:00</td>\n",
       "      <td>2023-01-27 00:35:53+00:00</td>\n",
       "      <td>37.0</td>\n",
       "      <td>xgb-tuner-27-00-32-14</td>\n",
       "      <td>0.663159</td>\n",
       "    </tr>\n",
       "    <tr>\n",
       "      <th>44</th>\n",
       "      <td>0.730583</td>\n",
       "      <td>0.002627</td>\n",
       "      <td>4.0</td>\n",
       "      <td>0.000487</td>\n",
       "      <td>xgb-tuner-27-00-32-14-056-250a354c</td>\n",
       "      <td>Completed</td>\n",
       "      <td>2023-01-27 00:39:24+00:00</td>\n",
       "      <td>2023-01-27 00:40:01+00:00</td>\n",
       "      <td>37.0</td>\n",
       "      <td>xgb-tuner-27-00-32-14</td>\n",
       "      <td>0.659589</td>\n",
       "    </tr>\n",
       "    <tr>\n",
       "      <th>88</th>\n",
       "      <td>0.474216</td>\n",
       "      <td>0.000016</td>\n",
       "      <td>3.0</td>\n",
       "      <td>0.000453</td>\n",
       "      <td>xgb-tuner-27-00-32-14-012-33b1a582</td>\n",
       "      <td>Completed</td>\n",
       "      <td>2023-01-27 00:35:14+00:00</td>\n",
       "      <td>2023-01-27 00:35:51+00:00</td>\n",
       "      <td>37.0</td>\n",
       "      <td>xgb-tuner-27-00-32-14</td>\n",
       "      <td>0.658692</td>\n",
       "    </tr>\n",
       "    <tr>\n",
       "      <th>40</th>\n",
       "      <td>0.498717</td>\n",
       "      <td>0.000230</td>\n",
       "      <td>5.0</td>\n",
       "      <td>0.000013</td>\n",
       "      <td>xgb-tuner-27-00-32-14-060-c903e078</td>\n",
       "      <td>Completed</td>\n",
       "      <td>2023-01-27 00:39:45+00:00</td>\n",
       "      <td>2023-01-27 00:40:22+00:00</td>\n",
       "      <td>37.0</td>\n",
       "      <td>xgb-tuner-27-00-32-14</td>\n",
       "      <td>0.657385</td>\n",
       "    </tr>\n",
       "  </tbody>\n",
       "</table>\n",
       "</div>"
      ],
      "text/plain": [
       "         eta     gamma  max_depth  min_child_weight                     TrainingJobName TrainingJobStatus         TrainingStartTime           TrainingEndTime  TrainingElapsedTimeSeconds          TuningJobName  validation:auc\n",
       "48  0.548612  0.012421        4.0          0.000066  xgb-tuner-27-00-32-14-052-be514283         Completed 2023-01-27 00:39:38+00:00 2023-01-27 00:40:47+00:00                        69.0  xgb-tuner-27-00-32-14        0.683863\n",
       "68  0.544451  0.000904        4.0          0.000078  xgb-tuner-27-00-32-14-032-c6499eb4         Completed 2023-01-27 00:37:02+00:00 2023-01-27 00:37:40+00:00                        38.0  xgb-tuner-27-00-32-14        0.678610\n",
       "71  0.643851  0.000088        4.0          0.000003  xgb-tuner-27-00-32-14-029-43d2f514         Completed 2023-01-27 00:36:36+00:00 2023-01-27 00:37:08+00:00                        32.0  xgb-tuner-27-00-32-14        0.677474\n",
       "86  0.648377  0.000098        4.0          0.000018  xgb-tuner-27-00-32-14-014-7c090c65         Completed 2023-01-27 00:35:18+00:00 2023-01-27 00:35:50+00:00                        32.0  xgb-tuner-27-00-32-14        0.669266\n",
       "81  0.718554  0.054962        4.0          0.000013  xgb-tuner-27-00-32-14-019-b6885f1d         Completed 2023-01-27 00:35:35+00:00 2023-01-27 00:36:12+00:00                        37.0  xgb-tuner-27-00-32-14        0.667242\n",
       "35  0.524844  0.066738        3.0          0.000008  xgb-tuner-27-00-32-14-065-f1f06d11         Completed 2023-01-27 00:40:21+00:00 2023-01-27 00:40:58+00:00                        37.0  xgb-tuner-27-00-32-14        0.665081\n",
       "87  0.611708  0.000091        4.0          0.004199  xgb-tuner-27-00-32-14-013-e0d8f46a         Completed 2023-01-27 00:35:16+00:00 2023-01-27 00:35:53+00:00                        37.0  xgb-tuner-27-00-32-14        0.663159\n",
       "44  0.730583  0.002627        4.0          0.000487  xgb-tuner-27-00-32-14-056-250a354c         Completed 2023-01-27 00:39:24+00:00 2023-01-27 00:40:01+00:00                        37.0  xgb-tuner-27-00-32-14        0.659589\n",
       "88  0.474216  0.000016        3.0          0.000453  xgb-tuner-27-00-32-14-012-33b1a582         Completed 2023-01-27 00:35:14+00:00 2023-01-27 00:35:51+00:00                        37.0  xgb-tuner-27-00-32-14        0.658692\n",
       "40  0.498717  0.000230        5.0          0.000013  xgb-tuner-27-00-32-14-060-c903e078         Completed 2023-01-27 00:39:45+00:00 2023-01-27 00:40:22+00:00                        37.0  xgb-tuner-27-00-32-14        0.657385"
      ]
     },
     "metadata": {},
     "output_type": "display_data"
    },
    {
     "data": {
      "text/html": [
       "\n",
       "<div id=\"altair-viz-c13ea55423a44be48e3c0000e243f37c\"></div>\n",
       "<script type=\"text/javascript\">\n",
       "  var VEGA_DEBUG = (typeof VEGA_DEBUG == \"undefined\") ? {} : VEGA_DEBUG;\n",
       "  (function(spec, embedOpt){\n",
       "    let outputDiv = document.currentScript.previousElementSibling;\n",
       "    if (outputDiv.id !== \"altair-viz-c13ea55423a44be48e3c0000e243f37c\") {\n",
       "      outputDiv = document.getElementById(\"altair-viz-c13ea55423a44be48e3c0000e243f37c\");\n",
       "    }\n",
       "    const paths = {\n",
       "      \"vega\": \"https://cdn.jsdelivr.net/npm//vega@5?noext\",\n",
       "      \"vega-lib\": \"https://cdn.jsdelivr.net/npm//vega-lib?noext\",\n",
       "      \"vega-lite\": \"https://cdn.jsdelivr.net/npm//vega-lite@4.17.0?noext\",\n",
       "      \"vega-embed\": \"https://cdn.jsdelivr.net/npm//vega-embed@6?noext\",\n",
       "    };\n",
       "\n",
       "    function maybeLoadScript(lib, version) {\n",
       "      var key = `${lib.replace(\"-\", \"\")}_version`;\n",
       "      return (VEGA_DEBUG[key] == version) ?\n",
       "        Promise.resolve(paths[lib]) :\n",
       "        new Promise(function(resolve, reject) {\n",
       "          var s = document.createElement('script');\n",
       "          document.getElementsByTagName(\"head\")[0].appendChild(s);\n",
       "          s.async = true;\n",
       "          s.onload = () => {\n",
       "            VEGA_DEBUG[key] = version;\n",
       "            return resolve(paths[lib]);\n",
       "          };\n",
       "          s.onerror = () => reject(`Error loading script: ${paths[lib]}`);\n",
       "          s.src = paths[lib];\n",
       "        });\n",
       "    }\n",
       "\n",
       "    function showError(err) {\n",
       "      outputDiv.innerHTML = `<div class=\"error\" style=\"color:red;\">${err}</div>`;\n",
       "      throw err;\n",
       "    }\n",
       "\n",
       "    function displayChart(vegaEmbed) {\n",
       "      vegaEmbed(outputDiv, spec, embedOpt)\n",
       "        .catch(err => showError(`Javascript Error: ${err.message}<br>This usually means there's a typo in your chart specification. See the javascript console for the full traceback.`));\n",
       "    }\n",
       "\n",
       "    if(typeof define === \"function\" && define.amd) {\n",
       "      requirejs.config({paths});\n",
       "      require([\"vega-embed\"], displayChart, err => showError(`Error loading script: ${err.message}`));\n",
       "    } else {\n",
       "      maybeLoadScript(\"vega\", \"5\")\n",
       "        .then(() => maybeLoadScript(\"vega-lite\", \"4.17.0\"))\n",
       "        .then(() => maybeLoadScript(\"vega-embed\", \"6\"))\n",
       "        .catch(showError)\n",
       "        .then(() => displayChart(vegaEmbed));\n",
       "    }\n",
       "  })({\"config\": {\"view\": {\"continuousWidth\": 400, \"continuousHeight\": 300}}, \"vconcat\": [{\"hconcat\": [{\"data\": {\"name\": \"data-f26873eab29b9ada687d90f08124ec78\"}, \"mark\": {\"type\": \"point\", \"filled\": true, \"size\": 50}, \"encoding\": {\"opacity\": {\"condition\": {\"value\": 1.0, \"selection\": \"selector001\"}, \"value\": 0.35}, \"shape\": {\"field\": \"TrainingJobStatus\", \"legend\": {\"orient\": \"right\"}, \"type\": \"nominal\"}, \"stroke\": {\"condition\": {\"value\": \"gold\", \"selection\": \"selector002\"}, \"value\": \"white\"}, \"strokeWidth\": {\"condition\": {\"value\": 2.0, \"selection\": \"selector002\"}, \"value\": 2.0}, \"tooltip\": [{\"field\": \"validation:auc\", \"format\": \".2e\", \"type\": \"quantitative\"}, {\"field\": \"max_depth\", \"format\": \".2e\", \"type\": \"quantitative\"}, {\"field\": \"eta\", \"format\": \".2e\", \"type\": \"quantitative\"}, {\"field\": \"min_child_weight\", \"format\": \".2e\", \"type\": \"quantitative\"}, {\"field\": \"gamma\", \"format\": \".2e\", \"type\": \"quantitative\"}, {\"field\": \"TrainingStartTime\", \"format\": \"%H:%M:%S\", \"type\": \"temporal\"}, {\"field\": \"TrainingJobName\", \"type\": \"nominal\"}, {\"field\": \"TrainingJobStatus\", \"type\": \"nominal\"}, {\"field\": \"TrainingElapsedTimeSeconds\", \"type\": \"quantitative\"}], \"x\": {\"field\": \"TrainingStartTime\", \"scale\": {\"nice\": true}, \"type\": \"temporal\"}, \"y\": {\"axis\": {\"title\": \"validation:auc\"}, \"field\": \"validation:auc\", \"scale\": {\"padding\": 1, \"zero\": false}, \"type\": \"quantitative\"}}, \"selection\": {\"selector001\": {\"type\": \"interval\", \"encodings\": [\"x\"], \"resolve\": \"intersect\", \"empty\": \"all\"}, \"selector002\": {\"type\": \"single\", \"on\": \"mouseover\", \"nearest\": false, \"empty\": \"none\", \"fields\": [\"TrainingJobName\", \"TrainingStartTime\"]}}}, {\"data\": {\"name\": \"data-fecc53e78f00018ef281b1899ead01c4\"}, \"mark\": \"area\", \"encoding\": {\"x\": {\"field\": \"value\", \"scale\": {\"domain\": [0.5139889717102051, 0.6838629841804504]}, \"title\": \"validation:auc\", \"type\": \"quantitative\"}, \"y\": {\"field\": \"density\", \"type\": \"quantitative\"}}, \"transform\": [{\"filter\": {\"selection\": \"selector001\"}}, {\"density\": \"validation:auc\", \"bandwidth\": 0.01}]}], \"title\": \"Hyper Parameter Tuning Job\"}, {\"vconcat\": [{\"hconcat\": [{\"mark\": {\"type\": \"point\", \"filled\": true, \"size\": 50}, \"encoding\": {\"opacity\": {\"condition\": {\"value\": 1.0, \"selection\": \"selector001\"}, \"value\": 0.35}, \"shape\": {\"field\": \"TrainingJobStatus\", \"legend\": {\"orient\": \"right\"}, \"type\": \"nominal\"}, \"stroke\": {\"condition\": {\"value\": \"gold\", \"selection\": \"selector002\"}, \"value\": \"white\"}, \"strokeWidth\": {\"condition\": {\"value\": 2.0, \"selection\": \"selector002\"}, \"value\": 2.0}, \"tooltip\": [{\"field\": \"validation:auc\", \"format\": \".2e\", \"type\": \"quantitative\"}, {\"field\": \"max_depth\", \"format\": \".2e\", \"type\": \"quantitative\"}, {\"field\": \"eta\", \"format\": \".2e\", \"type\": \"quantitative\"}, {\"field\": \"min_child_weight\", \"format\": \".2e\", \"type\": \"quantitative\"}, {\"field\": \"gamma\", \"format\": \".2e\", \"type\": \"quantitative\"}, {\"field\": \"TrainingStartTime\", \"format\": \"%H:%M:%S\", \"type\": \"temporal\"}, {\"field\": \"TrainingJobName\", \"type\": \"nominal\"}, {\"field\": \"TrainingJobStatus\", \"type\": \"nominal\"}, {\"field\": \"TrainingElapsedTimeSeconds\", \"type\": \"quantitative\"}], \"x\": {\"field\": \"max_depth\", \"scale\": {\"base\": 10, \"padding\": 1, \"type\": \"linear\", \"zero\": false}, \"type\": \"quantitative\"}, \"y\": {\"axis\": {\"title\": \"validation:auc\"}, \"field\": \"validation:auc\", \"scale\": {\"padding\": 1, \"zero\": false}, \"type\": \"quantitative\"}}, \"selection\": {\"selector001\": {\"type\": \"interval\", \"encodings\": [\"x\"], \"resolve\": \"intersect\", \"empty\": \"all\"}, \"selector002\": {\"type\": \"single\", \"on\": \"mouseover\", \"nearest\": false, \"empty\": \"none\", \"fields\": [\"TrainingJobName\", \"TrainingStartTime\"]}}, \"title\": \"max_depth\"}, {\"mark\": {\"type\": \"point\", \"filled\": true, \"size\": 50}, \"encoding\": {\"opacity\": {\"condition\": {\"value\": 1.0, \"selection\": \"selector001\"}, \"value\": 0.35}, \"shape\": {\"field\": \"TrainingJobStatus\", \"legend\": {\"orient\": \"right\"}, \"type\": \"nominal\"}, \"stroke\": {\"condition\": {\"value\": \"gold\", \"selection\": \"selector002\"}, \"value\": \"white\"}, \"strokeWidth\": {\"condition\": {\"value\": 2.0, \"selection\": \"selector002\"}, \"value\": 2.0}, \"tooltip\": [{\"field\": \"validation:auc\", \"format\": \".2e\", \"type\": \"quantitative\"}, {\"field\": \"max_depth\", \"format\": \".2e\", \"type\": \"quantitative\"}, {\"field\": \"eta\", \"format\": \".2e\", \"type\": \"quantitative\"}, {\"field\": \"min_child_weight\", \"format\": \".2e\", \"type\": \"quantitative\"}, {\"field\": \"gamma\", \"format\": \".2e\", \"type\": \"quantitative\"}, {\"field\": \"TrainingStartTime\", \"format\": \"%H:%M:%S\", \"type\": \"temporal\"}, {\"field\": \"TrainingJobName\", \"type\": \"nominal\"}, {\"field\": \"TrainingJobStatus\", \"type\": \"nominal\"}, {\"field\": \"TrainingElapsedTimeSeconds\", \"type\": \"quantitative\"}], \"x\": {\"field\": \"eta\", \"scale\": {\"base\": 10, \"padding\": 1, \"type\": \"linear\", \"zero\": false}, \"type\": \"quantitative\"}, \"y\": {\"axis\": {\"title\": \"validation:auc\"}, \"field\": \"validation:auc\", \"scale\": {\"padding\": 1, \"zero\": false}, \"type\": \"quantitative\"}}, \"selection\": {\"selector001\": {\"type\": \"interval\", \"encodings\": [\"x\"], \"resolve\": \"intersect\", \"empty\": \"all\"}, \"selector002\": {\"type\": \"single\", \"on\": \"mouseover\", \"nearest\": false, \"empty\": \"none\", \"fields\": [\"TrainingJobName\", \"TrainingStartTime\"]}}, \"title\": \"eta\"}]}, {\"hconcat\": [{\"mark\": {\"type\": \"point\", \"filled\": true, \"size\": 50}, \"encoding\": {\"opacity\": {\"condition\": {\"value\": 1.0, \"selection\": \"selector001\"}, \"value\": 0.35}, \"shape\": {\"field\": \"TrainingJobStatus\", \"legend\": {\"orient\": \"right\"}, \"type\": \"nominal\"}, \"stroke\": {\"condition\": {\"value\": \"gold\", \"selection\": \"selector002\"}, \"value\": \"white\"}, \"strokeWidth\": {\"condition\": {\"value\": 2.0, \"selection\": \"selector002\"}, \"value\": 2.0}, \"tooltip\": [{\"field\": \"validation:auc\", \"format\": \".2e\", \"type\": \"quantitative\"}, {\"field\": \"max_depth\", \"format\": \".2e\", \"type\": \"quantitative\"}, {\"field\": \"eta\", \"format\": \".2e\", \"type\": \"quantitative\"}, {\"field\": \"min_child_weight\", \"format\": \".2e\", \"type\": \"quantitative\"}, {\"field\": \"gamma\", \"format\": \".2e\", \"type\": \"quantitative\"}, {\"field\": \"TrainingStartTime\", \"format\": \"%H:%M:%S\", \"type\": \"temporal\"}, {\"field\": \"TrainingJobName\", \"type\": \"nominal\"}, {\"field\": \"TrainingJobStatus\", \"type\": \"nominal\"}, {\"field\": \"TrainingElapsedTimeSeconds\", \"type\": \"quantitative\"}], \"x\": {\"field\": \"min_child_weight\", \"scale\": {\"base\": 10, \"padding\": 1, \"type\": \"linear\", \"zero\": false}, \"type\": \"quantitative\"}, \"y\": {\"axis\": {\"title\": \"validation:auc\"}, \"field\": \"validation:auc\", \"scale\": {\"padding\": 1, \"zero\": false}, \"type\": \"quantitative\"}}, \"selection\": {\"selector001\": {\"type\": \"interval\", \"encodings\": [\"x\"], \"resolve\": \"intersect\", \"empty\": \"all\"}, \"selector002\": {\"type\": \"single\", \"on\": \"mouseover\", \"nearest\": false, \"empty\": \"none\", \"fields\": [\"TrainingJobName\", \"TrainingStartTime\"]}}, \"title\": \"min_child_weight\"}, {\"mark\": {\"type\": \"point\", \"filled\": true, \"size\": 50}, \"encoding\": {\"opacity\": {\"condition\": {\"value\": 1.0, \"selection\": \"selector001\"}, \"value\": 0.35}, \"shape\": {\"field\": \"TrainingJobStatus\", \"legend\": {\"orient\": \"right\"}, \"type\": \"nominal\"}, \"stroke\": {\"condition\": {\"value\": \"gold\", \"selection\": \"selector002\"}, \"value\": \"white\"}, \"strokeWidth\": {\"condition\": {\"value\": 2.0, \"selection\": \"selector002\"}, \"value\": 2.0}, \"tooltip\": [{\"field\": \"validation:auc\", \"format\": \".2e\", \"type\": \"quantitative\"}, {\"field\": \"max_depth\", \"format\": \".2e\", \"type\": \"quantitative\"}, {\"field\": \"eta\", \"format\": \".2e\", \"type\": \"quantitative\"}, {\"field\": \"min_child_weight\", \"format\": \".2e\", \"type\": \"quantitative\"}, {\"field\": \"gamma\", \"format\": \".2e\", \"type\": \"quantitative\"}, {\"field\": \"TrainingStartTime\", \"format\": \"%H:%M:%S\", \"type\": \"temporal\"}, {\"field\": \"TrainingJobName\", \"type\": \"nominal\"}, {\"field\": \"TrainingJobStatus\", \"type\": \"nominal\"}, {\"field\": \"TrainingElapsedTimeSeconds\", \"type\": \"quantitative\"}], \"x\": {\"field\": \"gamma\", \"scale\": {\"base\": 10, \"padding\": 1, \"type\": \"linear\", \"zero\": false}, \"type\": \"quantitative\"}, \"y\": {\"axis\": {\"title\": \"validation:auc\"}, \"field\": \"validation:auc\", \"scale\": {\"padding\": 1, \"zero\": false}, \"type\": \"quantitative\"}}, \"selection\": {\"selector001\": {\"type\": \"interval\", \"encodings\": [\"x\"], \"resolve\": \"intersect\", \"empty\": \"all\"}, \"selector002\": {\"type\": \"single\", \"on\": \"mouseover\", \"nearest\": false, \"empty\": \"none\", \"fields\": [\"TrainingJobName\", \"TrainingStartTime\"]}}, \"title\": \"gamma\"}]}], \"data\": {\"name\": \"data-fecc53e78f00018ef281b1899ead01c4\"}, \"title\": \"Hyper Parameter Details\"}, {\"vconcat\": [{\"data\": {\"name\": \"data-5238f5a4d312dd54b87b172e602eb59b\"}, \"mark\": \"bar\", \"encoding\": {\"color\": {\"field\": \"TrainingJobName\", \"type\": \"nominal\"}, \"opacity\": {\"condition\": {\"value\": 1.0, \"selection\": \"selector001\"}, \"value\": 0.35}, \"shape\": {\"field\": \"TrainingJobStatus\", \"legend\": {\"orient\": \"right\"}, \"type\": \"nominal\"}, \"stroke\": {\"condition\": {\"value\": \"gold\", \"selection\": \"selector002\"}, \"value\": \"white\"}, \"strokeWidth\": {\"condition\": {\"value\": 2.0, \"selection\": \"selector002\"}, \"value\": 2.0}, \"x\": {\"field\": \"TrainingJobName\", \"sort\": null, \"type\": \"nominal\"}, \"y\": {\"field\": \"validation:auc\", \"type\": \"quantitative\"}}, \"selection\": {\"selector001\": {\"type\": \"interval\", \"encodings\": [\"x\"], \"resolve\": \"intersect\", \"empty\": \"all\"}, \"selector002\": {\"type\": \"single\", \"on\": \"mouseover\", \"nearest\": false, \"empty\": \"none\", \"fields\": [\"TrainingJobName\", \"TrainingStartTime\"]}}, \"title\": \"Training Jobs\"}, {\"hconcat\": []}]}], \"$schema\": \"https://vega.github.io/schema/vega-lite/v4.17.0.json\", \"datasets\": {\"data-f26873eab29b9ada687d90f08124ec78\": [{\"eta\": 0.013543863501630829, \"gamma\": 0.0004029332978850028, \"max_depth\": 9.0, \"min_child_weight\": 0.052027285932234095, \"TrainingJobName\": \"xgb-tuner-27-00-32-14-003-2d579a1a\", \"TrainingJobStatus\": \"Completed\", \"TrainingStartTime\": \"2023-01-27T00:33:22+00:00\", \"TrainingEndTime\": \"2023-01-27T00:34:39+00:00\", \"TrainingElapsedTimeSeconds\": 77.0, \"TuningJobName\": \"xgb-tuner-27-00-32-14\", \"validation:auc\": 0.609794020652771, \"cum_objective\": 0.609794020652771}, {\"eta\": 0.010073624418892245, \"gamma\": 0.00830111922327891, \"max_depth\": 10.0, \"min_child_weight\": 1.332321132991865e-06, \"TrainingJobName\": \"xgb-tuner-27-00-32-14-001-e0716914\", \"TrainingJobStatus\": \"Completed\", \"TrainingStartTime\": \"2023-01-27T00:33:22+00:00\", \"TrainingEndTime\": \"2023-01-27T00:34:40+00:00\", \"TrainingElapsedTimeSeconds\": 78.0, \"TuningJobName\": \"xgb-tuner-27-00-32-14\", \"validation:auc\": 0.6080089807510376, \"cum_objective\": 0.609794020652771}, {\"eta\": 0.0010541823483447964, \"gamma\": 4.561402554645153, \"max_depth\": 7.0, \"min_child_weight\": 4.185622053111299e-05, \"TrainingJobName\": \"xgb-tuner-27-00-32-14-002-e59c9219\", \"TrainingJobStatus\": \"Completed\", \"TrainingStartTime\": \"2023-01-27T00:33:24+00:00\", \"TrainingEndTime\": \"2023-01-27T00:34:41+00:00\", \"TrainingElapsedTimeSeconds\": 77.0, \"TuningJobName\": \"xgb-tuner-27-00-32-14\", \"validation:auc\": 0.5760400295257568, \"cum_objective\": 0.609794020652771}, {\"eta\": 0.01867871933339653, \"gamma\": 2.310021994378056, \"max_depth\": 4.0, \"min_child_weight\": 2.0972130546587433, \"TrainingJobName\": \"xgb-tuner-27-00-32-14-004-a80ee129\", \"TrainingJobStatus\": \"Completed\", \"TrainingStartTime\": \"2023-01-27T00:33:25+00:00\", \"TrainingEndTime\": \"2023-01-27T00:34:42+00:00\", \"TrainingElapsedTimeSeconds\": 77.0, \"TuningJobName\": \"xgb-tuner-27-00-32-14\", \"validation:auc\": 0.5862380266189575, \"cum_objective\": 0.609794020652771}, {\"eta\": 0.20899995791647452, \"gamma\": 5.361248928379038, \"max_depth\": 8.0, \"min_child_weight\": 0.00036706380775793546, \"TrainingJobName\": \"xgb-tuner-27-00-32-14-005-6e179ef5\", \"TrainingJobStatus\": \"Completed\", \"TrainingStartTime\": \"2023-01-27T00:33:26+00:00\", \"TrainingEndTime\": \"2023-01-27T00:34:43+00:00\", \"TrainingElapsedTimeSeconds\": 77.0, \"TuningJobName\": \"xgb-tuner-27-00-32-14\", \"validation:auc\": 0.5898759961128235, \"cum_objective\": 0.609794020652771}, {\"eta\": 0.24298491654676221, \"gamma\": 0.0008399557896829198, \"max_depth\": 3.0, \"min_child_weight\": 0.4534994327450448, \"TrainingJobName\": \"xgb-tuner-27-00-32-14-006-e33efcce\", \"TrainingJobStatus\": \"Completed\", \"TrainingStartTime\": \"2023-01-27T00:33:31+00:00\", \"TrainingEndTime\": \"2023-01-27T00:34:43+00:00\", \"TrainingElapsedTimeSeconds\": 72.0, \"TuningJobName\": \"xgb-tuner-27-00-32-14\", \"validation:auc\": 0.6130229830741882, \"cum_objective\": 0.6130229830741882}, {\"eta\": 0.046091054776706754, \"gamma\": 0.0002660269618959971, \"max_depth\": 3.0, \"min_child_weight\": 1.7287015364459517, \"TrainingJobName\": \"xgb-tuner-27-00-32-14-007-caed6a48\", \"TrainingJobStatus\": \"Completed\", \"TrainingStartTime\": \"2023-01-27T00:33:32+00:00\", \"TrainingEndTime\": \"2023-01-27T00:34:44+00:00\", \"TrainingElapsedTimeSeconds\": 72.0, \"TuningJobName\": \"xgb-tuner-27-00-32-14\", \"validation:auc\": 0.5995619893074036, \"cum_objective\": 0.6130229830741882}, {\"eta\": 0.05926693990698721, \"gamma\": 2.0554471206930995, \"max_depth\": 6.0, \"min_child_weight\": 0.38445170251237426, \"TrainingJobName\": \"xgb-tuner-27-00-32-14-008-7f378c87\", \"TrainingJobStatus\": \"Completed\", \"TrainingStartTime\": \"2023-01-27T00:33:38+00:00\", \"TrainingEndTime\": \"2023-01-27T00:35:17+00:00\", \"TrainingElapsedTimeSeconds\": 99.0, \"TuningJobName\": \"xgb-tuner-27-00-32-14\", \"validation:auc\": 0.6063609719276428, \"cum_objective\": 0.6130229830741882}, {\"eta\": 0.8359471705611338, \"gamma\": 3.433551335861872e-05, \"max_depth\": 4.0, \"min_child_weight\": 0.22131803200080957, \"TrainingJobName\": \"xgb-tuner-27-00-32-14-009-fd63763a\", \"TrainingJobStatus\": \"Completed\", \"TrainingStartTime\": \"2023-01-27T00:33:40+00:00\", \"TrainingEndTime\": \"2023-01-27T00:34:57+00:00\", \"TrainingElapsedTimeSeconds\": 77.0, \"TuningJobName\": \"xgb-tuner-27-00-32-14\", \"validation:auc\": 0.6243219971656799, \"cum_objective\": 0.6243219971656799}, {\"eta\": 0.009629648790748435, \"gamma\": 0.0005607775630713392, \"max_depth\": 5.0, \"min_child_weight\": 0.36951204160629275, \"TrainingJobName\": \"xgb-tuner-27-00-32-14-010-858fb3f7\", \"TrainingJobStatus\": \"Completed\", \"TrainingStartTime\": \"2023-01-27T00:33:40+00:00\", \"TrainingEndTime\": \"2023-01-27T00:35:00+00:00\", \"TrainingElapsedTimeSeconds\": 80.0, \"TuningJobName\": \"xgb-tuner-27-00-32-14\", \"validation:auc\": 0.5842139720916748, \"cum_objective\": 0.6243219971656799}, {\"eta\": 1.0, \"gamma\": 1.0000000000000004e-06, \"max_depth\": 2.0, \"min_child_weight\": 2.715628905707335, \"TrainingJobName\": \"xgb-tuner-27-00-32-14-011-bd91024e\", \"TrainingJobStatus\": \"Completed\", \"TrainingStartTime\": \"2023-01-27T00:35:12+00:00\", \"TrainingEndTime\": \"2023-01-27T00:35:49+00:00\", \"TrainingElapsedTimeSeconds\": 37.0, \"TuningJobName\": \"xgb-tuner-27-00-32-14\", \"validation:auc\": 0.6465380191802979, \"cum_objective\": 0.6465380191802979}, {\"eta\": 0.47421550540709406, \"gamma\": 1.6056298953793463e-05, \"max_depth\": 3.0, \"min_child_weight\": 0.0004526933724432077, \"TrainingJobName\": \"xgb-tuner-27-00-32-14-012-33b1a582\", \"TrainingJobStatus\": \"Completed\", \"TrainingStartTime\": \"2023-01-27T00:35:14+00:00\", \"TrainingEndTime\": \"2023-01-27T00:35:51+00:00\", \"TrainingElapsedTimeSeconds\": 37.0, \"TuningJobName\": \"xgb-tuner-27-00-32-14\", \"validation:auc\": 0.6586920022964478, \"cum_objective\": 0.6586920022964478}, {\"eta\": 0.6117077699446535, \"gamma\": 9.091706117443728e-05, \"max_depth\": 4.0, \"min_child_weight\": 0.004199212213659081, \"TrainingJobName\": \"xgb-tuner-27-00-32-14-013-e0d8f46a\", \"TrainingJobStatus\": \"Completed\", \"TrainingStartTime\": \"2023-01-27T00:35:16+00:00\", \"TrainingEndTime\": \"2023-01-27T00:35:53+00:00\", \"TrainingElapsedTimeSeconds\": 37.0, \"TuningJobName\": \"xgb-tuner-27-00-32-14\", \"validation:auc\": 0.6631590127944946, \"cum_objective\": 0.6631590127944946}, {\"eta\": 0.6483771027602893, \"gamma\": 9.798457390479842e-05, \"max_depth\": 4.0, \"min_child_weight\": 1.762853305772171e-05, \"TrainingJobName\": \"xgb-tuner-27-00-32-14-014-7c090c65\", \"TrainingJobStatus\": \"Completed\", \"TrainingStartTime\": \"2023-01-27T00:35:18+00:00\", \"TrainingEndTime\": \"2023-01-27T00:35:50+00:00\", \"TrainingElapsedTimeSeconds\": 32.0, \"TuningJobName\": \"xgb-tuner-27-00-32-14\", \"validation:auc\": 0.6692659854888916, \"cum_objective\": 0.6692659854888916}, {\"eta\": 0.7161854399427349, \"gamma\": 2.5881420379136427e-05, \"max_depth\": 4.0, \"min_child_weight\": 0.06246576476759941, \"TrainingJobName\": \"xgb-tuner-27-00-32-14-015-ea31aea4\", \"TrainingJobStatus\": \"Completed\", \"TrainingStartTime\": \"2023-01-27T00:35:20+00:00\", \"TrainingEndTime\": \"2023-01-27T00:35:57+00:00\", \"TrainingElapsedTimeSeconds\": 37.0, \"TuningJobName\": \"xgb-tuner-27-00-32-14\", \"validation:auc\": 0.647707998752594, \"cum_objective\": 0.6692659854888916}, {\"eta\": 0.7526128662135111, \"gamma\": 1.56471042293834e-05, \"max_depth\": 4.0, \"min_child_weight\": 0.4039043614291203, \"TrainingJobName\": \"xgb-tuner-27-00-32-14-016-b34f8d41\", \"TrainingJobStatus\": \"Completed\", \"TrainingStartTime\": \"2023-01-27T00:35:21+00:00\", \"TrainingEndTime\": \"2023-01-27T00:35:58+00:00\", \"TrainingElapsedTimeSeconds\": 37.0, \"TuningJobName\": \"xgb-tuner-27-00-32-14\", \"validation:auc\": 0.6208540201187134, \"cum_objective\": 0.6692659854888916}, {\"eta\": 0.9397750941086543, \"gamma\": 0.00013492243135819249, \"max_depth\": 3.0, \"min_child_weight\": 0.2415813089052414, \"TrainingJobName\": \"xgb-tuner-27-00-32-14-017-c03bdd48\", \"TrainingJobStatus\": \"Completed\", \"TrainingStartTime\": \"2023-01-27T00:35:23+00:00\", \"TrainingEndTime\": \"2023-01-27T00:35:55+00:00\", \"TrainingElapsedTimeSeconds\": 32.0, \"TuningJobName\": \"xgb-tuner-27-00-32-14\", \"validation:auc\": 0.6245610117912292, \"cum_objective\": 0.6692659854888916}, {\"eta\": 0.9489438353572702, \"gamma\": 4.891735386725915e-06, \"max_depth\": 3.0, \"min_child_weight\": 0.12568263486422596, \"TrainingJobName\": \"xgb-tuner-27-00-32-14-018-bce32020\", \"TrainingJobStatus\": \"Completed\", \"TrainingStartTime\": \"2023-01-27T00:35:25+00:00\", \"TrainingEndTime\": \"2023-01-27T00:36:02+00:00\", \"TrainingElapsedTimeSeconds\": 37.0, \"TuningJobName\": \"xgb-tuner-27-00-32-14\", \"validation:auc\": 0.5855879783630371, \"cum_objective\": 0.6692659854888916}, {\"eta\": 0.7185536475898795, \"gamma\": 0.054961803514725814, \"max_depth\": 4.0, \"min_child_weight\": 1.2877573217460173e-05, \"TrainingJobName\": \"xgb-tuner-27-00-32-14-019-b6885f1d\", \"TrainingJobStatus\": \"Completed\", \"TrainingStartTime\": \"2023-01-27T00:35:35+00:00\", \"TrainingEndTime\": \"2023-01-27T00:36:12+00:00\", \"TrainingElapsedTimeSeconds\": 37.0, \"TuningJobName\": \"xgb-tuner-27-00-32-14\", \"validation:auc\": 0.6672419905662537, \"cum_objective\": 0.6692659854888916}, {\"eta\": 0.8377055461831366, \"gamma\": 2.956022791664258e-06, \"max_depth\": 4.0, \"min_child_weight\": 3.236031442005493, \"TrainingJobName\": \"xgb-tuner-27-00-32-14-020-45653dac\", \"TrainingJobStatus\": \"Completed\", \"TrainingStartTime\": \"2023-01-27T00:35:37+00:00\", \"TrainingEndTime\": \"2023-01-27T00:36:15+00:00\", \"TrainingElapsedTimeSeconds\": 38.0, \"TuningJobName\": \"xgb-tuner-27-00-32-14\", \"validation:auc\": 0.6373050212860107, \"cum_objective\": 0.6692659854888916}, {\"eta\": 1.0, \"gamma\": 2.6037968858547393, \"max_depth\": 2.0, \"min_child_weight\": 1.2697212535128511e-05, \"TrainingJobName\": \"xgb-tuner-27-00-32-14-021-03800cc4\", \"TrainingJobStatus\": \"Completed\", \"TrainingStartTime\": \"2023-01-27T00:36:05+00:00\", \"TrainingEndTime\": \"2023-01-27T00:36:37+00:00\", \"TrainingElapsedTimeSeconds\": 32.0, \"TuningJobName\": \"xgb-tuner-27-00-32-14\", \"validation:auc\": 0.6396369934082031, \"cum_objective\": 0.6692659854888916}, {\"eta\": 1.0, \"gamma\": 3.662828378864391e-05, \"max_depth\": 3.0, \"min_child_weight\": 1.5195140665984885e-06, \"TrainingJobName\": \"xgb-tuner-27-00-32-14-022-dc2e8432\", \"TrainingJobStatus\": \"Completed\", \"TrainingStartTime\": \"2023-01-27T00:36:06+00:00\", \"TrainingEndTime\": \"2023-01-27T00:36:43+00:00\", \"TrainingElapsedTimeSeconds\": 37.0, \"TuningJobName\": \"xgb-tuner-27-00-32-14\", \"validation:auc\": 0.641182005405426, \"cum_objective\": 0.6692659854888916}, {\"eta\": 0.4240883596918352, \"gamma\": 0.27787594415844663, \"max_depth\": 3.0, \"min_child_weight\": 4.4808705066792956e-05, \"TrainingJobName\": \"xgb-tuner-27-00-32-14-023-9d21321a\", \"TrainingJobStatus\": \"Completed\", \"TrainingStartTime\": \"2023-01-27T00:36:08+00:00\", \"TrainingEndTime\": \"2023-01-27T00:36:45+00:00\", \"TrainingElapsedTimeSeconds\": 37.0, \"TuningJobName\": \"xgb-tuner-27-00-32-14\", \"validation:auc\": 0.6502450108528137, \"cum_objective\": 0.6692659854888916}, {\"eta\": 0.3966484840085948, \"gamma\": 3.185793419903464e-05, \"max_depth\": 9.0, \"min_child_weight\": 0.0015552458699823236, \"TrainingJobName\": \"xgb-tuner-27-00-32-14-024-dfcd91b5\", \"TrainingJobStatus\": \"Completed\", \"TrainingStartTime\": \"2023-01-27T00:36:20+00:00\", \"TrainingEndTime\": \"2023-01-27T00:36:57+00:00\", \"TrainingElapsedTimeSeconds\": 37.0, \"TuningJobName\": \"xgb-tuner-27-00-32-14\", \"validation:auc\": 0.6338629722595215, \"cum_objective\": 0.6692659854888916}, {\"eta\": 0.48167564866256796, \"gamma\": 1.4997046012771859e-05, \"max_depth\": 6.0, \"min_child_weight\": 1.134356855058567e-05, \"TrainingJobName\": \"xgb-tuner-27-00-32-14-025-39ef4700\", \"TrainingJobStatus\": \"Completed\", \"TrainingStartTime\": \"2023-01-27T00:36:21+00:00\", \"TrainingEndTime\": \"2023-01-27T00:36:58+00:00\", \"TrainingElapsedTimeSeconds\": 37.0, \"TuningJobName\": \"xgb-tuner-27-00-32-14\", \"validation:auc\": 0.6472899913787842, \"cum_objective\": 0.6692659854888916}, {\"eta\": 0.5676987192532995, \"gamma\": 2.5036004130127496e-05, \"max_depth\": 8.0, \"min_child_weight\": 4.025217823517108e-06, \"TrainingJobName\": \"xgb-tuner-27-00-32-14-026-4a7a2f77\", \"TrainingJobStatus\": \"Completed\", \"TrainingStartTime\": \"2023-01-27T00:36:23+00:00\", \"TrainingEndTime\": \"2023-01-27T00:37:00+00:00\", \"TrainingElapsedTimeSeconds\": 37.0, \"TuningJobName\": \"xgb-tuner-27-00-32-14\", \"validation:auc\": 0.6163539886474609, \"cum_objective\": 0.6692659854888916}, {\"eta\": 0.6631377617178216, \"gamma\": 5.739237132180121e-05, \"max_depth\": 7.0, \"min_child_weight\": 0.0010599256020095106, \"TrainingJobName\": \"xgb-tuner-27-00-32-14-027-e70c798e\", \"TrainingJobStatus\": \"Completed\", \"TrainingStartTime\": \"2023-01-27T00:36:24+00:00\", \"TrainingEndTime\": \"2023-01-27T00:36:56+00:00\", \"TrainingElapsedTimeSeconds\": 32.0, \"TuningJobName\": \"xgb-tuner-27-00-32-14\", \"validation:auc\": 0.6490749716758728, \"cum_objective\": 0.6692659854888916}, {\"eta\": 0.6714709759825583, \"gamma\": 0.0002395469454789276, \"max_depth\": 4.0, \"min_child_weight\": 6.444226531267536, \"TrainingJobName\": \"xgb-tuner-27-00-32-14-028-40513841\", \"TrainingJobStatus\": \"Completed\", \"TrainingStartTime\": \"2023-01-27T00:36:26+00:00\", \"TrainingEndTime\": \"2023-01-27T00:37:04+00:00\", \"TrainingElapsedTimeSeconds\": 38.0, \"TuningJobName\": \"xgb-tuner-27-00-32-14\", \"validation:auc\": 0.625868022441864, \"cum_objective\": 0.6692659854888916}, {\"eta\": 0.6438506797337316, \"gamma\": 8.847851158810656e-05, \"max_depth\": 4.0, \"min_child_weight\": 3.294385609871094e-06, \"TrainingJobName\": \"xgb-tuner-27-00-32-14-029-43d2f514\", \"TrainingJobStatus\": \"Completed\", \"TrainingStartTime\": \"2023-01-27T00:36:36+00:00\", \"TrainingEndTime\": \"2023-01-27T00:37:08+00:00\", \"TrainingElapsedTimeSeconds\": 32.0, \"TuningJobName\": \"xgb-tuner-27-00-32-14\", \"validation:auc\": 0.6774740219116211, \"cum_objective\": 0.6774740219116211}, {\"eta\": 0.7483799245241507, \"gamma\": 0.13546288027215408, \"max_depth\": 4.0, \"min_child_weight\": 2.004159428836589e-05, \"TrainingJobName\": \"xgb-tuner-27-00-32-14-030-1c54ee26\", \"TrainingJobStatus\": \"Completed\", \"TrainingStartTime\": \"2023-01-27T00:36:38+00:00\", \"TrainingEndTime\": \"2023-01-27T00:37:15+00:00\", \"TrainingElapsedTimeSeconds\": 37.0, \"TuningJobName\": \"xgb-tuner-27-00-32-14\", \"validation:auc\": 0.6544730067253113, \"cum_objective\": 0.6774740219116211}, {\"eta\": 0.012336866282509703, \"gamma\": 7.435499987429371e-05, \"max_depth\": 5.0, \"min_child_weight\": 0.00020936320613053916, \"TrainingJobName\": \"xgb-tuner-27-00-32-14-031-a821ac83\", \"TrainingJobStatus\": \"Completed\", \"TrainingStartTime\": \"2023-01-27T00:36:51+00:00\", \"TrainingEndTime\": \"2023-01-27T00:37:29+00:00\", \"TrainingElapsedTimeSeconds\": 38.0, \"TuningJobName\": \"xgb-tuner-27-00-32-14\", \"validation:auc\": 0.5891929864883423, \"cum_objective\": 0.6774740219116211}, {\"eta\": 0.5444508070897833, \"gamma\": 0.000904360464974121, \"max_depth\": 4.0, \"min_child_weight\": 7.76497369277073e-05, \"TrainingJobName\": \"xgb-tuner-27-00-32-14-032-c6499eb4\", \"TrainingJobStatus\": \"Completed\", \"TrainingStartTime\": \"2023-01-27T00:37:02+00:00\", \"TrainingEndTime\": \"2023-01-27T00:37:40+00:00\", \"TrainingElapsedTimeSeconds\": 38.0, \"TuningJobName\": \"xgb-tuner-27-00-32-14\", \"validation:auc\": 0.6786100268363953, \"cum_objective\": 0.6786100268363953}, {\"eta\": 0.06234563491352867, \"gamma\": 0.0005215563028510416, \"max_depth\": 3.0, \"min_child_weight\": 2.338691987988232e-05, \"TrainingJobName\": \"xgb-tuner-27-00-32-14-033-615aaed0\", \"TrainingJobStatus\": \"Completed\", \"TrainingStartTime\": \"2023-01-27T00:37:05+00:00\", \"TrainingEndTime\": \"2023-01-27T00:37:42+00:00\", \"TrainingElapsedTimeSeconds\": 37.0, \"TuningJobName\": \"xgb-tuner-27-00-32-14\", \"validation:auc\": 0.616320013999939, \"cum_objective\": 0.6786100268363953}, {\"eta\": 0.01385322345888012, \"gamma\": 8.937862958110423e-05, \"max_depth\": 2.0, \"min_child_weight\": 9.62052449708373e-05, \"TrainingJobName\": \"xgb-tuner-27-00-32-14-034-6c1fe019\", \"TrainingJobStatus\": \"Completed\", \"TrainingStartTime\": \"2023-01-27T00:37:15+00:00\", \"TrainingEndTime\": \"2023-01-27T00:37:52+00:00\", \"TrainingElapsedTimeSeconds\": 37.0, \"TuningJobName\": \"xgb-tuner-27-00-32-14\", \"validation:auc\": 0.5139889717102051, \"cum_objective\": 0.6786100268363953}, {\"eta\": 0.015737279278801312, \"gamma\": 8.02878639437093e-05, \"max_depth\": 7.0, \"min_child_weight\": 1.2764359691357437e-05, \"TrainingJobName\": \"xgb-tuner-27-00-32-14-035-26529775\", \"TrainingJobStatus\": \"Completed\", \"TrainingStartTime\": \"2023-01-27T00:37:17+00:00\", \"TrainingEndTime\": \"2023-01-27T00:37:54+00:00\", \"TrainingElapsedTimeSeconds\": 37.0, \"TuningJobName\": \"xgb-tuner-27-00-32-14\", \"validation:auc\": 0.6065999865531921, \"cum_objective\": 0.6786100268363953}, {\"eta\": 0.018424210462186022, \"gamma\": 6.42560815975671e-05, \"max_depth\": 2.0, \"min_child_weight\": 1.7755405271404074e-05, \"TrainingJobName\": \"xgb-tuner-27-00-32-14-036-0d54bc61\", \"TrainingJobStatus\": \"Completed\", \"TrainingStartTime\": \"2023-01-27T00:37:19+00:00\", \"TrainingEndTime\": \"2023-01-27T00:37:56+00:00\", \"TrainingElapsedTimeSeconds\": 37.0, \"TuningJobName\": \"xgb-tuner-27-00-32-14\", \"validation:auc\": 0.525629997253418, \"cum_objective\": 0.6786100268363953}, {\"eta\": 0.5251037630037244, \"gamma\": 0.00010429844559267887, \"max_depth\": 7.0, \"min_child_weight\": 0.000124688932373774, \"TrainingJobName\": \"xgb-tuner-27-00-32-14-037-b3352c8d\", \"TrainingJobStatus\": \"Completed\", \"TrainingStartTime\": \"2023-01-27T00:37:21+00:00\", \"TrainingEndTime\": \"2023-01-27T00:37:58+00:00\", \"TrainingElapsedTimeSeconds\": 37.0, \"TuningJobName\": \"xgb-tuner-27-00-32-14\", \"validation:auc\": 0.6315649747848511, \"cum_objective\": 0.6786100268363953}, {\"eta\": 1.0, \"gamma\": 0.0011376312775270333, \"max_depth\": 5.0, \"min_child_weight\": 4.471869323585168e-06, \"TrainingJobName\": \"xgb-tuner-27-00-32-14-038-1ff1de4d\", \"TrainingJobStatus\": \"Completed\", \"TrainingStartTime\": \"2023-01-27T00:37:31+00:00\", \"TrainingEndTime\": \"2023-01-27T00:38:08+00:00\", \"TrainingElapsedTimeSeconds\": 37.0, \"TuningJobName\": \"xgb-tuner-27-00-32-14\", \"validation:auc\": 0.5980839729309082, \"cum_objective\": 0.6786100268363953}, {\"eta\": 0.3952851132087465, \"gamma\": 0.0013974499106955112, \"max_depth\": 4.0, \"min_child_weight\": 5.293464813289082e-06, \"TrainingJobName\": \"xgb-tuner-27-00-32-14-039-26633656\", \"TrainingJobStatus\": \"Completed\", \"TrainingStartTime\": \"2023-01-27T00:37:33+00:00\", \"TrainingEndTime\": \"2023-01-27T00:38:10+00:00\", \"TrainingElapsedTimeSeconds\": 37.0, \"TuningJobName\": \"xgb-tuner-27-00-32-14\", \"validation:auc\": 0.6448550224304199, \"cum_objective\": 0.6786100268363953}, {\"eta\": 0.9331786005636951, \"gamma\": 0.003668362904278892, \"max_depth\": 3.0, \"min_child_weight\": 1.1502328600499171e-05, \"TrainingJobName\": \"xgb-tuner-27-00-32-14-040-444c4992\", \"TrainingJobStatus\": \"Completed\", \"TrainingStartTime\": \"2023-01-27T00:37:35+00:00\", \"TrainingEndTime\": \"2023-01-27T00:38:12+00:00\", \"TrainingElapsedTimeSeconds\": 37.0, \"TuningJobName\": \"xgb-tuner-27-00-32-14\", \"validation:auc\": 0.6178990006446838, \"cum_objective\": 0.6786100268363953}, {\"eta\": 0.6170108326048533, \"gamma\": 0.0021337369962837294, \"max_depth\": 3.0, \"min_child_weight\": 4.422131607757105e-06, \"TrainingJobName\": \"xgb-tuner-27-00-32-14-041-173a1dfd\", \"TrainingJobStatus\": \"Completed\", \"TrainingStartTime\": \"2023-01-27T00:37:45+00:00\", \"TrainingEndTime\": \"2023-01-27T00:38:22+00:00\", \"TrainingElapsedTimeSeconds\": 37.0, \"TuningJobName\": \"xgb-tuner-27-00-32-14\", \"validation:auc\": 0.6472899913787842, \"cum_objective\": 0.6786100268363953}, {\"eta\": 0.42829795765113643, \"gamma\": 0.0003688577095309749, \"max_depth\": 3.0, \"min_child_weight\": 1.477261019805e-05, \"TrainingJobName\": \"xgb-tuner-27-00-32-14-042-c7091d21\", \"TrainingJobStatus\": \"Completed\", \"TrainingStartTime\": \"2023-01-27T00:37:58+00:00\", \"TrainingEndTime\": \"2023-01-27T00:38:35+00:00\", \"TrainingElapsedTimeSeconds\": 37.0, \"TuningJobName\": \"xgb-tuner-27-00-32-14\", \"validation:auc\": 0.636817991733551, \"cum_objective\": 0.6786100268363953}, {\"eta\": 0.5628506447118127, \"gamma\": 0.003116066470811988, \"max_depth\": 5.0, \"min_child_weight\": 1.190582515607563e-05, \"TrainingJobName\": \"xgb-tuner-27-00-32-14-043-5917450f\", \"TrainingJobStatus\": \"Completed\", \"TrainingStartTime\": \"2023-01-27T00:37:59+00:00\", \"TrainingEndTime\": \"2023-01-27T00:38:36+00:00\", \"TrainingElapsedTimeSeconds\": 37.0, \"TuningJobName\": \"xgb-tuner-27-00-32-14\", \"validation:auc\": 0.625074028968811, \"cum_objective\": 0.6786100268363953}, {\"eta\": 0.5123306669514447, \"gamma\": 3.62024175853428e-06, \"max_depth\": 4.0, \"min_child_weight\": 1.0000000000000004e-06, \"TrainingJobName\": \"xgb-tuner-27-00-32-14-044-b6c3be2e\", \"TrainingJobStatus\": \"Completed\", \"TrainingStartTime\": \"2023-01-27T00:38:10+00:00\", \"TrainingEndTime\": \"2023-01-27T00:38:47+00:00\", \"TrainingElapsedTimeSeconds\": 37.0, \"TuningJobName\": \"xgb-tuner-27-00-32-14\", \"validation:auc\": 0.6150810122489929, \"cum_objective\": 0.6786100268363953}, {\"eta\": 0.6061169641469015, \"gamma\": 2.48142866123969e-05, \"max_depth\": 4.0, \"min_child_weight\": 0.002077424787399627, \"TrainingJobName\": \"xgb-tuner-27-00-32-14-045-9f1c7c0c\", \"TrainingJobStatus\": \"Completed\", \"TrainingStartTime\": \"2023-01-27T00:38:11+00:00\", \"TrainingEndTime\": \"2023-01-27T00:38:49+00:00\", \"TrainingElapsedTimeSeconds\": 38.0, \"TuningJobName\": \"xgb-tuner-27-00-32-14\", \"validation:auc\": 0.6396369934082031, \"cum_objective\": 0.6786100268363953}, {\"eta\": 0.6373095412106826, \"gamma\": 0.10498745451806764, \"max_depth\": 5.0, \"min_child_weight\": 1.0000000000000004e-06, \"TrainingJobName\": \"xgb-tuner-27-00-32-14-046-5945949c\", \"TrainingJobStatus\": \"Completed\", \"TrainingStartTime\": \"2023-01-27T00:38:13+00:00\", \"TrainingEndTime\": \"2023-01-27T00:38:50+00:00\", \"TrainingElapsedTimeSeconds\": 37.0, \"TuningJobName\": \"xgb-tuner-27-00-32-14\", \"validation:auc\": 0.6482200026512146, \"cum_objective\": 0.6786100268363953}, {\"eta\": 0.5450513788245345, \"gamma\": 0.023997161658665934, \"max_depth\": 3.0, \"min_child_weight\": 0.0011307903371878655, \"TrainingJobName\": \"xgb-tuner-27-00-32-14-047-c1bf37a6\", \"TrainingJobStatus\": \"Completed\", \"TrainingStartTime\": \"2023-01-27T00:38:23+00:00\", \"TrainingEndTime\": \"2023-01-27T00:39:00+00:00\", \"TrainingElapsedTimeSeconds\": 37.0, \"TuningJobName\": \"xgb-tuner-27-00-32-14\", \"validation:auc\": 0.631974995136261, \"cum_objective\": 0.6786100268363953}, {\"eta\": 0.6092967298942422, \"gamma\": 0.0063553969851672595, \"max_depth\": 2.0, \"min_child_weight\": 2.7372430927854867e-05, \"TrainingJobName\": \"xgb-tuner-27-00-32-14-048-3da84955\", \"TrainingJobStatus\": \"Completed\", \"TrainingStartTime\": \"2023-01-27T00:38:25+00:00\", \"TrainingEndTime\": \"2023-01-27T00:39:02+00:00\", \"TrainingElapsedTimeSeconds\": 37.0, \"TuningJobName\": \"xgb-tuner-27-00-32-14\", \"validation:auc\": 0.6554970145225525, \"cum_objective\": 0.6786100268363953}, {\"eta\": 0.6356986658481818, \"gamma\": 0.0033340390229850236, \"max_depth\": 6.0, \"min_child_weight\": 0.02451066318504093, \"TrainingJobName\": \"xgb-tuner-27-00-32-14-049-0618e802\", \"TrainingJobStatus\": \"Completed\", \"TrainingStartTime\": \"2023-01-27T00:38:28+00:00\", \"TrainingEndTime\": \"2023-01-27T00:39:37+00:00\", \"TrainingElapsedTimeSeconds\": 69.0, \"TuningJobName\": \"xgb-tuner-27-00-32-14\", \"validation:auc\": 0.653814971446991, \"cum_objective\": 0.6786100268363953}, {\"eta\": 0.4786995621657942, \"gamma\": 0.0004466401949030279, \"max_depth\": 2.0, \"min_child_weight\": 0.00014682963178975532, \"TrainingJobName\": \"xgb-tuner-27-00-32-14-050-a53c9637\", \"TrainingJobStatus\": \"Completed\", \"TrainingStartTime\": \"2023-01-27T00:38:37+00:00\", \"TrainingEndTime\": \"2023-01-27T00:39:14+00:00\", \"TrainingElapsedTimeSeconds\": 37.0, \"TuningJobName\": \"xgb-tuner-27-00-32-14\", \"validation:auc\": 0.5878520011901855, \"cum_objective\": 0.6786100268363953}, {\"eta\": 0.49897450164719176, \"gamma\": 0.0016793375989149837, \"max_depth\": 3.0, \"min_child_weight\": 0.0005683532068114051, \"TrainingJobName\": \"xgb-tuner-27-00-32-14-051-a5517b26\", \"TrainingJobStatus\": \"Completed\", \"TrainingStartTime\": \"2023-01-27T00:38:52+00:00\", \"TrainingEndTime\": \"2023-01-27T00:39:29+00:00\", \"TrainingElapsedTimeSeconds\": 37.0, \"TuningJobName\": \"xgb-tuner-27-00-32-14\", \"validation:auc\": 0.6196839809417725, \"cum_objective\": 0.6786100268363953}, {\"eta\": 0.5776227432634761, \"gamma\": 4.289405759748363e-05, \"max_depth\": 4.0, \"min_child_weight\": 1.0000000000000004e-06, \"TrainingJobName\": \"xgb-tuner-27-00-32-14-053-e26dea63\", \"TrainingJobStatus\": \"Completed\", \"TrainingStartTime\": \"2023-01-27T00:38:59+00:00\", \"TrainingEndTime\": \"2023-01-27T00:39:35+00:00\", \"TrainingElapsedTimeSeconds\": 36.0, \"TuningJobName\": \"xgb-tuner-27-00-32-14\", \"validation:auc\": 0.6231520175933838, \"cum_objective\": 0.6786100268363953}, {\"eta\": 0.6652455305412062, \"gamma\": 0.0012013990645907645, \"max_depth\": 4.0, \"min_child_weight\": 9.956093177172022e-06, \"TrainingJobName\": \"xgb-tuner-27-00-32-14-054-6db398da\", \"TrainingJobStatus\": \"Completed\", \"TrainingStartTime\": \"2023-01-27T00:39:10+00:00\", \"TrainingEndTime\": \"2023-01-27T00:39:47+00:00\", \"TrainingElapsedTimeSeconds\": 37.0, \"TuningJobName\": \"xgb-tuner-27-00-32-14\", \"validation:auc\": 0.6341450214385986, \"cum_objective\": 0.6786100268363953}, {\"eta\": 0.7264214786954166, \"gamma\": 0.0012381729251901296, \"max_depth\": 4.0, \"min_child_weight\": 5.8290802375453766e-06, \"TrainingJobName\": \"xgb-tuner-27-00-32-14-055-f2631c7b\", \"TrainingJobStatus\": \"Completed\", \"TrainingStartTime\": \"2023-01-27T00:39:12+00:00\", \"TrainingEndTime\": \"2023-01-27T00:39:49+00:00\", \"TrainingElapsedTimeSeconds\": 37.0, \"TuningJobName\": \"xgb-tuner-27-00-32-14\", \"validation:auc\": 0.6447529792785645, \"cum_objective\": 0.6786100268363953}, {\"eta\": 0.7305833570778586, \"gamma\": 0.0026267703012480205, \"max_depth\": 4.0, \"min_child_weight\": 0.00048736808614934364, \"TrainingJobName\": \"xgb-tuner-27-00-32-14-056-250a354c\", \"TrainingJobStatus\": \"Completed\", \"TrainingStartTime\": \"2023-01-27T00:39:24+00:00\", \"TrainingEndTime\": \"2023-01-27T00:40:01+00:00\", \"TrainingElapsedTimeSeconds\": 37.0, \"TuningJobName\": \"xgb-tuner-27-00-32-14\", \"validation:auc\": 0.6595889925956726, \"cum_objective\": 0.6786100268363953}, {\"eta\": 0.5750296535158318, \"gamma\": 0.0005356791850083888, \"max_depth\": 4.0, \"min_child_weight\": 0.0006560439054944225, \"TrainingJobName\": \"xgb-tuner-27-00-32-14-058-a494ef32\", \"TrainingJobStatus\": \"Completed\", \"TrainingStartTime\": \"2023-01-27T00:39:25+00:00\", \"TrainingEndTime\": \"2023-01-27T00:40:03+00:00\", \"TrainingElapsedTimeSeconds\": 38.0, \"TuningJobName\": \"xgb-tuner-27-00-32-14\", \"validation:auc\": 0.6311900019645691, \"cum_objective\": 0.6786100268363953}, {\"eta\": 0.5118912386147776, \"gamma\": 7.890643488111676e-05, \"max_depth\": 5.0, \"min_child_weight\": 0.044369281539351664, \"TrainingJobName\": \"xgb-tuner-27-00-32-14-057-519fb4bb\", \"TrainingJobStatus\": \"Completed\", \"TrainingStartTime\": \"2023-01-27T00:39:27+00:00\", \"TrainingEndTime\": \"2023-01-27T00:40:04+00:00\", \"TrainingElapsedTimeSeconds\": 37.0, \"TuningJobName\": \"xgb-tuner-27-00-32-14\", \"validation:auc\": 0.6354089975357056, \"cum_objective\": 0.6786100268363953}, {\"eta\": 0.48983785148591863, \"gamma\": 0.0003036995521009961, \"max_depth\": 4.0, \"min_child_weight\": 6.53471847939645e-05, \"TrainingJobName\": \"xgb-tuner-27-00-32-14-059-5bc69b2b\", \"TrainingJobStatus\": \"Completed\", \"TrainingStartTime\": \"2023-01-27T00:39:35+00:00\", \"TrainingEndTime\": \"2023-01-27T00:40:07+00:00\", \"TrainingElapsedTimeSeconds\": 32.0, \"TuningJobName\": \"xgb-tuner-27-00-32-14\", \"validation:auc\": 0.6195480227470398, \"cum_objective\": 0.6786100268363953}, {\"eta\": 0.5486115853265142, \"gamma\": 0.012420693362461344, \"max_depth\": 4.0, \"min_child_weight\": 6.600165759874769e-05, \"TrainingJobName\": \"xgb-tuner-27-00-32-14-052-be514283\", \"TrainingJobStatus\": \"Completed\", \"TrainingStartTime\": \"2023-01-27T00:39:38+00:00\", \"TrainingEndTime\": \"2023-01-27T00:40:47+00:00\", \"TrainingElapsedTimeSeconds\": 69.0, \"TuningJobName\": \"xgb-tuner-27-00-32-14\", \"validation:auc\": 0.6838629841804504, \"cum_objective\": 0.6838629841804504}, {\"eta\": 0.49871657103196576, \"gamma\": 0.00023008172622317684, \"max_depth\": 5.0, \"min_child_weight\": 1.3487456636467294e-05, \"TrainingJobName\": \"xgb-tuner-27-00-32-14-060-c903e078\", \"TrainingJobStatus\": \"Completed\", \"TrainingStartTime\": \"2023-01-27T00:39:45+00:00\", \"TrainingEndTime\": \"2023-01-27T00:40:22+00:00\", \"TrainingElapsedTimeSeconds\": 37.0, \"TuningJobName\": \"xgb-tuner-27-00-32-14\", \"validation:auc\": 0.657384991645813, \"cum_objective\": 0.6838629841804504}, {\"eta\": 0.43239484629016267, \"gamma\": 0.0018994187574527745, \"max_depth\": 4.0, \"min_child_weight\": 0.002402870716870257, \"TrainingJobName\": \"xgb-tuner-27-00-32-14-061-613ffa0a\", \"TrainingJobStatus\": \"Completed\", \"TrainingStartTime\": \"2023-01-27T00:39:56+00:00\", \"TrainingEndTime\": \"2023-01-27T00:40:33+00:00\", \"TrainingElapsedTimeSeconds\": 37.0, \"TuningJobName\": \"xgb-tuner-27-00-32-14\", \"validation:auc\": 0.6395000219345093, \"cum_objective\": 0.6838629841804504}, {\"eta\": 0.741499041138007, \"gamma\": 0.00011501406956120287, \"max_depth\": 4.0, \"min_child_weight\": 5.2424373666487885e-06, \"TrainingJobName\": \"xgb-tuner-27-00-32-14-062-315eab2f\", \"TrainingJobStatus\": \"Completed\", \"TrainingStartTime\": \"2023-01-27T00:39:59+00:00\", \"TrainingEndTime\": \"2023-01-27T00:40:36+00:00\", \"TrainingElapsedTimeSeconds\": 37.0, \"TuningJobName\": \"xgb-tuner-27-00-32-14\", \"validation:auc\": 0.6461279988288879, \"cum_objective\": 0.6838629841804504}, {\"eta\": 0.48226052367735966, \"gamma\": 0.0005082147645609351, \"max_depth\": 6.0, \"min_child_weight\": 10.0, \"TrainingJobName\": \"xgb-tuner-27-00-32-14-063-2d0b6e70\", \"TrainingJobStatus\": \"Completed\", \"TrainingStartTime\": \"2023-01-27T00:40:09+00:00\", \"TrainingEndTime\": \"2023-01-27T00:40:46+00:00\", \"TrainingElapsedTimeSeconds\": 37.0, \"TuningJobName\": \"xgb-tuner-27-00-32-14\", \"validation:auc\": 0.5968199968338013, \"cum_objective\": 0.6838629841804504}, {\"eta\": 0.6117262573473438, \"gamma\": 1.398631560743163e-05, \"max_depth\": 5.0, \"min_child_weight\": 1.0000000000000004e-06, \"TrainingJobName\": \"xgb-tuner-27-00-32-14-064-a6acacb1\", \"TrainingJobStatus\": \"Completed\", \"TrainingStartTime\": \"2023-01-27T00:40:11+00:00\", \"TrainingEndTime\": \"2023-01-27T00:40:48+00:00\", \"TrainingElapsedTimeSeconds\": 37.0, \"TuningJobName\": \"xgb-tuner-27-00-32-14\", \"validation:auc\": 0.6322140097618103, \"cum_objective\": 0.6838629841804504}, {\"eta\": 0.5248442554876624, \"gamma\": 0.06673827004382778, \"max_depth\": 3.0, \"min_child_weight\": 8.449355147035803e-06, \"TrainingJobName\": \"xgb-tuner-27-00-32-14-065-f1f06d11\", \"TrainingJobStatus\": \"Completed\", \"TrainingStartTime\": \"2023-01-27T00:40:21+00:00\", \"TrainingEndTime\": \"2023-01-27T00:40:58+00:00\", \"TrainingElapsedTimeSeconds\": 37.0, \"TuningJobName\": \"xgb-tuner-27-00-32-14\", \"validation:auc\": 0.6650810241699219, \"cum_objective\": 0.6838629841804504}, {\"eta\": 0.5998819652513464, \"gamma\": 0.0037477418987127108, \"max_depth\": 5.0, \"min_child_weight\": 0.0001242703041948144, \"TrainingJobName\": \"xgb-tuner-27-00-32-14-066-08e0659c\", \"TrainingJobStatus\": \"Completed\", \"TrainingStartTime\": \"2023-01-27T00:40:23+00:00\", \"TrainingEndTime\": \"2023-01-27T00:41:00+00:00\", \"TrainingElapsedTimeSeconds\": 37.0, \"TuningJobName\": \"xgb-tuner-27-00-32-14\", \"validation:auc\": 0.6386029720306396, \"cum_objective\": 0.6838629841804504}, {\"eta\": 0.6219710038517458, \"gamma\": 3.072832599020894e-05, \"max_depth\": 4.0, \"min_child_weight\": 7.473893824991221e-06, \"TrainingJobName\": \"xgb-tuner-27-00-32-14-067-c7ba6b7e\", \"TrainingJobStatus\": \"Completed\", \"TrainingStartTime\": \"2023-01-27T00:40:24+00:00\", \"TrainingEndTime\": \"2023-01-27T00:41:01+00:00\", \"TrainingElapsedTimeSeconds\": 37.0, \"TuningJobName\": \"xgb-tuner-27-00-32-14\", \"validation:auc\": 0.6530629992485046, \"cum_objective\": 0.6838629841804504}, {\"eta\": 1.0, \"gamma\": 8.045316338302279e-05, \"max_depth\": 3.0, \"min_child_weight\": 6.937228646628226e-06, \"TrainingJobName\": \"xgb-tuner-27-00-32-14-068-627112bd\", \"TrainingJobStatus\": \"Completed\", \"TrainingStartTime\": \"2023-01-27T00:40:34+00:00\", \"TrainingEndTime\": \"2023-01-27T00:41:11+00:00\", \"TrainingElapsedTimeSeconds\": 37.0, \"TuningJobName\": \"xgb-tuner-27-00-32-14\", \"validation:auc\": 0.641182005405426, \"cum_objective\": 0.6838629841804504}, {\"eta\": 0.6596380424735289, \"gamma\": 0.0001595156360026607, \"max_depth\": 3.0, \"min_child_weight\": 4.9679946873863525e-06, \"TrainingJobName\": \"xgb-tuner-27-00-32-14-069-a94b62a6\", \"TrainingJobStatus\": \"Completed\", \"TrainingStartTime\": \"2023-01-27T00:40:45+00:00\", \"TrainingEndTime\": \"2023-01-27T00:41:22+00:00\", \"TrainingElapsedTimeSeconds\": 37.0, \"TuningJobName\": \"xgb-tuner-27-00-32-14\", \"validation:auc\": 0.6184449791908264, \"cum_objective\": 0.6838629841804504}, {\"eta\": 0.4193936520948444, \"gamma\": 0.0068696551301294685, \"max_depth\": 6.0, \"min_child_weight\": 8.63401419425253, \"TrainingJobName\": \"xgb-tuner-27-00-32-14-070-cb3ba952\", \"TrainingJobStatus\": \"Completed\", \"TrainingStartTime\": \"2023-01-27T00:40:56+00:00\", \"TrainingEndTime\": \"2023-01-27T00:41:33+00:00\", \"TrainingElapsedTimeSeconds\": 37.0, \"TuningJobName\": \"xgb-tuner-27-00-32-14\", \"validation:auc\": 0.6334869861602783, \"cum_objective\": 0.6838629841804504}, {\"eta\": 0.6357947996230265, \"gamma\": 0.14658141286157195, \"max_depth\": 5.0, \"min_child_weight\": 0.00035985533981601286, \"TrainingJobName\": \"xgb-tuner-27-00-32-14-072-59bfa43d\", \"TrainingJobStatus\": \"Completed\", \"TrainingStartTime\": \"2023-01-27T00:41:09+00:00\", \"TrainingEndTime\": \"2023-01-27T00:41:46+00:00\", \"TrainingElapsedTimeSeconds\": 37.0, \"TuningJobName\": \"xgb-tuner-27-00-32-14\", \"validation:auc\": 0.6199579834938049, \"cum_objective\": 0.6838629841804504}, {\"eta\": 0.637679880397023, \"gamma\": 0.05487967574792731, \"max_depth\": 5.0, \"min_child_weight\": 0.00034261812903249383, \"TrainingJobName\": \"xgb-tuner-27-00-32-14-073-d792ac5a\", \"TrainingJobStatus\": \"Completed\", \"TrainingStartTime\": \"2023-01-27T00:41:11+00:00\", \"TrainingEndTime\": \"2023-01-27T00:41:43+00:00\", \"TrainingElapsedTimeSeconds\": 32.0, \"TuningJobName\": \"xgb-tuner-27-00-32-14\", \"validation:auc\": 0.6201969981193542, \"cum_objective\": 0.6838629841804504}, {\"eta\": 0.6402696656003852, \"gamma\": 0.238407891251487, \"max_depth\": 5.0, \"min_child_weight\": 0.0003374883807496179, \"TrainingJobName\": \"xgb-tuner-27-00-32-14-074-8ef2ce45\", \"TrainingJobStatus\": \"Completed\", \"TrainingStartTime\": \"2023-01-27T00:41:12+00:00\", \"TrainingEndTime\": \"2023-01-27T00:41:49+00:00\", \"TrainingElapsedTimeSeconds\": 37.0, \"TuningJobName\": \"xgb-tuner-27-00-32-14\", \"validation:auc\": 0.6331110000610352, \"cum_objective\": 0.6838629841804504}, {\"eta\": 0.621527883901154, \"gamma\": 10.0, \"max_depth\": 4.0, \"min_child_weight\": 8.183605031511757e-05, \"TrainingJobName\": \"xgb-tuner-27-00-32-14-075-dd99034c\", \"TrainingJobStatus\": \"Completed\", \"TrainingStartTime\": \"2023-01-27T00:41:23+00:00\", \"TrainingEndTime\": \"2023-01-27T00:41:55+00:00\", \"TrainingElapsedTimeSeconds\": 32.0, \"TuningJobName\": \"xgb-tuner-27-00-32-14\", \"validation:auc\": 0.6025170087814331, \"cum_objective\": 0.6838629841804504}, {\"eta\": 0.6229969584278626, \"gamma\": 10.0, \"max_depth\": 4.0, \"min_child_weight\": 5.6788479519390415e-05, \"TrainingJobName\": \"xgb-tuner-27-00-32-14-076-ecc83d0a\", \"TrainingJobStatus\": \"Completed\", \"TrainingStartTime\": \"2023-01-27T00:41:25+00:00\", \"TrainingEndTime\": \"2023-01-27T00:42:02+00:00\", \"TrainingElapsedTimeSeconds\": 37.0, \"TuningJobName\": \"xgb-tuner-27-00-32-14\", \"validation:auc\": 0.6025170087814331, \"cum_objective\": 0.6838629841804504}, {\"eta\": 0.6306443080025225, \"gamma\": 10.0, \"max_depth\": 4.0, \"min_child_weight\": 5.663521409377295e-05, \"TrainingJobName\": \"xgb-tuner-27-00-32-14-077-0a6269e7\", \"TrainingJobStatus\": \"Completed\", \"TrainingStartTime\": \"2023-01-27T00:41:28+00:00\", \"TrainingEndTime\": \"2023-01-27T00:42:05+00:00\", \"TrainingElapsedTimeSeconds\": 37.0, \"TuningJobName\": \"xgb-tuner-27-00-32-14\", \"validation:auc\": 0.6025170087814331, \"cum_objective\": 0.6838629841804504}, {\"eta\": 0.6644263649318927, \"gamma\": 0.006686421148623481, \"max_depth\": 5.0, \"min_child_weight\": 1.0000000000000004e-06, \"TrainingJobName\": \"xgb-tuner-27-00-32-14-071-eab72cce\", \"TrainingJobStatus\": \"Completed\", \"TrainingStartTime\": \"2023-01-27T00:41:34+00:00\", \"TrainingEndTime\": \"2023-01-27T00:42:06+00:00\", \"TrainingElapsedTimeSeconds\": 32.0, \"TuningJobName\": \"xgb-tuner-27-00-32-14\", \"validation:auc\": 0.6548479795455933, \"cum_objective\": 0.6838629841804504}, {\"eta\": 0.5589594993766495, \"gamma\": 10.0, \"max_depth\": 5.0, \"min_child_weight\": 0.0001174256505275202, \"TrainingJobName\": \"xgb-tuner-27-00-32-14-078-7e10cd03\", \"TrainingJobStatus\": \"Completed\", \"TrainingStartTime\": \"2023-01-27T00:41:37+00:00\", \"TrainingEndTime\": \"2023-01-27T00:42:09+00:00\", \"TrainingElapsedTimeSeconds\": 32.0, \"TuningJobName\": \"xgb-tuner-27-00-32-14\", \"validation:auc\": 0.5893639922142029, \"cum_objective\": 0.6838629841804504}, {\"eta\": 0.9615893486759137, \"gamma\": 10.0, \"max_depth\": 10.0, \"min_child_weight\": 0.35260344213907346, \"TrainingJobName\": \"xgb-tuner-27-00-32-14-079-4e2c417e\", \"TrainingJobStatus\": \"Completed\", \"TrainingStartTime\": \"2023-01-27T00:41:39+00:00\", \"TrainingEndTime\": \"2023-01-27T00:42:16+00:00\", \"TrainingElapsedTimeSeconds\": 37.0, \"TuningJobName\": \"xgb-tuner-27-00-32-14\", \"validation:auc\": 0.6079059839248657, \"cum_objective\": 0.6838629841804504}, {\"eta\": 0.5654855223469907, \"gamma\": 10.0, \"max_depth\": 4.0, \"min_child_weight\": 1.0000000000000004e-06, \"TrainingJobName\": \"xgb-tuner-27-00-32-14-080-e12c0881\", \"TrainingJobStatus\": \"Completed\", \"TrainingStartTime\": \"2023-01-27T00:41:50+00:00\", \"TrainingEndTime\": \"2023-01-27T00:42:27+00:00\", \"TrainingElapsedTimeSeconds\": 37.0, \"TuningJobName\": \"xgb-tuner-27-00-32-14\", \"validation:auc\": 0.5894659757614136, \"cum_objective\": 0.6838629841804504}, {\"eta\": 0.14728854198850666, \"gamma\": 4.528202138798706e-05, \"max_depth\": 2.0, \"min_child_weight\": 1.0000000000000004e-06, \"TrainingJobName\": \"xgb-tuner-27-00-32-14-081-9fcdd316\", \"TrainingJobStatus\": \"Completed\", \"TrainingStartTime\": \"2023-01-27T00:42:00+00:00\", \"TrainingEndTime\": \"2023-01-27T00:42:32+00:00\", \"TrainingElapsedTimeSeconds\": 32.0, \"TuningJobName\": \"xgb-tuner-27-00-32-14\", \"validation:auc\": 0.621845006942749, \"cum_objective\": 0.6838629841804504}, {\"eta\": 0.737425831489854, \"gamma\": 10.0, \"max_depth\": 2.0, \"min_child_weight\": 1.0000000000000004e-06, \"TrainingJobName\": \"xgb-tuner-27-00-32-14-082-10457d3f\", \"TrainingJobStatus\": \"Completed\", \"TrainingStartTime\": \"2023-01-27T00:42:02+00:00\", \"TrainingEndTime\": \"2023-01-27T00:42:40+00:00\", \"TrainingElapsedTimeSeconds\": 38.0, \"TuningJobName\": \"xgb-tuner-27-00-32-14\", \"validation:auc\": 0.5947189927101135, \"cum_objective\": 0.6838629841804504}, {\"eta\": 0.4278861886360612, \"gamma\": 0.028671357748997164, \"max_depth\": 3.0, \"min_child_weight\": 4.24116341901807e-06, \"TrainingJobName\": \"xgb-tuner-27-00-32-14-083-918c4d0b\", \"TrainingJobStatus\": \"Completed\", \"TrainingStartTime\": \"2023-01-27T00:42:13+00:00\", \"TrainingEndTime\": \"2023-01-27T00:42:51+00:00\", \"TrainingElapsedTimeSeconds\": 38.0, \"TuningJobName\": \"xgb-tuner-27-00-32-14\", \"validation:auc\": 0.636817991733551, \"cum_objective\": 0.6838629841804504}, {\"eta\": 0.4710020850908987, \"gamma\": 0.037796880552120306, \"max_depth\": 3.0, \"min_child_weight\": 1.6786418188130076e-06, \"TrainingJobName\": \"xgb-tuner-27-00-32-14-084-db359e61\", \"TrainingJobStatus\": \"Completed\", \"TrainingStartTime\": \"2023-01-27T00:42:16+00:00\", \"TrainingEndTime\": \"2023-01-27T00:42:53+00:00\", \"TrainingElapsedTimeSeconds\": 37.0, \"TuningJobName\": \"xgb-tuner-27-00-32-14\", \"validation:auc\": 0.6285070180892944, \"cum_objective\": 0.6838629841804504}, {\"eta\": 0.34789294508620394, \"gamma\": 3.785361185733168e-05, \"max_depth\": 5.0, \"min_child_weight\": 0.0002510718258344753, \"TrainingJobName\": \"xgb-tuner-27-00-32-14-085-e328e71a\", \"TrainingJobStatus\": \"Completed\", \"TrainingStartTime\": \"2023-01-27T00:42:28+00:00\", \"TrainingEndTime\": \"2023-01-27T00:43:05+00:00\", \"TrainingElapsedTimeSeconds\": 37.0, \"TuningJobName\": \"xgb-tuner-27-00-32-14\", \"validation:auc\": 0.6417980194091797, \"cum_objective\": 0.6838629841804504}, {\"eta\": 0.6762553872391476, \"gamma\": 0.05917536117240635, \"max_depth\": 3.0, \"min_child_weight\": 1.0000000000000004e-06, \"TrainingJobName\": \"xgb-tuner-27-00-32-14-086-2c175c1f\", \"TrainingJobStatus\": \"Completed\", \"TrainingStartTime\": \"2023-01-27T00:42:29+00:00\", \"TrainingEndTime\": \"2023-01-27T00:43:06+00:00\", \"TrainingElapsedTimeSeconds\": 37.0, \"TuningJobName\": \"xgb-tuner-27-00-32-14\", \"validation:auc\": 0.6373729705810547, \"cum_objective\": 0.6838629841804504}, {\"eta\": 0.7196598699058606, \"gamma\": 5.705323140425428e-05, \"max_depth\": 5.0, \"min_child_weight\": 0.00017006151815770367, \"TrainingJobName\": \"xgb-tuner-27-00-32-14-087-5b0068aa\", \"TrainingJobStatus\": \"Completed\", \"TrainingStartTime\": \"2023-01-27T00:42:32+00:00\", \"TrainingEndTime\": \"2023-01-27T00:43:09+00:00\", \"TrainingElapsedTimeSeconds\": 37.0, \"TuningJobName\": \"xgb-tuner-27-00-32-14\", \"validation:auc\": 0.6483229994773865, \"cum_objective\": 0.6838629841804504}, {\"eta\": 0.7673962195014088, \"gamma\": 0.11304580976513304, \"max_depth\": 2.0, \"min_child_weight\": 1.0000000000000004e-06, \"TrainingJobName\": \"xgb-tuner-27-00-32-14-088-386221a2\", \"TrainingJobStatus\": \"Completed\", \"TrainingStartTime\": \"2023-01-27T00:42:33+00:00\", \"TrainingEndTime\": \"2023-01-27T00:43:10+00:00\", \"TrainingElapsedTimeSeconds\": 37.0, \"TuningJobName\": \"xgb-tuner-27-00-32-14\", \"validation:auc\": 0.579958975315094, \"cum_objective\": 0.6838629841804504}, {\"eta\": 0.546406032681705, \"gamma\": 0.009409396891033976, \"max_depth\": 8.0, \"min_child_weight\": 0.013528529356283266, \"TrainingJobName\": \"xgb-tuner-27-00-32-14-089-f9103605\", \"TrainingJobStatus\": \"Completed\", \"TrainingStartTime\": \"2023-01-27T00:42:45+00:00\", \"TrainingEndTime\": \"2023-01-27T00:43:17+00:00\", \"TrainingElapsedTimeSeconds\": 32.0, \"TuningJobName\": \"xgb-tuner-27-00-32-14\", \"validation:auc\": 0.6483229994773865, \"cum_objective\": 0.6838629841804504}, {\"eta\": 0.5842534551997427, \"gamma\": 0.011535655347354581, \"max_depth\": 4.0, \"min_child_weight\": 4.922417913019629e-06, \"TrainingJobName\": \"xgb-tuner-27-00-32-14-090-2562178c\", \"TrainingJobStatus\": \"Completed\", \"TrainingStartTime\": \"2023-01-27T00:42:49+00:00\", \"TrainingEndTime\": \"2023-01-27T00:43:26+00:00\", \"TrainingElapsedTimeSeconds\": 37.0, \"TuningJobName\": \"xgb-tuner-27-00-32-14\", \"validation:auc\": 0.6278589963912964, \"cum_objective\": 0.6838629841804504}, {\"eta\": 0.5714316140242427, \"gamma\": 0.011947526132969233, \"max_depth\": 4.0, \"min_child_weight\": 0.0004496409294629394, \"TrainingJobName\": \"xgb-tuner-27-00-32-14-091-e5dd2184\", \"TrainingJobStatus\": \"Completed\", \"TrainingStartTime\": \"2023-01-27T00:42:59+00:00\", \"TrainingEndTime\": \"2023-01-27T00:43:36+00:00\", \"TrainingElapsedTimeSeconds\": 37.0, \"TuningJobName\": \"xgb-tuner-27-00-32-14\", \"validation:auc\": 0.6453679800033569, \"cum_objective\": 0.6838629841804504}, {\"eta\": 0.7041841803097875, \"gamma\": 7.073172460299421e-05, \"max_depth\": 3.0, \"min_child_weight\": 0.00020321584468583527, \"TrainingJobName\": \"xgb-tuner-27-00-32-14-092-d43b34ab\", \"TrainingJobStatus\": \"Completed\", \"TrainingStartTime\": \"2023-01-27T00:42:59+00:00\", \"TrainingEndTime\": \"2023-01-27T00:43:36+00:00\", \"TrainingElapsedTimeSeconds\": 37.0, \"TuningJobName\": \"xgb-tuner-27-00-32-14\", \"validation:auc\": 0.6093490123748779, \"cum_objective\": 0.6838629841804504}, {\"eta\": 0.6178565499383187, \"gamma\": 0.014292213068502028, \"max_depth\": 4.0, \"min_child_weight\": 0.0026902539516559954, \"TrainingJobName\": \"xgb-tuner-27-00-32-14-093-ee138b37\", \"TrainingJobStatus\": \"Completed\", \"TrainingStartTime\": \"2023-01-27T00:43:10+00:00\", \"TrainingEndTime\": \"2023-01-27T00:43:47+00:00\", \"TrainingElapsedTimeSeconds\": 37.0, \"TuningJobName\": \"xgb-tuner-27-00-32-14\", \"validation:auc\": 0.6282680034637451, \"cum_objective\": 0.6838629841804504}, {\"eta\": 0.7955871143518594, \"gamma\": 0.07132739025501157, \"max_depth\": 4.0, \"min_child_weight\": 0.028101796496451607, \"TrainingJobName\": \"xgb-tuner-27-00-32-14-094-86fc93dc\", \"TrainingJobStatus\": \"Completed\", \"TrainingStartTime\": \"2023-01-27T00:43:11+00:00\", \"TrainingEndTime\": \"2023-01-27T00:43:43+00:00\", \"TrainingElapsedTimeSeconds\": 32.0, \"TuningJobName\": \"xgb-tuner-27-00-32-14\", \"validation:auc\": 0.6564970016479492, \"cum_objective\": 0.6838629841804504}, {\"eta\": 0.49946555836313394, \"gamma\": 7.64420171655004e-05, \"max_depth\": 5.0, \"min_child_weight\": 7.68510328235303e-06, \"TrainingJobName\": \"xgb-tuner-27-00-32-14-095-81bc994d\", \"TrainingJobStatus\": \"Completed\", \"TrainingStartTime\": \"2023-01-27T00:43:23+00:00\", \"TrainingEndTime\": \"2023-01-27T00:44:00+00:00\", \"TrainingElapsedTimeSeconds\": 37.0, \"TuningJobName\": \"xgb-tuner-27-00-32-14\", \"validation:auc\": 0.6536779999732971, \"cum_objective\": 0.6838629841804504}, {\"eta\": 0.6542742846979628, \"gamma\": 0.013944193469699427, \"max_depth\": 4.0, \"min_child_weight\": 1.822009893874928e-05, \"TrainingJobName\": \"xgb-tuner-27-00-32-14-096-9aedfee5\", \"TrainingJobStatus\": \"Completed\", \"TrainingStartTime\": \"2023-01-27T00:43:24+00:00\", \"TrainingEndTime\": \"2023-01-27T00:44:01+00:00\", \"TrainingElapsedTimeSeconds\": 37.0, \"TuningJobName\": \"xgb-tuner-27-00-32-14\", \"validation:auc\": 0.6523029804229736, \"cum_objective\": 0.6838629841804504}, {\"eta\": 0.6640099947749902, \"gamma\": 0.015433726731291375, \"max_depth\": 3.0, \"min_child_weight\": 3.6897131568368724e-05, \"TrainingJobName\": \"xgb-tuner-27-00-32-14-097-2263db40\", \"TrainingJobStatus\": \"Completed\", \"TrainingStartTime\": \"2023-01-27T00:43:25+00:00\", \"TrainingEndTime\": \"2023-01-27T00:44:02+00:00\", \"TrainingElapsedTimeSeconds\": 37.0, \"TuningJobName\": \"xgb-tuner-27-00-32-14\", \"validation:auc\": 0.6511420011520386, \"cum_objective\": 0.6838629841804504}, {\"eta\": 0.37221220987193515, \"gamma\": 0.009588918951566711, \"max_depth\": 4.0, \"min_child_weight\": 4.7712872170100565e-05, \"TrainingJobName\": \"xgb-tuner-27-00-32-14-098-fad7ba04\", \"TrainingJobStatus\": \"Completed\", \"TrainingStartTime\": \"2023-01-27T00:43:37+00:00\", \"TrainingEndTime\": \"2023-01-27T00:44:14+00:00\", \"TrainingElapsedTimeSeconds\": 37.0, \"TuningJobName\": \"xgb-tuner-27-00-32-14\", \"validation:auc\": 0.6432070136070251, \"cum_objective\": 0.6838629841804504}, {\"eta\": 0.7555240536507495, \"gamma\": 9.595792940190414e-05, \"max_depth\": 4.0, \"min_child_weight\": 0.0003189132600245382, \"TrainingJobName\": \"xgb-tuner-27-00-32-14-099-3e33eb12\", \"TrainingJobStatus\": \"Completed\", \"TrainingStartTime\": \"2023-01-27T00:43:38+00:00\", \"TrainingEndTime\": \"2023-01-27T00:44:10+00:00\", \"TrainingElapsedTimeSeconds\": 32.0, \"TuningJobName\": \"xgb-tuner-27-00-32-14\", \"validation:auc\": 0.6195819973945618, \"cum_objective\": 0.6838629841804504}, {\"eta\": 0.36606677700059287, \"gamma\": 0.0019054963649105118, \"max_depth\": 6.0, \"min_child_weight\": 1.810145691616177e-06, \"TrainingJobName\": \"xgb-tuner-27-00-32-14-100-e5881b85\", \"TrainingJobStatus\": \"Completed\", \"TrainingStartTime\": \"2023-01-27T00:43:49+00:00\", \"TrainingEndTime\": \"2023-01-27T00:44:26+00:00\", \"TrainingElapsedTimeSeconds\": 37.0, \"TuningJobName\": \"xgb-tuner-27-00-32-14\", \"validation:auc\": 0.6407639980316162, \"cum_objective\": 0.6838629841804504}], \"data-fecc53e78f00018ef281b1899ead01c4\": [{\"eta\": 0.5486115853265142, \"gamma\": 0.012420693362461344, \"max_depth\": 4.0, \"min_child_weight\": 6.600165759874769e-05, \"TrainingJobName\": \"xgb-tuner-27-00-32-14-052-be514283\", \"TrainingJobStatus\": \"Completed\", \"TrainingStartTime\": \"2023-01-27T00:39:38+00:00\", \"TrainingEndTime\": \"2023-01-27T00:40:47+00:00\", \"TrainingElapsedTimeSeconds\": 69.0, \"TuningJobName\": \"xgb-tuner-27-00-32-14\", \"validation:auc\": 0.6838629841804504}, {\"eta\": 0.5444508070897833, \"gamma\": 0.000904360464974121, \"max_depth\": 4.0, \"min_child_weight\": 7.76497369277073e-05, \"TrainingJobName\": \"xgb-tuner-27-00-32-14-032-c6499eb4\", \"TrainingJobStatus\": \"Completed\", \"TrainingStartTime\": \"2023-01-27T00:37:02+00:00\", \"TrainingEndTime\": \"2023-01-27T00:37:40+00:00\", \"TrainingElapsedTimeSeconds\": 38.0, \"TuningJobName\": \"xgb-tuner-27-00-32-14\", \"validation:auc\": 0.6786100268363953}, {\"eta\": 0.6438506797337316, \"gamma\": 8.847851158810656e-05, \"max_depth\": 4.0, \"min_child_weight\": 3.294385609871094e-06, \"TrainingJobName\": \"xgb-tuner-27-00-32-14-029-43d2f514\", \"TrainingJobStatus\": \"Completed\", \"TrainingStartTime\": \"2023-01-27T00:36:36+00:00\", \"TrainingEndTime\": \"2023-01-27T00:37:08+00:00\", \"TrainingElapsedTimeSeconds\": 32.0, \"TuningJobName\": \"xgb-tuner-27-00-32-14\", \"validation:auc\": 0.6774740219116211}, {\"eta\": 0.6483771027602893, \"gamma\": 9.798457390479842e-05, \"max_depth\": 4.0, \"min_child_weight\": 1.762853305772171e-05, \"TrainingJobName\": \"xgb-tuner-27-00-32-14-014-7c090c65\", \"TrainingJobStatus\": \"Completed\", \"TrainingStartTime\": \"2023-01-27T00:35:18+00:00\", \"TrainingEndTime\": \"2023-01-27T00:35:50+00:00\", \"TrainingElapsedTimeSeconds\": 32.0, \"TuningJobName\": \"xgb-tuner-27-00-32-14\", \"validation:auc\": 0.6692659854888916}, {\"eta\": 0.7185536475898795, \"gamma\": 0.054961803514725814, \"max_depth\": 4.0, \"min_child_weight\": 1.2877573217460173e-05, \"TrainingJobName\": \"xgb-tuner-27-00-32-14-019-b6885f1d\", \"TrainingJobStatus\": \"Completed\", \"TrainingStartTime\": \"2023-01-27T00:35:35+00:00\", \"TrainingEndTime\": \"2023-01-27T00:36:12+00:00\", \"TrainingElapsedTimeSeconds\": 37.0, \"TuningJobName\": \"xgb-tuner-27-00-32-14\", \"validation:auc\": 0.6672419905662537}, {\"eta\": 0.5248442554876624, \"gamma\": 0.06673827004382778, \"max_depth\": 3.0, \"min_child_weight\": 8.449355147035803e-06, \"TrainingJobName\": \"xgb-tuner-27-00-32-14-065-f1f06d11\", \"TrainingJobStatus\": \"Completed\", \"TrainingStartTime\": \"2023-01-27T00:40:21+00:00\", \"TrainingEndTime\": \"2023-01-27T00:40:58+00:00\", \"TrainingElapsedTimeSeconds\": 37.0, \"TuningJobName\": \"xgb-tuner-27-00-32-14\", \"validation:auc\": 0.6650810241699219}, {\"eta\": 0.6117077699446535, \"gamma\": 9.091706117443728e-05, \"max_depth\": 4.0, \"min_child_weight\": 0.004199212213659081, \"TrainingJobName\": \"xgb-tuner-27-00-32-14-013-e0d8f46a\", \"TrainingJobStatus\": \"Completed\", \"TrainingStartTime\": \"2023-01-27T00:35:16+00:00\", \"TrainingEndTime\": \"2023-01-27T00:35:53+00:00\", \"TrainingElapsedTimeSeconds\": 37.0, \"TuningJobName\": \"xgb-tuner-27-00-32-14\", \"validation:auc\": 0.6631590127944946}, {\"eta\": 0.7305833570778586, \"gamma\": 0.0026267703012480205, \"max_depth\": 4.0, \"min_child_weight\": 0.00048736808614934364, \"TrainingJobName\": \"xgb-tuner-27-00-32-14-056-250a354c\", \"TrainingJobStatus\": \"Completed\", \"TrainingStartTime\": \"2023-01-27T00:39:24+00:00\", \"TrainingEndTime\": \"2023-01-27T00:40:01+00:00\", \"TrainingElapsedTimeSeconds\": 37.0, \"TuningJobName\": \"xgb-tuner-27-00-32-14\", \"validation:auc\": 0.6595889925956726}, {\"eta\": 0.47421550540709406, \"gamma\": 1.6056298953793463e-05, \"max_depth\": 3.0, \"min_child_weight\": 0.0004526933724432077, \"TrainingJobName\": \"xgb-tuner-27-00-32-14-012-33b1a582\", \"TrainingJobStatus\": \"Completed\", \"TrainingStartTime\": \"2023-01-27T00:35:14+00:00\", \"TrainingEndTime\": \"2023-01-27T00:35:51+00:00\", \"TrainingElapsedTimeSeconds\": 37.0, \"TuningJobName\": \"xgb-tuner-27-00-32-14\", \"validation:auc\": 0.6586920022964478}, {\"eta\": 0.49871657103196576, \"gamma\": 0.00023008172622317684, \"max_depth\": 5.0, \"min_child_weight\": 1.3487456636467294e-05, \"TrainingJobName\": \"xgb-tuner-27-00-32-14-060-c903e078\", \"TrainingJobStatus\": \"Completed\", \"TrainingStartTime\": \"2023-01-27T00:39:45+00:00\", \"TrainingEndTime\": \"2023-01-27T00:40:22+00:00\", \"TrainingElapsedTimeSeconds\": 37.0, \"TuningJobName\": \"xgb-tuner-27-00-32-14\", \"validation:auc\": 0.657384991645813}, {\"eta\": 0.7955871143518594, \"gamma\": 0.07132739025501157, \"max_depth\": 4.0, \"min_child_weight\": 0.028101796496451607, \"TrainingJobName\": \"xgb-tuner-27-00-32-14-094-86fc93dc\", \"TrainingJobStatus\": \"Completed\", \"TrainingStartTime\": \"2023-01-27T00:43:11+00:00\", \"TrainingEndTime\": \"2023-01-27T00:43:43+00:00\", \"TrainingElapsedTimeSeconds\": 32.0, \"TuningJobName\": \"xgb-tuner-27-00-32-14\", \"validation:auc\": 0.6564970016479492}, {\"eta\": 0.6092967298942422, \"gamma\": 0.0063553969851672595, \"max_depth\": 2.0, \"min_child_weight\": 2.7372430927854867e-05, \"TrainingJobName\": \"xgb-tuner-27-00-32-14-048-3da84955\", \"TrainingJobStatus\": \"Completed\", \"TrainingStartTime\": \"2023-01-27T00:38:25+00:00\", \"TrainingEndTime\": \"2023-01-27T00:39:02+00:00\", \"TrainingElapsedTimeSeconds\": 37.0, \"TuningJobName\": \"xgb-tuner-27-00-32-14\", \"validation:auc\": 0.6554970145225525}, {\"eta\": 0.6644263649318927, \"gamma\": 0.006686421148623481, \"max_depth\": 5.0, \"min_child_weight\": 1.0000000000000004e-06, \"TrainingJobName\": \"xgb-tuner-27-00-32-14-071-eab72cce\", \"TrainingJobStatus\": \"Completed\", \"TrainingStartTime\": \"2023-01-27T00:41:34+00:00\", \"TrainingEndTime\": \"2023-01-27T00:42:06+00:00\", \"TrainingElapsedTimeSeconds\": 32.0, \"TuningJobName\": \"xgb-tuner-27-00-32-14\", \"validation:auc\": 0.6548479795455933}, {\"eta\": 0.7483799245241507, \"gamma\": 0.13546288027215408, \"max_depth\": 4.0, \"min_child_weight\": 2.004159428836589e-05, \"TrainingJobName\": \"xgb-tuner-27-00-32-14-030-1c54ee26\", \"TrainingJobStatus\": \"Completed\", \"TrainingStartTime\": \"2023-01-27T00:36:38+00:00\", \"TrainingEndTime\": \"2023-01-27T00:37:15+00:00\", \"TrainingElapsedTimeSeconds\": 37.0, \"TuningJobName\": \"xgb-tuner-27-00-32-14\", \"validation:auc\": 0.6544730067253113}, {\"eta\": 0.6356986658481818, \"gamma\": 0.0033340390229850236, \"max_depth\": 6.0, \"min_child_weight\": 0.02451066318504093, \"TrainingJobName\": \"xgb-tuner-27-00-32-14-049-0618e802\", \"TrainingJobStatus\": \"Completed\", \"TrainingStartTime\": \"2023-01-27T00:38:28+00:00\", \"TrainingEndTime\": \"2023-01-27T00:39:37+00:00\", \"TrainingElapsedTimeSeconds\": 69.0, \"TuningJobName\": \"xgb-tuner-27-00-32-14\", \"validation:auc\": 0.653814971446991}, {\"eta\": 0.49946555836313394, \"gamma\": 7.64420171655004e-05, \"max_depth\": 5.0, \"min_child_weight\": 7.68510328235303e-06, \"TrainingJobName\": \"xgb-tuner-27-00-32-14-095-81bc994d\", \"TrainingJobStatus\": \"Completed\", \"TrainingStartTime\": \"2023-01-27T00:43:23+00:00\", \"TrainingEndTime\": \"2023-01-27T00:44:00+00:00\", \"TrainingElapsedTimeSeconds\": 37.0, \"TuningJobName\": \"xgb-tuner-27-00-32-14\", \"validation:auc\": 0.6536779999732971}, {\"eta\": 0.6219710038517458, \"gamma\": 3.072832599020894e-05, \"max_depth\": 4.0, \"min_child_weight\": 7.473893824991221e-06, \"TrainingJobName\": \"xgb-tuner-27-00-32-14-067-c7ba6b7e\", \"TrainingJobStatus\": \"Completed\", \"TrainingStartTime\": \"2023-01-27T00:40:24+00:00\", \"TrainingEndTime\": \"2023-01-27T00:41:01+00:00\", \"TrainingElapsedTimeSeconds\": 37.0, \"TuningJobName\": \"xgb-tuner-27-00-32-14\", \"validation:auc\": 0.6530629992485046}, {\"eta\": 0.6542742846979628, \"gamma\": 0.013944193469699427, \"max_depth\": 4.0, \"min_child_weight\": 1.822009893874928e-05, \"TrainingJobName\": \"xgb-tuner-27-00-32-14-096-9aedfee5\", \"TrainingJobStatus\": \"Completed\", \"TrainingStartTime\": \"2023-01-27T00:43:24+00:00\", \"TrainingEndTime\": \"2023-01-27T00:44:01+00:00\", \"TrainingElapsedTimeSeconds\": 37.0, \"TuningJobName\": \"xgb-tuner-27-00-32-14\", \"validation:auc\": 0.6523029804229736}, {\"eta\": 0.6640099947749902, \"gamma\": 0.015433726731291375, \"max_depth\": 3.0, \"min_child_weight\": 3.6897131568368724e-05, \"TrainingJobName\": \"xgb-tuner-27-00-32-14-097-2263db40\", \"TrainingJobStatus\": \"Completed\", \"TrainingStartTime\": \"2023-01-27T00:43:25+00:00\", \"TrainingEndTime\": \"2023-01-27T00:44:02+00:00\", \"TrainingElapsedTimeSeconds\": 37.0, \"TuningJobName\": \"xgb-tuner-27-00-32-14\", \"validation:auc\": 0.6511420011520386}, {\"eta\": 0.4240883596918352, \"gamma\": 0.27787594415844663, \"max_depth\": 3.0, \"min_child_weight\": 4.4808705066792956e-05, \"TrainingJobName\": \"xgb-tuner-27-00-32-14-023-9d21321a\", \"TrainingJobStatus\": \"Completed\", \"TrainingStartTime\": \"2023-01-27T00:36:08+00:00\", \"TrainingEndTime\": \"2023-01-27T00:36:45+00:00\", \"TrainingElapsedTimeSeconds\": 37.0, \"TuningJobName\": \"xgb-tuner-27-00-32-14\", \"validation:auc\": 0.6502450108528137}, {\"eta\": 0.6631377617178216, \"gamma\": 5.739237132180121e-05, \"max_depth\": 7.0, \"min_child_weight\": 0.0010599256020095106, \"TrainingJobName\": \"xgb-tuner-27-00-32-14-027-e70c798e\", \"TrainingJobStatus\": \"Completed\", \"TrainingStartTime\": \"2023-01-27T00:36:24+00:00\", \"TrainingEndTime\": \"2023-01-27T00:36:56+00:00\", \"TrainingElapsedTimeSeconds\": 32.0, \"TuningJobName\": \"xgb-tuner-27-00-32-14\", \"validation:auc\": 0.6490749716758728}, {\"eta\": 0.7196598699058606, \"gamma\": 5.705323140425428e-05, \"max_depth\": 5.0, \"min_child_weight\": 0.00017006151815770367, \"TrainingJobName\": \"xgb-tuner-27-00-32-14-087-5b0068aa\", \"TrainingJobStatus\": \"Completed\", \"TrainingStartTime\": \"2023-01-27T00:42:32+00:00\", \"TrainingEndTime\": \"2023-01-27T00:43:09+00:00\", \"TrainingElapsedTimeSeconds\": 37.0, \"TuningJobName\": \"xgb-tuner-27-00-32-14\", \"validation:auc\": 0.6483229994773865}, {\"eta\": 0.546406032681705, \"gamma\": 0.009409396891033976, \"max_depth\": 8.0, \"min_child_weight\": 0.013528529356283266, \"TrainingJobName\": \"xgb-tuner-27-00-32-14-089-f9103605\", \"TrainingJobStatus\": \"Completed\", \"TrainingStartTime\": \"2023-01-27T00:42:45+00:00\", \"TrainingEndTime\": \"2023-01-27T00:43:17+00:00\", \"TrainingElapsedTimeSeconds\": 32.0, \"TuningJobName\": \"xgb-tuner-27-00-32-14\", \"validation:auc\": 0.6483229994773865}, {\"eta\": 0.6373095412106826, \"gamma\": 0.10498745451806764, \"max_depth\": 5.0, \"min_child_weight\": 1.0000000000000004e-06, \"TrainingJobName\": \"xgb-tuner-27-00-32-14-046-5945949c\", \"TrainingJobStatus\": \"Completed\", \"TrainingStartTime\": \"2023-01-27T00:38:13+00:00\", \"TrainingEndTime\": \"2023-01-27T00:38:50+00:00\", \"TrainingElapsedTimeSeconds\": 37.0, \"TuningJobName\": \"xgb-tuner-27-00-32-14\", \"validation:auc\": 0.6482200026512146}, {\"eta\": 0.7161854399427349, \"gamma\": 2.5881420379136427e-05, \"max_depth\": 4.0, \"min_child_weight\": 0.06246576476759941, \"TrainingJobName\": \"xgb-tuner-27-00-32-14-015-ea31aea4\", \"TrainingJobStatus\": \"Completed\", \"TrainingStartTime\": \"2023-01-27T00:35:20+00:00\", \"TrainingEndTime\": \"2023-01-27T00:35:57+00:00\", \"TrainingElapsedTimeSeconds\": 37.0, \"TuningJobName\": \"xgb-tuner-27-00-32-14\", \"validation:auc\": 0.647707998752594}, {\"eta\": 0.6170108326048533, \"gamma\": 0.0021337369962837294, \"max_depth\": 3.0, \"min_child_weight\": 4.422131607757105e-06, \"TrainingJobName\": \"xgb-tuner-27-00-32-14-041-173a1dfd\", \"TrainingJobStatus\": \"Completed\", \"TrainingStartTime\": \"2023-01-27T00:37:45+00:00\", \"TrainingEndTime\": \"2023-01-27T00:38:22+00:00\", \"TrainingElapsedTimeSeconds\": 37.0, \"TuningJobName\": \"xgb-tuner-27-00-32-14\", \"validation:auc\": 0.6472899913787842}, {\"eta\": 0.48167564866256796, \"gamma\": 1.4997046012771859e-05, \"max_depth\": 6.0, \"min_child_weight\": 1.134356855058567e-05, \"TrainingJobName\": \"xgb-tuner-27-00-32-14-025-39ef4700\", \"TrainingJobStatus\": \"Completed\", \"TrainingStartTime\": \"2023-01-27T00:36:21+00:00\", \"TrainingEndTime\": \"2023-01-27T00:36:58+00:00\", \"TrainingElapsedTimeSeconds\": 37.0, \"TuningJobName\": \"xgb-tuner-27-00-32-14\", \"validation:auc\": 0.6472899913787842}, {\"eta\": 1.0, \"gamma\": 1.0000000000000004e-06, \"max_depth\": 2.0, \"min_child_weight\": 2.715628905707335, \"TrainingJobName\": \"xgb-tuner-27-00-32-14-011-bd91024e\", \"TrainingJobStatus\": \"Completed\", \"TrainingStartTime\": \"2023-01-27T00:35:12+00:00\", \"TrainingEndTime\": \"2023-01-27T00:35:49+00:00\", \"TrainingElapsedTimeSeconds\": 37.0, \"TuningJobName\": \"xgb-tuner-27-00-32-14\", \"validation:auc\": 0.6465380191802979}, {\"eta\": 0.741499041138007, \"gamma\": 0.00011501406956120287, \"max_depth\": 4.0, \"min_child_weight\": 5.2424373666487885e-06, \"TrainingJobName\": \"xgb-tuner-27-00-32-14-062-315eab2f\", \"TrainingJobStatus\": \"Completed\", \"TrainingStartTime\": \"2023-01-27T00:39:59+00:00\", \"TrainingEndTime\": \"2023-01-27T00:40:36+00:00\", \"TrainingElapsedTimeSeconds\": 37.0, \"TuningJobName\": \"xgb-tuner-27-00-32-14\", \"validation:auc\": 0.6461279988288879}, {\"eta\": 0.5714316140242427, \"gamma\": 0.011947526132969233, \"max_depth\": 4.0, \"min_child_weight\": 0.0004496409294629394, \"TrainingJobName\": \"xgb-tuner-27-00-32-14-091-e5dd2184\", \"TrainingJobStatus\": \"Completed\", \"TrainingStartTime\": \"2023-01-27T00:42:59+00:00\", \"TrainingEndTime\": \"2023-01-27T00:43:36+00:00\", \"TrainingElapsedTimeSeconds\": 37.0, \"TuningJobName\": \"xgb-tuner-27-00-32-14\", \"validation:auc\": 0.6453679800033569}, {\"eta\": 0.3952851132087465, \"gamma\": 0.0013974499106955112, \"max_depth\": 4.0, \"min_child_weight\": 5.293464813289082e-06, \"TrainingJobName\": \"xgb-tuner-27-00-32-14-039-26633656\", \"TrainingJobStatus\": \"Completed\", \"TrainingStartTime\": \"2023-01-27T00:37:33+00:00\", \"TrainingEndTime\": \"2023-01-27T00:38:10+00:00\", \"TrainingElapsedTimeSeconds\": 37.0, \"TuningJobName\": \"xgb-tuner-27-00-32-14\", \"validation:auc\": 0.6448550224304199}, {\"eta\": 0.7264214786954166, \"gamma\": 0.0012381729251901296, \"max_depth\": 4.0, \"min_child_weight\": 5.8290802375453766e-06, \"TrainingJobName\": \"xgb-tuner-27-00-32-14-055-f2631c7b\", \"TrainingJobStatus\": \"Completed\", \"TrainingStartTime\": \"2023-01-27T00:39:12+00:00\", \"TrainingEndTime\": \"2023-01-27T00:39:49+00:00\", \"TrainingElapsedTimeSeconds\": 37.0, \"TuningJobName\": \"xgb-tuner-27-00-32-14\", \"validation:auc\": 0.6447529792785645}, {\"eta\": 0.37221220987193515, \"gamma\": 0.009588918951566711, \"max_depth\": 4.0, \"min_child_weight\": 4.7712872170100565e-05, \"TrainingJobName\": \"xgb-tuner-27-00-32-14-098-fad7ba04\", \"TrainingJobStatus\": \"Completed\", \"TrainingStartTime\": \"2023-01-27T00:43:37+00:00\", \"TrainingEndTime\": \"2023-01-27T00:44:14+00:00\", \"TrainingElapsedTimeSeconds\": 37.0, \"TuningJobName\": \"xgb-tuner-27-00-32-14\", \"validation:auc\": 0.6432070136070251}, {\"eta\": 0.34789294508620394, \"gamma\": 3.785361185733168e-05, \"max_depth\": 5.0, \"min_child_weight\": 0.0002510718258344753, \"TrainingJobName\": \"xgb-tuner-27-00-32-14-085-e328e71a\", \"TrainingJobStatus\": \"Completed\", \"TrainingStartTime\": \"2023-01-27T00:42:28+00:00\", \"TrainingEndTime\": \"2023-01-27T00:43:05+00:00\", \"TrainingElapsedTimeSeconds\": 37.0, \"TuningJobName\": \"xgb-tuner-27-00-32-14\", \"validation:auc\": 0.6417980194091797}, {\"eta\": 1.0, \"gamma\": 3.662828378864391e-05, \"max_depth\": 3.0, \"min_child_weight\": 1.5195140665984885e-06, \"TrainingJobName\": \"xgb-tuner-27-00-32-14-022-dc2e8432\", \"TrainingJobStatus\": \"Completed\", \"TrainingStartTime\": \"2023-01-27T00:36:06+00:00\", \"TrainingEndTime\": \"2023-01-27T00:36:43+00:00\", \"TrainingElapsedTimeSeconds\": 37.0, \"TuningJobName\": \"xgb-tuner-27-00-32-14\", \"validation:auc\": 0.641182005405426}, {\"eta\": 1.0, \"gamma\": 8.045316338302279e-05, \"max_depth\": 3.0, \"min_child_weight\": 6.937228646628226e-06, \"TrainingJobName\": \"xgb-tuner-27-00-32-14-068-627112bd\", \"TrainingJobStatus\": \"Completed\", \"TrainingStartTime\": \"2023-01-27T00:40:34+00:00\", \"TrainingEndTime\": \"2023-01-27T00:41:11+00:00\", \"TrainingElapsedTimeSeconds\": 37.0, \"TuningJobName\": \"xgb-tuner-27-00-32-14\", \"validation:auc\": 0.641182005405426}, {\"eta\": 0.36606677700059287, \"gamma\": 0.0019054963649105118, \"max_depth\": 6.0, \"min_child_weight\": 1.810145691616177e-06, \"TrainingJobName\": \"xgb-tuner-27-00-32-14-100-e5881b85\", \"TrainingJobStatus\": \"Completed\", \"TrainingStartTime\": \"2023-01-27T00:43:49+00:00\", \"TrainingEndTime\": \"2023-01-27T00:44:26+00:00\", \"TrainingElapsedTimeSeconds\": 37.0, \"TuningJobName\": \"xgb-tuner-27-00-32-14\", \"validation:auc\": 0.6407639980316162}, {\"eta\": 1.0, \"gamma\": 2.6037968858547393, \"max_depth\": 2.0, \"min_child_weight\": 1.2697212535128511e-05, \"TrainingJobName\": \"xgb-tuner-27-00-32-14-021-03800cc4\", \"TrainingJobStatus\": \"Completed\", \"TrainingStartTime\": \"2023-01-27T00:36:05+00:00\", \"TrainingEndTime\": \"2023-01-27T00:36:37+00:00\", \"TrainingElapsedTimeSeconds\": 32.0, \"TuningJobName\": \"xgb-tuner-27-00-32-14\", \"validation:auc\": 0.6396369934082031}, {\"eta\": 0.6061169641469015, \"gamma\": 2.48142866123969e-05, \"max_depth\": 4.0, \"min_child_weight\": 0.002077424787399627, \"TrainingJobName\": \"xgb-tuner-27-00-32-14-045-9f1c7c0c\", \"TrainingJobStatus\": \"Completed\", \"TrainingStartTime\": \"2023-01-27T00:38:11+00:00\", \"TrainingEndTime\": \"2023-01-27T00:38:49+00:00\", \"TrainingElapsedTimeSeconds\": 38.0, \"TuningJobName\": \"xgb-tuner-27-00-32-14\", \"validation:auc\": 0.6396369934082031}, {\"eta\": 0.43239484629016267, \"gamma\": 0.0018994187574527745, \"max_depth\": 4.0, \"min_child_weight\": 0.002402870716870257, \"TrainingJobName\": \"xgb-tuner-27-00-32-14-061-613ffa0a\", \"TrainingJobStatus\": \"Completed\", \"TrainingStartTime\": \"2023-01-27T00:39:56+00:00\", \"TrainingEndTime\": \"2023-01-27T00:40:33+00:00\", \"TrainingElapsedTimeSeconds\": 37.0, \"TuningJobName\": \"xgb-tuner-27-00-32-14\", \"validation:auc\": 0.6395000219345093}, {\"eta\": 0.5998819652513464, \"gamma\": 0.0037477418987127108, \"max_depth\": 5.0, \"min_child_weight\": 0.0001242703041948144, \"TrainingJobName\": \"xgb-tuner-27-00-32-14-066-08e0659c\", \"TrainingJobStatus\": \"Completed\", \"TrainingStartTime\": \"2023-01-27T00:40:23+00:00\", \"TrainingEndTime\": \"2023-01-27T00:41:00+00:00\", \"TrainingElapsedTimeSeconds\": 37.0, \"TuningJobName\": \"xgb-tuner-27-00-32-14\", \"validation:auc\": 0.6386029720306396}, {\"eta\": 0.6762553872391476, \"gamma\": 0.05917536117240635, \"max_depth\": 3.0, \"min_child_weight\": 1.0000000000000004e-06, \"TrainingJobName\": \"xgb-tuner-27-00-32-14-086-2c175c1f\", \"TrainingJobStatus\": \"Completed\", \"TrainingStartTime\": \"2023-01-27T00:42:29+00:00\", \"TrainingEndTime\": \"2023-01-27T00:43:06+00:00\", \"TrainingElapsedTimeSeconds\": 37.0, \"TuningJobName\": \"xgb-tuner-27-00-32-14\", \"validation:auc\": 0.6373729705810547}, {\"eta\": 0.8377055461831366, \"gamma\": 2.956022791664258e-06, \"max_depth\": 4.0, \"min_child_weight\": 3.236031442005493, \"TrainingJobName\": \"xgb-tuner-27-00-32-14-020-45653dac\", \"TrainingJobStatus\": \"Completed\", \"TrainingStartTime\": \"2023-01-27T00:35:37+00:00\", \"TrainingEndTime\": \"2023-01-27T00:36:15+00:00\", \"TrainingElapsedTimeSeconds\": 38.0, \"TuningJobName\": \"xgb-tuner-27-00-32-14\", \"validation:auc\": 0.6373050212860107}, {\"eta\": 0.4278861886360612, \"gamma\": 0.028671357748997164, \"max_depth\": 3.0, \"min_child_weight\": 4.24116341901807e-06, \"TrainingJobName\": \"xgb-tuner-27-00-32-14-083-918c4d0b\", \"TrainingJobStatus\": \"Completed\", \"TrainingStartTime\": \"2023-01-27T00:42:13+00:00\", \"TrainingEndTime\": \"2023-01-27T00:42:51+00:00\", \"TrainingElapsedTimeSeconds\": 38.0, \"TuningJobName\": \"xgb-tuner-27-00-32-14\", \"validation:auc\": 0.636817991733551}, {\"eta\": 0.42829795765113643, \"gamma\": 0.0003688577095309749, \"max_depth\": 3.0, \"min_child_weight\": 1.477261019805e-05, \"TrainingJobName\": \"xgb-tuner-27-00-32-14-042-c7091d21\", \"TrainingJobStatus\": \"Completed\", \"TrainingStartTime\": \"2023-01-27T00:37:58+00:00\", \"TrainingEndTime\": \"2023-01-27T00:38:35+00:00\", \"TrainingElapsedTimeSeconds\": 37.0, \"TuningJobName\": \"xgb-tuner-27-00-32-14\", \"validation:auc\": 0.636817991733551}, {\"eta\": 0.5118912386147776, \"gamma\": 7.890643488111676e-05, \"max_depth\": 5.0, \"min_child_weight\": 0.044369281539351664, \"TrainingJobName\": \"xgb-tuner-27-00-32-14-057-519fb4bb\", \"TrainingJobStatus\": \"Completed\", \"TrainingStartTime\": \"2023-01-27T00:39:27+00:00\", \"TrainingEndTime\": \"2023-01-27T00:40:04+00:00\", \"TrainingElapsedTimeSeconds\": 37.0, \"TuningJobName\": \"xgb-tuner-27-00-32-14\", \"validation:auc\": 0.6354089975357056}, {\"eta\": 0.6652455305412062, \"gamma\": 0.0012013990645907645, \"max_depth\": 4.0, \"min_child_weight\": 9.956093177172022e-06, \"TrainingJobName\": \"xgb-tuner-27-00-32-14-054-6db398da\", \"TrainingJobStatus\": \"Completed\", \"TrainingStartTime\": \"2023-01-27T00:39:10+00:00\", \"TrainingEndTime\": \"2023-01-27T00:39:47+00:00\", \"TrainingElapsedTimeSeconds\": 37.0, \"TuningJobName\": \"xgb-tuner-27-00-32-14\", \"validation:auc\": 0.6341450214385986}, {\"eta\": 0.3966484840085948, \"gamma\": 3.185793419903464e-05, \"max_depth\": 9.0, \"min_child_weight\": 0.0015552458699823236, \"TrainingJobName\": \"xgb-tuner-27-00-32-14-024-dfcd91b5\", \"TrainingJobStatus\": \"Completed\", \"TrainingStartTime\": \"2023-01-27T00:36:20+00:00\", \"TrainingEndTime\": \"2023-01-27T00:36:57+00:00\", \"TrainingElapsedTimeSeconds\": 37.0, \"TuningJobName\": \"xgb-tuner-27-00-32-14\", \"validation:auc\": 0.6338629722595215}, {\"eta\": 0.4193936520948444, \"gamma\": 0.0068696551301294685, \"max_depth\": 6.0, \"min_child_weight\": 8.63401419425253, \"TrainingJobName\": \"xgb-tuner-27-00-32-14-070-cb3ba952\", \"TrainingJobStatus\": \"Completed\", \"TrainingStartTime\": \"2023-01-27T00:40:56+00:00\", \"TrainingEndTime\": \"2023-01-27T00:41:33+00:00\", \"TrainingElapsedTimeSeconds\": 37.0, \"TuningJobName\": \"xgb-tuner-27-00-32-14\", \"validation:auc\": 0.6334869861602783}, {\"eta\": 0.6402696656003852, \"gamma\": 0.238407891251487, \"max_depth\": 5.0, \"min_child_weight\": 0.0003374883807496179, \"TrainingJobName\": \"xgb-tuner-27-00-32-14-074-8ef2ce45\", \"TrainingJobStatus\": \"Completed\", \"TrainingStartTime\": \"2023-01-27T00:41:12+00:00\", \"TrainingEndTime\": \"2023-01-27T00:41:49+00:00\", \"TrainingElapsedTimeSeconds\": 37.0, \"TuningJobName\": \"xgb-tuner-27-00-32-14\", \"validation:auc\": 0.6331110000610352}, {\"eta\": 0.6117262573473438, \"gamma\": 1.398631560743163e-05, \"max_depth\": 5.0, \"min_child_weight\": 1.0000000000000004e-06, \"TrainingJobName\": \"xgb-tuner-27-00-32-14-064-a6acacb1\", \"TrainingJobStatus\": \"Completed\", \"TrainingStartTime\": \"2023-01-27T00:40:11+00:00\", \"TrainingEndTime\": \"2023-01-27T00:40:48+00:00\", \"TrainingElapsedTimeSeconds\": 37.0, \"TuningJobName\": \"xgb-tuner-27-00-32-14\", \"validation:auc\": 0.6322140097618103}, {\"eta\": 0.5450513788245345, \"gamma\": 0.023997161658665934, \"max_depth\": 3.0, \"min_child_weight\": 0.0011307903371878655, \"TrainingJobName\": \"xgb-tuner-27-00-32-14-047-c1bf37a6\", \"TrainingJobStatus\": \"Completed\", \"TrainingStartTime\": \"2023-01-27T00:38:23+00:00\", \"TrainingEndTime\": \"2023-01-27T00:39:00+00:00\", \"TrainingElapsedTimeSeconds\": 37.0, \"TuningJobName\": \"xgb-tuner-27-00-32-14\", \"validation:auc\": 0.631974995136261}, {\"eta\": 0.5251037630037244, \"gamma\": 0.00010429844559267887, \"max_depth\": 7.0, \"min_child_weight\": 0.000124688932373774, \"TrainingJobName\": \"xgb-tuner-27-00-32-14-037-b3352c8d\", \"TrainingJobStatus\": \"Completed\", \"TrainingStartTime\": \"2023-01-27T00:37:21+00:00\", \"TrainingEndTime\": \"2023-01-27T00:37:58+00:00\", \"TrainingElapsedTimeSeconds\": 37.0, \"TuningJobName\": \"xgb-tuner-27-00-32-14\", \"validation:auc\": 0.6315649747848511}, {\"eta\": 0.5750296535158318, \"gamma\": 0.0005356791850083888, \"max_depth\": 4.0, \"min_child_weight\": 0.0006560439054944225, \"TrainingJobName\": \"xgb-tuner-27-00-32-14-058-a494ef32\", \"TrainingJobStatus\": \"Completed\", \"TrainingStartTime\": \"2023-01-27T00:39:25+00:00\", \"TrainingEndTime\": \"2023-01-27T00:40:03+00:00\", \"TrainingElapsedTimeSeconds\": 38.0, \"TuningJobName\": \"xgb-tuner-27-00-32-14\", \"validation:auc\": 0.6311900019645691}, {\"eta\": 0.4710020850908987, \"gamma\": 0.037796880552120306, \"max_depth\": 3.0, \"min_child_weight\": 1.6786418188130076e-06, \"TrainingJobName\": \"xgb-tuner-27-00-32-14-084-db359e61\", \"TrainingJobStatus\": \"Completed\", \"TrainingStartTime\": \"2023-01-27T00:42:16+00:00\", \"TrainingEndTime\": \"2023-01-27T00:42:53+00:00\", \"TrainingElapsedTimeSeconds\": 37.0, \"TuningJobName\": \"xgb-tuner-27-00-32-14\", \"validation:auc\": 0.6285070180892944}, {\"eta\": 0.6178565499383187, \"gamma\": 0.014292213068502028, \"max_depth\": 4.0, \"min_child_weight\": 0.0026902539516559954, \"TrainingJobName\": \"xgb-tuner-27-00-32-14-093-ee138b37\", \"TrainingJobStatus\": \"Completed\", \"TrainingStartTime\": \"2023-01-27T00:43:10+00:00\", \"TrainingEndTime\": \"2023-01-27T00:43:47+00:00\", \"TrainingElapsedTimeSeconds\": 37.0, \"TuningJobName\": \"xgb-tuner-27-00-32-14\", \"validation:auc\": 0.6282680034637451}, {\"eta\": 0.5842534551997427, \"gamma\": 0.011535655347354581, \"max_depth\": 4.0, \"min_child_weight\": 4.922417913019629e-06, \"TrainingJobName\": \"xgb-tuner-27-00-32-14-090-2562178c\", \"TrainingJobStatus\": \"Completed\", \"TrainingStartTime\": \"2023-01-27T00:42:49+00:00\", \"TrainingEndTime\": \"2023-01-27T00:43:26+00:00\", \"TrainingElapsedTimeSeconds\": 37.0, \"TuningJobName\": \"xgb-tuner-27-00-32-14\", \"validation:auc\": 0.6278589963912964}, {\"eta\": 0.6714709759825583, \"gamma\": 0.0002395469454789276, \"max_depth\": 4.0, \"min_child_weight\": 6.444226531267536, \"TrainingJobName\": \"xgb-tuner-27-00-32-14-028-40513841\", \"TrainingJobStatus\": \"Completed\", \"TrainingStartTime\": \"2023-01-27T00:36:26+00:00\", \"TrainingEndTime\": \"2023-01-27T00:37:04+00:00\", \"TrainingElapsedTimeSeconds\": 38.0, \"TuningJobName\": \"xgb-tuner-27-00-32-14\", \"validation:auc\": 0.625868022441864}, {\"eta\": 0.5628506447118127, \"gamma\": 0.003116066470811988, \"max_depth\": 5.0, \"min_child_weight\": 1.190582515607563e-05, \"TrainingJobName\": \"xgb-tuner-27-00-32-14-043-5917450f\", \"TrainingJobStatus\": \"Completed\", \"TrainingStartTime\": \"2023-01-27T00:37:59+00:00\", \"TrainingEndTime\": \"2023-01-27T00:38:36+00:00\", \"TrainingElapsedTimeSeconds\": 37.0, \"TuningJobName\": \"xgb-tuner-27-00-32-14\", \"validation:auc\": 0.625074028968811}, {\"eta\": 0.9397750941086543, \"gamma\": 0.00013492243135819249, \"max_depth\": 3.0, \"min_child_weight\": 0.2415813089052414, \"TrainingJobName\": \"xgb-tuner-27-00-32-14-017-c03bdd48\", \"TrainingJobStatus\": \"Completed\", \"TrainingStartTime\": \"2023-01-27T00:35:23+00:00\", \"TrainingEndTime\": \"2023-01-27T00:35:55+00:00\", \"TrainingElapsedTimeSeconds\": 32.0, \"TuningJobName\": \"xgb-tuner-27-00-32-14\", \"validation:auc\": 0.6245610117912292}, {\"eta\": 0.8359471705611338, \"gamma\": 3.433551335861872e-05, \"max_depth\": 4.0, \"min_child_weight\": 0.22131803200080957, \"TrainingJobName\": \"xgb-tuner-27-00-32-14-009-fd63763a\", \"TrainingJobStatus\": \"Completed\", \"TrainingStartTime\": \"2023-01-27T00:33:40+00:00\", \"TrainingEndTime\": \"2023-01-27T00:34:57+00:00\", \"TrainingElapsedTimeSeconds\": 77.0, \"TuningJobName\": \"xgb-tuner-27-00-32-14\", \"validation:auc\": 0.6243219971656799}, {\"eta\": 0.5776227432634761, \"gamma\": 4.289405759748363e-05, \"max_depth\": 4.0, \"min_child_weight\": 1.0000000000000004e-06, \"TrainingJobName\": \"xgb-tuner-27-00-32-14-053-e26dea63\", \"TrainingJobStatus\": \"Completed\", \"TrainingStartTime\": \"2023-01-27T00:38:59+00:00\", \"TrainingEndTime\": \"2023-01-27T00:39:35+00:00\", \"TrainingElapsedTimeSeconds\": 36.0, \"TuningJobName\": \"xgb-tuner-27-00-32-14\", \"validation:auc\": 0.6231520175933838}, {\"eta\": 0.14728854198850666, \"gamma\": 4.528202138798706e-05, \"max_depth\": 2.0, \"min_child_weight\": 1.0000000000000004e-06, \"TrainingJobName\": \"xgb-tuner-27-00-32-14-081-9fcdd316\", \"TrainingJobStatus\": \"Completed\", \"TrainingStartTime\": \"2023-01-27T00:42:00+00:00\", \"TrainingEndTime\": \"2023-01-27T00:42:32+00:00\", \"TrainingElapsedTimeSeconds\": 32.0, \"TuningJobName\": \"xgb-tuner-27-00-32-14\", \"validation:auc\": 0.621845006942749}, {\"eta\": 0.7526128662135111, \"gamma\": 1.56471042293834e-05, \"max_depth\": 4.0, \"min_child_weight\": 0.4039043614291203, \"TrainingJobName\": \"xgb-tuner-27-00-32-14-016-b34f8d41\", \"TrainingJobStatus\": \"Completed\", \"TrainingStartTime\": \"2023-01-27T00:35:21+00:00\", \"TrainingEndTime\": \"2023-01-27T00:35:58+00:00\", \"TrainingElapsedTimeSeconds\": 37.0, \"TuningJobName\": \"xgb-tuner-27-00-32-14\", \"validation:auc\": 0.6208540201187134}, {\"eta\": 0.637679880397023, \"gamma\": 0.05487967574792731, \"max_depth\": 5.0, \"min_child_weight\": 0.00034261812903249383, \"TrainingJobName\": \"xgb-tuner-27-00-32-14-073-d792ac5a\", \"TrainingJobStatus\": \"Completed\", \"TrainingStartTime\": \"2023-01-27T00:41:11+00:00\", \"TrainingEndTime\": \"2023-01-27T00:41:43+00:00\", \"TrainingElapsedTimeSeconds\": 32.0, \"TuningJobName\": \"xgb-tuner-27-00-32-14\", \"validation:auc\": 0.6201969981193542}, {\"eta\": 0.6357947996230265, \"gamma\": 0.14658141286157195, \"max_depth\": 5.0, \"min_child_weight\": 0.00035985533981601286, \"TrainingJobName\": \"xgb-tuner-27-00-32-14-072-59bfa43d\", \"TrainingJobStatus\": \"Completed\", \"TrainingStartTime\": \"2023-01-27T00:41:09+00:00\", \"TrainingEndTime\": \"2023-01-27T00:41:46+00:00\", \"TrainingElapsedTimeSeconds\": 37.0, \"TuningJobName\": \"xgb-tuner-27-00-32-14\", \"validation:auc\": 0.6199579834938049}, {\"eta\": 0.49897450164719176, \"gamma\": 0.0016793375989149837, \"max_depth\": 3.0, \"min_child_weight\": 0.0005683532068114051, \"TrainingJobName\": \"xgb-tuner-27-00-32-14-051-a5517b26\", \"TrainingJobStatus\": \"Completed\", \"TrainingStartTime\": \"2023-01-27T00:38:52+00:00\", \"TrainingEndTime\": \"2023-01-27T00:39:29+00:00\", \"TrainingElapsedTimeSeconds\": 37.0, \"TuningJobName\": \"xgb-tuner-27-00-32-14\", \"validation:auc\": 0.6196839809417725}, {\"eta\": 0.7555240536507495, \"gamma\": 9.595792940190414e-05, \"max_depth\": 4.0, \"min_child_weight\": 0.0003189132600245382, \"TrainingJobName\": \"xgb-tuner-27-00-32-14-099-3e33eb12\", \"TrainingJobStatus\": \"Completed\", \"TrainingStartTime\": \"2023-01-27T00:43:38+00:00\", \"TrainingEndTime\": \"2023-01-27T00:44:10+00:00\", \"TrainingElapsedTimeSeconds\": 32.0, \"TuningJobName\": \"xgb-tuner-27-00-32-14\", \"validation:auc\": 0.6195819973945618}, {\"eta\": 0.48983785148591863, \"gamma\": 0.0003036995521009961, \"max_depth\": 4.0, \"min_child_weight\": 6.53471847939645e-05, \"TrainingJobName\": \"xgb-tuner-27-00-32-14-059-5bc69b2b\", \"TrainingJobStatus\": \"Completed\", \"TrainingStartTime\": \"2023-01-27T00:39:35+00:00\", \"TrainingEndTime\": \"2023-01-27T00:40:07+00:00\", \"TrainingElapsedTimeSeconds\": 32.0, \"TuningJobName\": \"xgb-tuner-27-00-32-14\", \"validation:auc\": 0.6195480227470398}, {\"eta\": 0.6596380424735289, \"gamma\": 0.0001595156360026607, \"max_depth\": 3.0, \"min_child_weight\": 4.9679946873863525e-06, \"TrainingJobName\": \"xgb-tuner-27-00-32-14-069-a94b62a6\", \"TrainingJobStatus\": \"Completed\", \"TrainingStartTime\": \"2023-01-27T00:40:45+00:00\", \"TrainingEndTime\": \"2023-01-27T00:41:22+00:00\", \"TrainingElapsedTimeSeconds\": 37.0, \"TuningJobName\": \"xgb-tuner-27-00-32-14\", \"validation:auc\": 0.6184449791908264}, {\"eta\": 0.9331786005636951, \"gamma\": 0.003668362904278892, \"max_depth\": 3.0, \"min_child_weight\": 1.1502328600499171e-05, \"TrainingJobName\": \"xgb-tuner-27-00-32-14-040-444c4992\", \"TrainingJobStatus\": \"Completed\", \"TrainingStartTime\": \"2023-01-27T00:37:35+00:00\", \"TrainingEndTime\": \"2023-01-27T00:38:12+00:00\", \"TrainingElapsedTimeSeconds\": 37.0, \"TuningJobName\": \"xgb-tuner-27-00-32-14\", \"validation:auc\": 0.6178990006446838}, {\"eta\": 0.5676987192532995, \"gamma\": 2.5036004130127496e-05, \"max_depth\": 8.0, \"min_child_weight\": 4.025217823517108e-06, \"TrainingJobName\": \"xgb-tuner-27-00-32-14-026-4a7a2f77\", \"TrainingJobStatus\": \"Completed\", \"TrainingStartTime\": \"2023-01-27T00:36:23+00:00\", \"TrainingEndTime\": \"2023-01-27T00:37:00+00:00\", \"TrainingElapsedTimeSeconds\": 37.0, \"TuningJobName\": \"xgb-tuner-27-00-32-14\", \"validation:auc\": 0.6163539886474609}, {\"eta\": 0.06234563491352867, \"gamma\": 0.0005215563028510416, \"max_depth\": 3.0, \"min_child_weight\": 2.338691987988232e-05, \"TrainingJobName\": \"xgb-tuner-27-00-32-14-033-615aaed0\", \"TrainingJobStatus\": \"Completed\", \"TrainingStartTime\": \"2023-01-27T00:37:05+00:00\", \"TrainingEndTime\": \"2023-01-27T00:37:42+00:00\", \"TrainingElapsedTimeSeconds\": 37.0, \"TuningJobName\": \"xgb-tuner-27-00-32-14\", \"validation:auc\": 0.616320013999939}, {\"eta\": 0.5123306669514447, \"gamma\": 3.62024175853428e-06, \"max_depth\": 4.0, \"min_child_weight\": 1.0000000000000004e-06, \"TrainingJobName\": \"xgb-tuner-27-00-32-14-044-b6c3be2e\", \"TrainingJobStatus\": \"Completed\", \"TrainingStartTime\": \"2023-01-27T00:38:10+00:00\", \"TrainingEndTime\": \"2023-01-27T00:38:47+00:00\", \"TrainingElapsedTimeSeconds\": 37.0, \"TuningJobName\": \"xgb-tuner-27-00-32-14\", \"validation:auc\": 0.6150810122489929}, {\"eta\": 0.24298491654676221, \"gamma\": 0.0008399557896829198, \"max_depth\": 3.0, \"min_child_weight\": 0.4534994327450448, \"TrainingJobName\": \"xgb-tuner-27-00-32-14-006-e33efcce\", \"TrainingJobStatus\": \"Completed\", \"TrainingStartTime\": \"2023-01-27T00:33:31+00:00\", \"TrainingEndTime\": \"2023-01-27T00:34:43+00:00\", \"TrainingElapsedTimeSeconds\": 72.0, \"TuningJobName\": \"xgb-tuner-27-00-32-14\", \"validation:auc\": 0.6130229830741882}, {\"eta\": 0.013543863501630829, \"gamma\": 0.0004029332978850028, \"max_depth\": 9.0, \"min_child_weight\": 0.052027285932234095, \"TrainingJobName\": \"xgb-tuner-27-00-32-14-003-2d579a1a\", \"TrainingJobStatus\": \"Completed\", \"TrainingStartTime\": \"2023-01-27T00:33:22+00:00\", \"TrainingEndTime\": \"2023-01-27T00:34:39+00:00\", \"TrainingElapsedTimeSeconds\": 77.0, \"TuningJobName\": \"xgb-tuner-27-00-32-14\", \"validation:auc\": 0.609794020652771}, {\"eta\": 0.7041841803097875, \"gamma\": 7.073172460299421e-05, \"max_depth\": 3.0, \"min_child_weight\": 0.00020321584468583527, \"TrainingJobName\": \"xgb-tuner-27-00-32-14-092-d43b34ab\", \"TrainingJobStatus\": \"Completed\", \"TrainingStartTime\": \"2023-01-27T00:42:59+00:00\", \"TrainingEndTime\": \"2023-01-27T00:43:36+00:00\", \"TrainingElapsedTimeSeconds\": 37.0, \"TuningJobName\": \"xgb-tuner-27-00-32-14\", \"validation:auc\": 0.6093490123748779}, {\"eta\": 0.010073624418892245, \"gamma\": 0.00830111922327891, \"max_depth\": 10.0, \"min_child_weight\": 1.332321132991865e-06, \"TrainingJobName\": \"xgb-tuner-27-00-32-14-001-e0716914\", \"TrainingJobStatus\": \"Completed\", \"TrainingStartTime\": \"2023-01-27T00:33:22+00:00\", \"TrainingEndTime\": \"2023-01-27T00:34:40+00:00\", \"TrainingElapsedTimeSeconds\": 78.0, \"TuningJobName\": \"xgb-tuner-27-00-32-14\", \"validation:auc\": 0.6080089807510376}, {\"eta\": 0.9615893486759137, \"gamma\": 10.0, \"max_depth\": 10.0, \"min_child_weight\": 0.35260344213907346, \"TrainingJobName\": \"xgb-tuner-27-00-32-14-079-4e2c417e\", \"TrainingJobStatus\": \"Completed\", \"TrainingStartTime\": \"2023-01-27T00:41:39+00:00\", \"TrainingEndTime\": \"2023-01-27T00:42:16+00:00\", \"TrainingElapsedTimeSeconds\": 37.0, \"TuningJobName\": \"xgb-tuner-27-00-32-14\", \"validation:auc\": 0.6079059839248657}, {\"eta\": 0.015737279278801312, \"gamma\": 8.02878639437093e-05, \"max_depth\": 7.0, \"min_child_weight\": 1.2764359691357437e-05, \"TrainingJobName\": \"xgb-tuner-27-00-32-14-035-26529775\", \"TrainingJobStatus\": \"Completed\", \"TrainingStartTime\": \"2023-01-27T00:37:17+00:00\", \"TrainingEndTime\": \"2023-01-27T00:37:54+00:00\", \"TrainingElapsedTimeSeconds\": 37.0, \"TuningJobName\": \"xgb-tuner-27-00-32-14\", \"validation:auc\": 0.6065999865531921}, {\"eta\": 0.05926693990698721, \"gamma\": 2.0554471206930995, \"max_depth\": 6.0, \"min_child_weight\": 0.38445170251237426, \"TrainingJobName\": \"xgb-tuner-27-00-32-14-008-7f378c87\", \"TrainingJobStatus\": \"Completed\", \"TrainingStartTime\": \"2023-01-27T00:33:38+00:00\", \"TrainingEndTime\": \"2023-01-27T00:35:17+00:00\", \"TrainingElapsedTimeSeconds\": 99.0, \"TuningJobName\": \"xgb-tuner-27-00-32-14\", \"validation:auc\": 0.6063609719276428}, {\"eta\": 0.621527883901154, \"gamma\": 10.0, \"max_depth\": 4.0, \"min_child_weight\": 8.183605031511757e-05, \"TrainingJobName\": \"xgb-tuner-27-00-32-14-075-dd99034c\", \"TrainingJobStatus\": \"Completed\", \"TrainingStartTime\": \"2023-01-27T00:41:23+00:00\", \"TrainingEndTime\": \"2023-01-27T00:41:55+00:00\", \"TrainingElapsedTimeSeconds\": 32.0, \"TuningJobName\": \"xgb-tuner-27-00-32-14\", \"validation:auc\": 0.6025170087814331}, {\"eta\": 0.6229969584278626, \"gamma\": 10.0, \"max_depth\": 4.0, \"min_child_weight\": 5.6788479519390415e-05, \"TrainingJobName\": \"xgb-tuner-27-00-32-14-076-ecc83d0a\", \"TrainingJobStatus\": \"Completed\", \"TrainingStartTime\": \"2023-01-27T00:41:25+00:00\", \"TrainingEndTime\": \"2023-01-27T00:42:02+00:00\", \"TrainingElapsedTimeSeconds\": 37.0, \"TuningJobName\": \"xgb-tuner-27-00-32-14\", \"validation:auc\": 0.6025170087814331}, {\"eta\": 0.6306443080025225, \"gamma\": 10.0, \"max_depth\": 4.0, \"min_child_weight\": 5.663521409377295e-05, \"TrainingJobName\": \"xgb-tuner-27-00-32-14-077-0a6269e7\", \"TrainingJobStatus\": \"Completed\", \"TrainingStartTime\": \"2023-01-27T00:41:28+00:00\", \"TrainingEndTime\": \"2023-01-27T00:42:05+00:00\", \"TrainingElapsedTimeSeconds\": 37.0, \"TuningJobName\": \"xgb-tuner-27-00-32-14\", \"validation:auc\": 0.6025170087814331}, {\"eta\": 0.046091054776706754, \"gamma\": 0.0002660269618959971, \"max_depth\": 3.0, \"min_child_weight\": 1.7287015364459517, \"TrainingJobName\": \"xgb-tuner-27-00-32-14-007-caed6a48\", \"TrainingJobStatus\": \"Completed\", \"TrainingStartTime\": \"2023-01-27T00:33:32+00:00\", \"TrainingEndTime\": \"2023-01-27T00:34:44+00:00\", \"TrainingElapsedTimeSeconds\": 72.0, \"TuningJobName\": \"xgb-tuner-27-00-32-14\", \"validation:auc\": 0.5995619893074036}, {\"eta\": 1.0, \"gamma\": 0.0011376312775270333, \"max_depth\": 5.0, \"min_child_weight\": 4.471869323585168e-06, \"TrainingJobName\": \"xgb-tuner-27-00-32-14-038-1ff1de4d\", \"TrainingJobStatus\": \"Completed\", \"TrainingStartTime\": \"2023-01-27T00:37:31+00:00\", \"TrainingEndTime\": \"2023-01-27T00:38:08+00:00\", \"TrainingElapsedTimeSeconds\": 37.0, \"TuningJobName\": \"xgb-tuner-27-00-32-14\", \"validation:auc\": 0.5980839729309082}, {\"eta\": 0.48226052367735966, \"gamma\": 0.0005082147645609351, \"max_depth\": 6.0, \"min_child_weight\": 10.0, \"TrainingJobName\": \"xgb-tuner-27-00-32-14-063-2d0b6e70\", \"TrainingJobStatus\": \"Completed\", \"TrainingStartTime\": \"2023-01-27T00:40:09+00:00\", \"TrainingEndTime\": \"2023-01-27T00:40:46+00:00\", \"TrainingElapsedTimeSeconds\": 37.0, \"TuningJobName\": \"xgb-tuner-27-00-32-14\", \"validation:auc\": 0.5968199968338013}, {\"eta\": 0.737425831489854, \"gamma\": 10.0, \"max_depth\": 2.0, \"min_child_weight\": 1.0000000000000004e-06, \"TrainingJobName\": \"xgb-tuner-27-00-32-14-082-10457d3f\", \"TrainingJobStatus\": \"Completed\", \"TrainingStartTime\": \"2023-01-27T00:42:02+00:00\", \"TrainingEndTime\": \"2023-01-27T00:42:40+00:00\", \"TrainingElapsedTimeSeconds\": 38.0, \"TuningJobName\": \"xgb-tuner-27-00-32-14\", \"validation:auc\": 0.5947189927101135}, {\"eta\": 0.20899995791647452, \"gamma\": 5.361248928379038, \"max_depth\": 8.0, \"min_child_weight\": 0.00036706380775793546, \"TrainingJobName\": \"xgb-tuner-27-00-32-14-005-6e179ef5\", \"TrainingJobStatus\": \"Completed\", \"TrainingStartTime\": \"2023-01-27T00:33:26+00:00\", \"TrainingEndTime\": \"2023-01-27T00:34:43+00:00\", \"TrainingElapsedTimeSeconds\": 77.0, \"TuningJobName\": \"xgb-tuner-27-00-32-14\", \"validation:auc\": 0.5898759961128235}, {\"eta\": 0.5654855223469907, \"gamma\": 10.0, \"max_depth\": 4.0, \"min_child_weight\": 1.0000000000000004e-06, \"TrainingJobName\": \"xgb-tuner-27-00-32-14-080-e12c0881\", \"TrainingJobStatus\": \"Completed\", \"TrainingStartTime\": \"2023-01-27T00:41:50+00:00\", \"TrainingEndTime\": \"2023-01-27T00:42:27+00:00\", \"TrainingElapsedTimeSeconds\": 37.0, \"TuningJobName\": \"xgb-tuner-27-00-32-14\", \"validation:auc\": 0.5894659757614136}, {\"eta\": 0.5589594993766495, \"gamma\": 10.0, \"max_depth\": 5.0, \"min_child_weight\": 0.0001174256505275202, \"TrainingJobName\": \"xgb-tuner-27-00-32-14-078-7e10cd03\", \"TrainingJobStatus\": \"Completed\", \"TrainingStartTime\": \"2023-01-27T00:41:37+00:00\", \"TrainingEndTime\": \"2023-01-27T00:42:09+00:00\", \"TrainingElapsedTimeSeconds\": 32.0, \"TuningJobName\": \"xgb-tuner-27-00-32-14\", \"validation:auc\": 0.5893639922142029}, {\"eta\": 0.012336866282509703, \"gamma\": 7.435499987429371e-05, \"max_depth\": 5.0, \"min_child_weight\": 0.00020936320613053916, \"TrainingJobName\": \"xgb-tuner-27-00-32-14-031-a821ac83\", \"TrainingJobStatus\": \"Completed\", \"TrainingStartTime\": \"2023-01-27T00:36:51+00:00\", \"TrainingEndTime\": \"2023-01-27T00:37:29+00:00\", \"TrainingElapsedTimeSeconds\": 38.0, \"TuningJobName\": \"xgb-tuner-27-00-32-14\", \"validation:auc\": 0.5891929864883423}, {\"eta\": 0.4786995621657942, \"gamma\": 0.0004466401949030279, \"max_depth\": 2.0, \"min_child_weight\": 0.00014682963178975532, \"TrainingJobName\": \"xgb-tuner-27-00-32-14-050-a53c9637\", \"TrainingJobStatus\": \"Completed\", \"TrainingStartTime\": \"2023-01-27T00:38:37+00:00\", \"TrainingEndTime\": \"2023-01-27T00:39:14+00:00\", \"TrainingElapsedTimeSeconds\": 37.0, \"TuningJobName\": \"xgb-tuner-27-00-32-14\", \"validation:auc\": 0.5878520011901855}, {\"eta\": 0.01867871933339653, \"gamma\": 2.310021994378056, \"max_depth\": 4.0, \"min_child_weight\": 2.0972130546587433, \"TrainingJobName\": \"xgb-tuner-27-00-32-14-004-a80ee129\", \"TrainingJobStatus\": \"Completed\", \"TrainingStartTime\": \"2023-01-27T00:33:25+00:00\", \"TrainingEndTime\": \"2023-01-27T00:34:42+00:00\", \"TrainingElapsedTimeSeconds\": 77.0, \"TuningJobName\": \"xgb-tuner-27-00-32-14\", \"validation:auc\": 0.5862380266189575}, {\"eta\": 0.9489438353572702, \"gamma\": 4.891735386725915e-06, \"max_depth\": 3.0, \"min_child_weight\": 0.12568263486422596, \"TrainingJobName\": \"xgb-tuner-27-00-32-14-018-bce32020\", \"TrainingJobStatus\": \"Completed\", \"TrainingStartTime\": \"2023-01-27T00:35:25+00:00\", \"TrainingEndTime\": \"2023-01-27T00:36:02+00:00\", \"TrainingElapsedTimeSeconds\": 37.0, \"TuningJobName\": \"xgb-tuner-27-00-32-14\", \"validation:auc\": 0.5855879783630371}, {\"eta\": 0.009629648790748435, \"gamma\": 0.0005607775630713392, \"max_depth\": 5.0, \"min_child_weight\": 0.36951204160629275, \"TrainingJobName\": \"xgb-tuner-27-00-32-14-010-858fb3f7\", \"TrainingJobStatus\": \"Completed\", \"TrainingStartTime\": \"2023-01-27T00:33:40+00:00\", \"TrainingEndTime\": \"2023-01-27T00:35:00+00:00\", \"TrainingElapsedTimeSeconds\": 80.0, \"TuningJobName\": \"xgb-tuner-27-00-32-14\", \"validation:auc\": 0.5842139720916748}, {\"eta\": 0.7673962195014088, \"gamma\": 0.11304580976513304, \"max_depth\": 2.0, \"min_child_weight\": 1.0000000000000004e-06, \"TrainingJobName\": \"xgb-tuner-27-00-32-14-088-386221a2\", \"TrainingJobStatus\": \"Completed\", \"TrainingStartTime\": \"2023-01-27T00:42:33+00:00\", \"TrainingEndTime\": \"2023-01-27T00:43:10+00:00\", \"TrainingElapsedTimeSeconds\": 37.0, \"TuningJobName\": \"xgb-tuner-27-00-32-14\", \"validation:auc\": 0.579958975315094}, {\"eta\": 0.0010541823483447964, \"gamma\": 4.561402554645153, \"max_depth\": 7.0, \"min_child_weight\": 4.185622053111299e-05, \"TrainingJobName\": \"xgb-tuner-27-00-32-14-002-e59c9219\", \"TrainingJobStatus\": \"Completed\", \"TrainingStartTime\": \"2023-01-27T00:33:24+00:00\", \"TrainingEndTime\": \"2023-01-27T00:34:41+00:00\", \"TrainingElapsedTimeSeconds\": 77.0, \"TuningJobName\": \"xgb-tuner-27-00-32-14\", \"validation:auc\": 0.5760400295257568}, {\"eta\": 0.018424210462186022, \"gamma\": 6.42560815975671e-05, \"max_depth\": 2.0, \"min_child_weight\": 1.7755405271404074e-05, \"TrainingJobName\": \"xgb-tuner-27-00-32-14-036-0d54bc61\", \"TrainingJobStatus\": \"Completed\", \"TrainingStartTime\": \"2023-01-27T00:37:19+00:00\", \"TrainingEndTime\": \"2023-01-27T00:37:56+00:00\", \"TrainingElapsedTimeSeconds\": 37.0, \"TuningJobName\": \"xgb-tuner-27-00-32-14\", \"validation:auc\": 0.525629997253418}, {\"eta\": 0.01385322345888012, \"gamma\": 8.937862958110423e-05, \"max_depth\": 2.0, \"min_child_weight\": 9.62052449708373e-05, \"TrainingJobName\": \"xgb-tuner-27-00-32-14-034-6c1fe019\", \"TrainingJobStatus\": \"Completed\", \"TrainingStartTime\": \"2023-01-27T00:37:15+00:00\", \"TrainingEndTime\": \"2023-01-27T00:37:52+00:00\", \"TrainingElapsedTimeSeconds\": 37.0, \"TuningJobName\": \"xgb-tuner-27-00-32-14\", \"validation:auc\": 0.5139889717102051}], \"data-5238f5a4d312dd54b87b172e602eb59b\": [{\"eta\": 0.01385322345888012, \"gamma\": 8.937862958110423e-05, \"max_depth\": 2.0, \"min_child_weight\": 9.62052449708373e-05, \"TrainingJobName\": \"xgb-tuner-27-00-32-14-034-6c1fe019\", \"TrainingJobStatus\": \"Completed\", \"TrainingStartTime\": \"2023-01-27T00:37:15+00:00\", \"TrainingEndTime\": \"2023-01-27T00:37:52+00:00\", \"TrainingElapsedTimeSeconds\": 37.0, \"TuningJobName\": \"xgb-tuner-27-00-32-14\", \"validation:auc\": 0.5139889717102051}, {\"eta\": 0.018424210462186022, \"gamma\": 6.42560815975671e-05, \"max_depth\": 2.0, \"min_child_weight\": 1.7755405271404074e-05, \"TrainingJobName\": \"xgb-tuner-27-00-32-14-036-0d54bc61\", \"TrainingJobStatus\": \"Completed\", \"TrainingStartTime\": \"2023-01-27T00:37:19+00:00\", \"TrainingEndTime\": \"2023-01-27T00:37:56+00:00\", \"TrainingElapsedTimeSeconds\": 37.0, \"TuningJobName\": \"xgb-tuner-27-00-32-14\", \"validation:auc\": 0.525629997253418}, {\"eta\": 0.0010541823483447964, \"gamma\": 4.561402554645153, \"max_depth\": 7.0, \"min_child_weight\": 4.185622053111299e-05, \"TrainingJobName\": \"xgb-tuner-27-00-32-14-002-e59c9219\", \"TrainingJobStatus\": \"Completed\", \"TrainingStartTime\": \"2023-01-27T00:33:24+00:00\", \"TrainingEndTime\": \"2023-01-27T00:34:41+00:00\", \"TrainingElapsedTimeSeconds\": 77.0, \"TuningJobName\": \"xgb-tuner-27-00-32-14\", \"validation:auc\": 0.5760400295257568}, {\"eta\": 0.7673962195014088, \"gamma\": 0.11304580976513304, \"max_depth\": 2.0, \"min_child_weight\": 1.0000000000000004e-06, \"TrainingJobName\": \"xgb-tuner-27-00-32-14-088-386221a2\", \"TrainingJobStatus\": \"Completed\", \"TrainingStartTime\": \"2023-01-27T00:42:33+00:00\", \"TrainingEndTime\": \"2023-01-27T00:43:10+00:00\", \"TrainingElapsedTimeSeconds\": 37.0, \"TuningJobName\": \"xgb-tuner-27-00-32-14\", \"validation:auc\": 0.579958975315094}, {\"eta\": 0.009629648790748435, \"gamma\": 0.0005607775630713392, \"max_depth\": 5.0, \"min_child_weight\": 0.36951204160629275, \"TrainingJobName\": \"xgb-tuner-27-00-32-14-010-858fb3f7\", \"TrainingJobStatus\": \"Completed\", \"TrainingStartTime\": \"2023-01-27T00:33:40+00:00\", \"TrainingEndTime\": \"2023-01-27T00:35:00+00:00\", \"TrainingElapsedTimeSeconds\": 80.0, \"TuningJobName\": \"xgb-tuner-27-00-32-14\", \"validation:auc\": 0.5842139720916748}, {\"eta\": 0.9489438353572702, \"gamma\": 4.891735386725915e-06, \"max_depth\": 3.0, \"min_child_weight\": 0.12568263486422596, \"TrainingJobName\": \"xgb-tuner-27-00-32-14-018-bce32020\", \"TrainingJobStatus\": \"Completed\", \"TrainingStartTime\": \"2023-01-27T00:35:25+00:00\", \"TrainingEndTime\": \"2023-01-27T00:36:02+00:00\", \"TrainingElapsedTimeSeconds\": 37.0, \"TuningJobName\": \"xgb-tuner-27-00-32-14\", \"validation:auc\": 0.5855879783630371}, {\"eta\": 0.01867871933339653, \"gamma\": 2.310021994378056, \"max_depth\": 4.0, \"min_child_weight\": 2.0972130546587433, \"TrainingJobName\": \"xgb-tuner-27-00-32-14-004-a80ee129\", \"TrainingJobStatus\": \"Completed\", \"TrainingStartTime\": \"2023-01-27T00:33:25+00:00\", \"TrainingEndTime\": \"2023-01-27T00:34:42+00:00\", \"TrainingElapsedTimeSeconds\": 77.0, \"TuningJobName\": \"xgb-tuner-27-00-32-14\", \"validation:auc\": 0.5862380266189575}, {\"eta\": 0.4786995621657942, \"gamma\": 0.0004466401949030279, \"max_depth\": 2.0, \"min_child_weight\": 0.00014682963178975532, \"TrainingJobName\": \"xgb-tuner-27-00-32-14-050-a53c9637\", \"TrainingJobStatus\": \"Completed\", \"TrainingStartTime\": \"2023-01-27T00:38:37+00:00\", \"TrainingEndTime\": \"2023-01-27T00:39:14+00:00\", \"TrainingElapsedTimeSeconds\": 37.0, \"TuningJobName\": \"xgb-tuner-27-00-32-14\", \"validation:auc\": 0.5878520011901855}, {\"eta\": 0.012336866282509703, \"gamma\": 7.435499987429371e-05, \"max_depth\": 5.0, \"min_child_weight\": 0.00020936320613053916, \"TrainingJobName\": \"xgb-tuner-27-00-32-14-031-a821ac83\", \"TrainingJobStatus\": \"Completed\", \"TrainingStartTime\": \"2023-01-27T00:36:51+00:00\", \"TrainingEndTime\": \"2023-01-27T00:37:29+00:00\", \"TrainingElapsedTimeSeconds\": 38.0, \"TuningJobName\": \"xgb-tuner-27-00-32-14\", \"validation:auc\": 0.5891929864883423}, {\"eta\": 0.5589594993766495, \"gamma\": 10.0, \"max_depth\": 5.0, \"min_child_weight\": 0.0001174256505275202, \"TrainingJobName\": \"xgb-tuner-27-00-32-14-078-7e10cd03\", \"TrainingJobStatus\": \"Completed\", \"TrainingStartTime\": \"2023-01-27T00:41:37+00:00\", \"TrainingEndTime\": \"2023-01-27T00:42:09+00:00\", \"TrainingElapsedTimeSeconds\": 32.0, \"TuningJobName\": \"xgb-tuner-27-00-32-14\", \"validation:auc\": 0.5893639922142029}, {\"eta\": 0.5654855223469907, \"gamma\": 10.0, \"max_depth\": 4.0, \"min_child_weight\": 1.0000000000000004e-06, \"TrainingJobName\": \"xgb-tuner-27-00-32-14-080-e12c0881\", \"TrainingJobStatus\": \"Completed\", \"TrainingStartTime\": \"2023-01-27T00:41:50+00:00\", \"TrainingEndTime\": \"2023-01-27T00:42:27+00:00\", \"TrainingElapsedTimeSeconds\": 37.0, \"TuningJobName\": \"xgb-tuner-27-00-32-14\", \"validation:auc\": 0.5894659757614136}, {\"eta\": 0.20899995791647452, \"gamma\": 5.361248928379038, \"max_depth\": 8.0, \"min_child_weight\": 0.00036706380775793546, \"TrainingJobName\": \"xgb-tuner-27-00-32-14-005-6e179ef5\", \"TrainingJobStatus\": \"Completed\", \"TrainingStartTime\": \"2023-01-27T00:33:26+00:00\", \"TrainingEndTime\": \"2023-01-27T00:34:43+00:00\", \"TrainingElapsedTimeSeconds\": 77.0, \"TuningJobName\": \"xgb-tuner-27-00-32-14\", \"validation:auc\": 0.5898759961128235}, {\"eta\": 0.737425831489854, \"gamma\": 10.0, \"max_depth\": 2.0, \"min_child_weight\": 1.0000000000000004e-06, \"TrainingJobName\": \"xgb-tuner-27-00-32-14-082-10457d3f\", \"TrainingJobStatus\": \"Completed\", \"TrainingStartTime\": \"2023-01-27T00:42:02+00:00\", \"TrainingEndTime\": \"2023-01-27T00:42:40+00:00\", \"TrainingElapsedTimeSeconds\": 38.0, \"TuningJobName\": \"xgb-tuner-27-00-32-14\", \"validation:auc\": 0.5947189927101135}, {\"eta\": 0.48226052367735966, \"gamma\": 0.0005082147645609351, \"max_depth\": 6.0, \"min_child_weight\": 10.0, \"TrainingJobName\": \"xgb-tuner-27-00-32-14-063-2d0b6e70\", \"TrainingJobStatus\": \"Completed\", \"TrainingStartTime\": \"2023-01-27T00:40:09+00:00\", \"TrainingEndTime\": \"2023-01-27T00:40:46+00:00\", \"TrainingElapsedTimeSeconds\": 37.0, \"TuningJobName\": \"xgb-tuner-27-00-32-14\", \"validation:auc\": 0.5968199968338013}, {\"eta\": 1.0, \"gamma\": 0.0011376312775270333, \"max_depth\": 5.0, \"min_child_weight\": 4.471869323585168e-06, \"TrainingJobName\": \"xgb-tuner-27-00-32-14-038-1ff1de4d\", \"TrainingJobStatus\": \"Completed\", \"TrainingStartTime\": \"2023-01-27T00:37:31+00:00\", \"TrainingEndTime\": \"2023-01-27T00:38:08+00:00\", \"TrainingElapsedTimeSeconds\": 37.0, \"TuningJobName\": \"xgb-tuner-27-00-32-14\", \"validation:auc\": 0.5980839729309082}, {\"eta\": 0.046091054776706754, \"gamma\": 0.0002660269618959971, \"max_depth\": 3.0, \"min_child_weight\": 1.7287015364459517, \"TrainingJobName\": \"xgb-tuner-27-00-32-14-007-caed6a48\", \"TrainingJobStatus\": \"Completed\", \"TrainingStartTime\": \"2023-01-27T00:33:32+00:00\", \"TrainingEndTime\": \"2023-01-27T00:34:44+00:00\", \"TrainingElapsedTimeSeconds\": 72.0, \"TuningJobName\": \"xgb-tuner-27-00-32-14\", \"validation:auc\": 0.5995619893074036}, {\"eta\": 0.6306443080025225, \"gamma\": 10.0, \"max_depth\": 4.0, \"min_child_weight\": 5.663521409377295e-05, \"TrainingJobName\": \"xgb-tuner-27-00-32-14-077-0a6269e7\", \"TrainingJobStatus\": \"Completed\", \"TrainingStartTime\": \"2023-01-27T00:41:28+00:00\", \"TrainingEndTime\": \"2023-01-27T00:42:05+00:00\", \"TrainingElapsedTimeSeconds\": 37.0, \"TuningJobName\": \"xgb-tuner-27-00-32-14\", \"validation:auc\": 0.6025170087814331}, {\"eta\": 0.6229969584278626, \"gamma\": 10.0, \"max_depth\": 4.0, \"min_child_weight\": 5.6788479519390415e-05, \"TrainingJobName\": \"xgb-tuner-27-00-32-14-076-ecc83d0a\", \"TrainingJobStatus\": \"Completed\", \"TrainingStartTime\": \"2023-01-27T00:41:25+00:00\", \"TrainingEndTime\": \"2023-01-27T00:42:02+00:00\", \"TrainingElapsedTimeSeconds\": 37.0, \"TuningJobName\": \"xgb-tuner-27-00-32-14\", \"validation:auc\": 0.6025170087814331}, {\"eta\": 0.621527883901154, \"gamma\": 10.0, \"max_depth\": 4.0, \"min_child_weight\": 8.183605031511757e-05, \"TrainingJobName\": \"xgb-tuner-27-00-32-14-075-dd99034c\", \"TrainingJobStatus\": \"Completed\", \"TrainingStartTime\": \"2023-01-27T00:41:23+00:00\", \"TrainingEndTime\": \"2023-01-27T00:41:55+00:00\", \"TrainingElapsedTimeSeconds\": 32.0, \"TuningJobName\": \"xgb-tuner-27-00-32-14\", \"validation:auc\": 0.6025170087814331}, {\"eta\": 0.05926693990698721, \"gamma\": 2.0554471206930995, \"max_depth\": 6.0, \"min_child_weight\": 0.38445170251237426, \"TrainingJobName\": \"xgb-tuner-27-00-32-14-008-7f378c87\", \"TrainingJobStatus\": \"Completed\", \"TrainingStartTime\": \"2023-01-27T00:33:38+00:00\", \"TrainingEndTime\": \"2023-01-27T00:35:17+00:00\", \"TrainingElapsedTimeSeconds\": 99.0, \"TuningJobName\": \"xgb-tuner-27-00-32-14\", \"validation:auc\": 0.6063609719276428}, {\"eta\": 0.015737279278801312, \"gamma\": 8.02878639437093e-05, \"max_depth\": 7.0, \"min_child_weight\": 1.2764359691357437e-05, \"TrainingJobName\": \"xgb-tuner-27-00-32-14-035-26529775\", \"TrainingJobStatus\": \"Completed\", \"TrainingStartTime\": \"2023-01-27T00:37:17+00:00\", \"TrainingEndTime\": \"2023-01-27T00:37:54+00:00\", \"TrainingElapsedTimeSeconds\": 37.0, \"TuningJobName\": \"xgb-tuner-27-00-32-14\", \"validation:auc\": 0.6065999865531921}, {\"eta\": 0.9615893486759137, \"gamma\": 10.0, \"max_depth\": 10.0, \"min_child_weight\": 0.35260344213907346, \"TrainingJobName\": \"xgb-tuner-27-00-32-14-079-4e2c417e\", \"TrainingJobStatus\": \"Completed\", \"TrainingStartTime\": \"2023-01-27T00:41:39+00:00\", \"TrainingEndTime\": \"2023-01-27T00:42:16+00:00\", \"TrainingElapsedTimeSeconds\": 37.0, \"TuningJobName\": \"xgb-tuner-27-00-32-14\", \"validation:auc\": 0.6079059839248657}, {\"eta\": 0.010073624418892245, \"gamma\": 0.00830111922327891, \"max_depth\": 10.0, \"min_child_weight\": 1.332321132991865e-06, \"TrainingJobName\": \"xgb-tuner-27-00-32-14-001-e0716914\", \"TrainingJobStatus\": \"Completed\", \"TrainingStartTime\": \"2023-01-27T00:33:22+00:00\", \"TrainingEndTime\": \"2023-01-27T00:34:40+00:00\", \"TrainingElapsedTimeSeconds\": 78.0, \"TuningJobName\": \"xgb-tuner-27-00-32-14\", \"validation:auc\": 0.6080089807510376}, {\"eta\": 0.7041841803097875, \"gamma\": 7.073172460299421e-05, \"max_depth\": 3.0, \"min_child_weight\": 0.00020321584468583527, \"TrainingJobName\": \"xgb-tuner-27-00-32-14-092-d43b34ab\", \"TrainingJobStatus\": \"Completed\", \"TrainingStartTime\": \"2023-01-27T00:42:59+00:00\", \"TrainingEndTime\": \"2023-01-27T00:43:36+00:00\", \"TrainingElapsedTimeSeconds\": 37.0, \"TuningJobName\": \"xgb-tuner-27-00-32-14\", \"validation:auc\": 0.6093490123748779}, {\"eta\": 0.013543863501630829, \"gamma\": 0.0004029332978850028, \"max_depth\": 9.0, \"min_child_weight\": 0.052027285932234095, \"TrainingJobName\": \"xgb-tuner-27-00-32-14-003-2d579a1a\", \"TrainingJobStatus\": \"Completed\", \"TrainingStartTime\": \"2023-01-27T00:33:22+00:00\", \"TrainingEndTime\": \"2023-01-27T00:34:39+00:00\", \"TrainingElapsedTimeSeconds\": 77.0, \"TuningJobName\": \"xgb-tuner-27-00-32-14\", \"validation:auc\": 0.609794020652771}, {\"eta\": 0.24298491654676221, \"gamma\": 0.0008399557896829198, \"max_depth\": 3.0, \"min_child_weight\": 0.4534994327450448, \"TrainingJobName\": \"xgb-tuner-27-00-32-14-006-e33efcce\", \"TrainingJobStatus\": \"Completed\", \"TrainingStartTime\": \"2023-01-27T00:33:31+00:00\", \"TrainingEndTime\": \"2023-01-27T00:34:43+00:00\", \"TrainingElapsedTimeSeconds\": 72.0, \"TuningJobName\": \"xgb-tuner-27-00-32-14\", \"validation:auc\": 0.6130229830741882}, {\"eta\": 0.5123306669514447, \"gamma\": 3.62024175853428e-06, \"max_depth\": 4.0, \"min_child_weight\": 1.0000000000000004e-06, \"TrainingJobName\": \"xgb-tuner-27-00-32-14-044-b6c3be2e\", \"TrainingJobStatus\": \"Completed\", \"TrainingStartTime\": \"2023-01-27T00:38:10+00:00\", \"TrainingEndTime\": \"2023-01-27T00:38:47+00:00\", \"TrainingElapsedTimeSeconds\": 37.0, \"TuningJobName\": \"xgb-tuner-27-00-32-14\", \"validation:auc\": 0.6150810122489929}, {\"eta\": 0.06234563491352867, \"gamma\": 0.0005215563028510416, \"max_depth\": 3.0, \"min_child_weight\": 2.338691987988232e-05, \"TrainingJobName\": \"xgb-tuner-27-00-32-14-033-615aaed0\", \"TrainingJobStatus\": \"Completed\", \"TrainingStartTime\": \"2023-01-27T00:37:05+00:00\", \"TrainingEndTime\": \"2023-01-27T00:37:42+00:00\", \"TrainingElapsedTimeSeconds\": 37.0, \"TuningJobName\": \"xgb-tuner-27-00-32-14\", \"validation:auc\": 0.616320013999939}, {\"eta\": 0.5676987192532995, \"gamma\": 2.5036004130127496e-05, \"max_depth\": 8.0, \"min_child_weight\": 4.025217823517108e-06, \"TrainingJobName\": \"xgb-tuner-27-00-32-14-026-4a7a2f77\", \"TrainingJobStatus\": \"Completed\", \"TrainingStartTime\": \"2023-01-27T00:36:23+00:00\", \"TrainingEndTime\": \"2023-01-27T00:37:00+00:00\", \"TrainingElapsedTimeSeconds\": 37.0, \"TuningJobName\": \"xgb-tuner-27-00-32-14\", \"validation:auc\": 0.6163539886474609}, {\"eta\": 0.9331786005636951, \"gamma\": 0.003668362904278892, \"max_depth\": 3.0, \"min_child_weight\": 1.1502328600499171e-05, \"TrainingJobName\": \"xgb-tuner-27-00-32-14-040-444c4992\", \"TrainingJobStatus\": \"Completed\", \"TrainingStartTime\": \"2023-01-27T00:37:35+00:00\", \"TrainingEndTime\": \"2023-01-27T00:38:12+00:00\", \"TrainingElapsedTimeSeconds\": 37.0, \"TuningJobName\": \"xgb-tuner-27-00-32-14\", \"validation:auc\": 0.6178990006446838}, {\"eta\": 0.6596380424735289, \"gamma\": 0.0001595156360026607, \"max_depth\": 3.0, \"min_child_weight\": 4.9679946873863525e-06, \"TrainingJobName\": \"xgb-tuner-27-00-32-14-069-a94b62a6\", \"TrainingJobStatus\": \"Completed\", \"TrainingStartTime\": \"2023-01-27T00:40:45+00:00\", \"TrainingEndTime\": \"2023-01-27T00:41:22+00:00\", \"TrainingElapsedTimeSeconds\": 37.0, \"TuningJobName\": \"xgb-tuner-27-00-32-14\", \"validation:auc\": 0.6184449791908264}, {\"eta\": 0.48983785148591863, \"gamma\": 0.0003036995521009961, \"max_depth\": 4.0, \"min_child_weight\": 6.53471847939645e-05, \"TrainingJobName\": \"xgb-tuner-27-00-32-14-059-5bc69b2b\", \"TrainingJobStatus\": \"Completed\", \"TrainingStartTime\": \"2023-01-27T00:39:35+00:00\", \"TrainingEndTime\": \"2023-01-27T00:40:07+00:00\", \"TrainingElapsedTimeSeconds\": 32.0, \"TuningJobName\": \"xgb-tuner-27-00-32-14\", \"validation:auc\": 0.6195480227470398}, {\"eta\": 0.7555240536507495, \"gamma\": 9.595792940190414e-05, \"max_depth\": 4.0, \"min_child_weight\": 0.0003189132600245382, \"TrainingJobName\": \"xgb-tuner-27-00-32-14-099-3e33eb12\", \"TrainingJobStatus\": \"Completed\", \"TrainingStartTime\": \"2023-01-27T00:43:38+00:00\", \"TrainingEndTime\": \"2023-01-27T00:44:10+00:00\", \"TrainingElapsedTimeSeconds\": 32.0, \"TuningJobName\": \"xgb-tuner-27-00-32-14\", \"validation:auc\": 0.6195819973945618}, {\"eta\": 0.49897450164719176, \"gamma\": 0.0016793375989149837, \"max_depth\": 3.0, \"min_child_weight\": 0.0005683532068114051, \"TrainingJobName\": \"xgb-tuner-27-00-32-14-051-a5517b26\", \"TrainingJobStatus\": \"Completed\", \"TrainingStartTime\": \"2023-01-27T00:38:52+00:00\", \"TrainingEndTime\": \"2023-01-27T00:39:29+00:00\", \"TrainingElapsedTimeSeconds\": 37.0, \"TuningJobName\": \"xgb-tuner-27-00-32-14\", \"validation:auc\": 0.6196839809417725}, {\"eta\": 0.6357947996230265, \"gamma\": 0.14658141286157195, \"max_depth\": 5.0, \"min_child_weight\": 0.00035985533981601286, \"TrainingJobName\": \"xgb-tuner-27-00-32-14-072-59bfa43d\", \"TrainingJobStatus\": \"Completed\", \"TrainingStartTime\": \"2023-01-27T00:41:09+00:00\", \"TrainingEndTime\": \"2023-01-27T00:41:46+00:00\", \"TrainingElapsedTimeSeconds\": 37.0, \"TuningJobName\": \"xgb-tuner-27-00-32-14\", \"validation:auc\": 0.6199579834938049}, {\"eta\": 0.637679880397023, \"gamma\": 0.05487967574792731, \"max_depth\": 5.0, \"min_child_weight\": 0.00034261812903249383, \"TrainingJobName\": \"xgb-tuner-27-00-32-14-073-d792ac5a\", \"TrainingJobStatus\": \"Completed\", \"TrainingStartTime\": \"2023-01-27T00:41:11+00:00\", \"TrainingEndTime\": \"2023-01-27T00:41:43+00:00\", \"TrainingElapsedTimeSeconds\": 32.0, \"TuningJobName\": \"xgb-tuner-27-00-32-14\", \"validation:auc\": 0.6201969981193542}, {\"eta\": 0.7526128662135111, \"gamma\": 1.56471042293834e-05, \"max_depth\": 4.0, \"min_child_weight\": 0.4039043614291203, \"TrainingJobName\": \"xgb-tuner-27-00-32-14-016-b34f8d41\", \"TrainingJobStatus\": \"Completed\", \"TrainingStartTime\": \"2023-01-27T00:35:21+00:00\", \"TrainingEndTime\": \"2023-01-27T00:35:58+00:00\", \"TrainingElapsedTimeSeconds\": 37.0, \"TuningJobName\": \"xgb-tuner-27-00-32-14\", \"validation:auc\": 0.6208540201187134}, {\"eta\": 0.14728854198850666, \"gamma\": 4.528202138798706e-05, \"max_depth\": 2.0, \"min_child_weight\": 1.0000000000000004e-06, \"TrainingJobName\": \"xgb-tuner-27-00-32-14-081-9fcdd316\", \"TrainingJobStatus\": \"Completed\", \"TrainingStartTime\": \"2023-01-27T00:42:00+00:00\", \"TrainingEndTime\": \"2023-01-27T00:42:32+00:00\", \"TrainingElapsedTimeSeconds\": 32.0, \"TuningJobName\": \"xgb-tuner-27-00-32-14\", \"validation:auc\": 0.621845006942749}, {\"eta\": 0.5776227432634761, \"gamma\": 4.289405759748363e-05, \"max_depth\": 4.0, \"min_child_weight\": 1.0000000000000004e-06, \"TrainingJobName\": \"xgb-tuner-27-00-32-14-053-e26dea63\", \"TrainingJobStatus\": \"Completed\", \"TrainingStartTime\": \"2023-01-27T00:38:59+00:00\", \"TrainingEndTime\": \"2023-01-27T00:39:35+00:00\", \"TrainingElapsedTimeSeconds\": 36.0, \"TuningJobName\": \"xgb-tuner-27-00-32-14\", \"validation:auc\": 0.6231520175933838}, {\"eta\": 0.8359471705611338, \"gamma\": 3.433551335861872e-05, \"max_depth\": 4.0, \"min_child_weight\": 0.22131803200080957, \"TrainingJobName\": \"xgb-tuner-27-00-32-14-009-fd63763a\", \"TrainingJobStatus\": \"Completed\", \"TrainingStartTime\": \"2023-01-27T00:33:40+00:00\", \"TrainingEndTime\": \"2023-01-27T00:34:57+00:00\", \"TrainingElapsedTimeSeconds\": 77.0, \"TuningJobName\": \"xgb-tuner-27-00-32-14\", \"validation:auc\": 0.6243219971656799}, {\"eta\": 0.9397750941086543, \"gamma\": 0.00013492243135819249, \"max_depth\": 3.0, \"min_child_weight\": 0.2415813089052414, \"TrainingJobName\": \"xgb-tuner-27-00-32-14-017-c03bdd48\", \"TrainingJobStatus\": \"Completed\", \"TrainingStartTime\": \"2023-01-27T00:35:23+00:00\", \"TrainingEndTime\": \"2023-01-27T00:35:55+00:00\", \"TrainingElapsedTimeSeconds\": 32.0, \"TuningJobName\": \"xgb-tuner-27-00-32-14\", \"validation:auc\": 0.6245610117912292}, {\"eta\": 0.5628506447118127, \"gamma\": 0.003116066470811988, \"max_depth\": 5.0, \"min_child_weight\": 1.190582515607563e-05, \"TrainingJobName\": \"xgb-tuner-27-00-32-14-043-5917450f\", \"TrainingJobStatus\": \"Completed\", \"TrainingStartTime\": \"2023-01-27T00:37:59+00:00\", \"TrainingEndTime\": \"2023-01-27T00:38:36+00:00\", \"TrainingElapsedTimeSeconds\": 37.0, \"TuningJobName\": \"xgb-tuner-27-00-32-14\", \"validation:auc\": 0.625074028968811}, {\"eta\": 0.6714709759825583, \"gamma\": 0.0002395469454789276, \"max_depth\": 4.0, \"min_child_weight\": 6.444226531267536, \"TrainingJobName\": \"xgb-tuner-27-00-32-14-028-40513841\", \"TrainingJobStatus\": \"Completed\", \"TrainingStartTime\": \"2023-01-27T00:36:26+00:00\", \"TrainingEndTime\": \"2023-01-27T00:37:04+00:00\", \"TrainingElapsedTimeSeconds\": 38.0, \"TuningJobName\": \"xgb-tuner-27-00-32-14\", \"validation:auc\": 0.625868022441864}, {\"eta\": 0.5842534551997427, \"gamma\": 0.011535655347354581, \"max_depth\": 4.0, \"min_child_weight\": 4.922417913019629e-06, \"TrainingJobName\": \"xgb-tuner-27-00-32-14-090-2562178c\", \"TrainingJobStatus\": \"Completed\", \"TrainingStartTime\": \"2023-01-27T00:42:49+00:00\", \"TrainingEndTime\": \"2023-01-27T00:43:26+00:00\", \"TrainingElapsedTimeSeconds\": 37.0, \"TuningJobName\": \"xgb-tuner-27-00-32-14\", \"validation:auc\": 0.6278589963912964}, {\"eta\": 0.6178565499383187, \"gamma\": 0.014292213068502028, \"max_depth\": 4.0, \"min_child_weight\": 0.0026902539516559954, \"TrainingJobName\": \"xgb-tuner-27-00-32-14-093-ee138b37\", \"TrainingJobStatus\": \"Completed\", \"TrainingStartTime\": \"2023-01-27T00:43:10+00:00\", \"TrainingEndTime\": \"2023-01-27T00:43:47+00:00\", \"TrainingElapsedTimeSeconds\": 37.0, \"TuningJobName\": \"xgb-tuner-27-00-32-14\", \"validation:auc\": 0.6282680034637451}, {\"eta\": 0.4710020850908987, \"gamma\": 0.037796880552120306, \"max_depth\": 3.0, \"min_child_weight\": 1.6786418188130076e-06, \"TrainingJobName\": \"xgb-tuner-27-00-32-14-084-db359e61\", \"TrainingJobStatus\": \"Completed\", \"TrainingStartTime\": \"2023-01-27T00:42:16+00:00\", \"TrainingEndTime\": \"2023-01-27T00:42:53+00:00\", \"TrainingElapsedTimeSeconds\": 37.0, \"TuningJobName\": \"xgb-tuner-27-00-32-14\", \"validation:auc\": 0.6285070180892944}, {\"eta\": 0.5750296535158318, \"gamma\": 0.0005356791850083888, \"max_depth\": 4.0, \"min_child_weight\": 0.0006560439054944225, \"TrainingJobName\": \"xgb-tuner-27-00-32-14-058-a494ef32\", \"TrainingJobStatus\": \"Completed\", \"TrainingStartTime\": \"2023-01-27T00:39:25+00:00\", \"TrainingEndTime\": \"2023-01-27T00:40:03+00:00\", \"TrainingElapsedTimeSeconds\": 38.0, \"TuningJobName\": \"xgb-tuner-27-00-32-14\", \"validation:auc\": 0.6311900019645691}, {\"eta\": 0.5251037630037244, \"gamma\": 0.00010429844559267887, \"max_depth\": 7.0, \"min_child_weight\": 0.000124688932373774, \"TrainingJobName\": \"xgb-tuner-27-00-32-14-037-b3352c8d\", \"TrainingJobStatus\": \"Completed\", \"TrainingStartTime\": \"2023-01-27T00:37:21+00:00\", \"TrainingEndTime\": \"2023-01-27T00:37:58+00:00\", \"TrainingElapsedTimeSeconds\": 37.0, \"TuningJobName\": \"xgb-tuner-27-00-32-14\", \"validation:auc\": 0.6315649747848511}, {\"eta\": 0.5450513788245345, \"gamma\": 0.023997161658665934, \"max_depth\": 3.0, \"min_child_weight\": 0.0011307903371878655, \"TrainingJobName\": \"xgb-tuner-27-00-32-14-047-c1bf37a6\", \"TrainingJobStatus\": \"Completed\", \"TrainingStartTime\": \"2023-01-27T00:38:23+00:00\", \"TrainingEndTime\": \"2023-01-27T00:39:00+00:00\", \"TrainingElapsedTimeSeconds\": 37.0, \"TuningJobName\": \"xgb-tuner-27-00-32-14\", \"validation:auc\": 0.631974995136261}, {\"eta\": 0.6117262573473438, \"gamma\": 1.398631560743163e-05, \"max_depth\": 5.0, \"min_child_weight\": 1.0000000000000004e-06, \"TrainingJobName\": \"xgb-tuner-27-00-32-14-064-a6acacb1\", \"TrainingJobStatus\": \"Completed\", \"TrainingStartTime\": \"2023-01-27T00:40:11+00:00\", \"TrainingEndTime\": \"2023-01-27T00:40:48+00:00\", \"TrainingElapsedTimeSeconds\": 37.0, \"TuningJobName\": \"xgb-tuner-27-00-32-14\", \"validation:auc\": 0.6322140097618103}, {\"eta\": 0.6402696656003852, \"gamma\": 0.238407891251487, \"max_depth\": 5.0, \"min_child_weight\": 0.0003374883807496179, \"TrainingJobName\": \"xgb-tuner-27-00-32-14-074-8ef2ce45\", \"TrainingJobStatus\": \"Completed\", \"TrainingStartTime\": \"2023-01-27T00:41:12+00:00\", \"TrainingEndTime\": \"2023-01-27T00:41:49+00:00\", \"TrainingElapsedTimeSeconds\": 37.0, \"TuningJobName\": \"xgb-tuner-27-00-32-14\", \"validation:auc\": 0.6331110000610352}, {\"eta\": 0.4193936520948444, \"gamma\": 0.0068696551301294685, \"max_depth\": 6.0, \"min_child_weight\": 8.63401419425253, \"TrainingJobName\": \"xgb-tuner-27-00-32-14-070-cb3ba952\", \"TrainingJobStatus\": \"Completed\", \"TrainingStartTime\": \"2023-01-27T00:40:56+00:00\", \"TrainingEndTime\": \"2023-01-27T00:41:33+00:00\", \"TrainingElapsedTimeSeconds\": 37.0, \"TuningJobName\": \"xgb-tuner-27-00-32-14\", \"validation:auc\": 0.6334869861602783}, {\"eta\": 0.3966484840085948, \"gamma\": 3.185793419903464e-05, \"max_depth\": 9.0, \"min_child_weight\": 0.0015552458699823236, \"TrainingJobName\": \"xgb-tuner-27-00-32-14-024-dfcd91b5\", \"TrainingJobStatus\": \"Completed\", \"TrainingStartTime\": \"2023-01-27T00:36:20+00:00\", \"TrainingEndTime\": \"2023-01-27T00:36:57+00:00\", \"TrainingElapsedTimeSeconds\": 37.0, \"TuningJobName\": \"xgb-tuner-27-00-32-14\", \"validation:auc\": 0.6338629722595215}, {\"eta\": 0.6652455305412062, \"gamma\": 0.0012013990645907645, \"max_depth\": 4.0, \"min_child_weight\": 9.956093177172022e-06, \"TrainingJobName\": \"xgb-tuner-27-00-32-14-054-6db398da\", \"TrainingJobStatus\": \"Completed\", \"TrainingStartTime\": \"2023-01-27T00:39:10+00:00\", \"TrainingEndTime\": \"2023-01-27T00:39:47+00:00\", \"TrainingElapsedTimeSeconds\": 37.0, \"TuningJobName\": \"xgb-tuner-27-00-32-14\", \"validation:auc\": 0.6341450214385986}, {\"eta\": 0.5118912386147776, \"gamma\": 7.890643488111676e-05, \"max_depth\": 5.0, \"min_child_weight\": 0.044369281539351664, \"TrainingJobName\": \"xgb-tuner-27-00-32-14-057-519fb4bb\", \"TrainingJobStatus\": \"Completed\", \"TrainingStartTime\": \"2023-01-27T00:39:27+00:00\", \"TrainingEndTime\": \"2023-01-27T00:40:04+00:00\", \"TrainingElapsedTimeSeconds\": 37.0, \"TuningJobName\": \"xgb-tuner-27-00-32-14\", \"validation:auc\": 0.6354089975357056}, {\"eta\": 0.42829795765113643, \"gamma\": 0.0003688577095309749, \"max_depth\": 3.0, \"min_child_weight\": 1.477261019805e-05, \"TrainingJobName\": \"xgb-tuner-27-00-32-14-042-c7091d21\", \"TrainingJobStatus\": \"Completed\", \"TrainingStartTime\": \"2023-01-27T00:37:58+00:00\", \"TrainingEndTime\": \"2023-01-27T00:38:35+00:00\", \"TrainingElapsedTimeSeconds\": 37.0, \"TuningJobName\": \"xgb-tuner-27-00-32-14\", \"validation:auc\": 0.636817991733551}, {\"eta\": 0.4278861886360612, \"gamma\": 0.028671357748997164, \"max_depth\": 3.0, \"min_child_weight\": 4.24116341901807e-06, \"TrainingJobName\": \"xgb-tuner-27-00-32-14-083-918c4d0b\", \"TrainingJobStatus\": \"Completed\", \"TrainingStartTime\": \"2023-01-27T00:42:13+00:00\", \"TrainingEndTime\": \"2023-01-27T00:42:51+00:00\", \"TrainingElapsedTimeSeconds\": 38.0, \"TuningJobName\": \"xgb-tuner-27-00-32-14\", \"validation:auc\": 0.636817991733551}, {\"eta\": 0.8377055461831366, \"gamma\": 2.956022791664258e-06, \"max_depth\": 4.0, \"min_child_weight\": 3.236031442005493, \"TrainingJobName\": \"xgb-tuner-27-00-32-14-020-45653dac\", \"TrainingJobStatus\": \"Completed\", \"TrainingStartTime\": \"2023-01-27T00:35:37+00:00\", \"TrainingEndTime\": \"2023-01-27T00:36:15+00:00\", \"TrainingElapsedTimeSeconds\": 38.0, \"TuningJobName\": \"xgb-tuner-27-00-32-14\", \"validation:auc\": 0.6373050212860107}, {\"eta\": 0.6762553872391476, \"gamma\": 0.05917536117240635, \"max_depth\": 3.0, \"min_child_weight\": 1.0000000000000004e-06, \"TrainingJobName\": \"xgb-tuner-27-00-32-14-086-2c175c1f\", \"TrainingJobStatus\": \"Completed\", \"TrainingStartTime\": \"2023-01-27T00:42:29+00:00\", \"TrainingEndTime\": \"2023-01-27T00:43:06+00:00\", \"TrainingElapsedTimeSeconds\": 37.0, \"TuningJobName\": \"xgb-tuner-27-00-32-14\", \"validation:auc\": 0.6373729705810547}, {\"eta\": 0.5998819652513464, \"gamma\": 0.0037477418987127108, \"max_depth\": 5.0, \"min_child_weight\": 0.0001242703041948144, \"TrainingJobName\": \"xgb-tuner-27-00-32-14-066-08e0659c\", \"TrainingJobStatus\": \"Completed\", \"TrainingStartTime\": \"2023-01-27T00:40:23+00:00\", \"TrainingEndTime\": \"2023-01-27T00:41:00+00:00\", \"TrainingElapsedTimeSeconds\": 37.0, \"TuningJobName\": \"xgb-tuner-27-00-32-14\", \"validation:auc\": 0.6386029720306396}, {\"eta\": 0.43239484629016267, \"gamma\": 0.0018994187574527745, \"max_depth\": 4.0, \"min_child_weight\": 0.002402870716870257, \"TrainingJobName\": \"xgb-tuner-27-00-32-14-061-613ffa0a\", \"TrainingJobStatus\": \"Completed\", \"TrainingStartTime\": \"2023-01-27T00:39:56+00:00\", \"TrainingEndTime\": \"2023-01-27T00:40:33+00:00\", \"TrainingElapsedTimeSeconds\": 37.0, \"TuningJobName\": \"xgb-tuner-27-00-32-14\", \"validation:auc\": 0.6395000219345093}, {\"eta\": 0.6061169641469015, \"gamma\": 2.48142866123969e-05, \"max_depth\": 4.0, \"min_child_weight\": 0.002077424787399627, \"TrainingJobName\": \"xgb-tuner-27-00-32-14-045-9f1c7c0c\", \"TrainingJobStatus\": \"Completed\", \"TrainingStartTime\": \"2023-01-27T00:38:11+00:00\", \"TrainingEndTime\": \"2023-01-27T00:38:49+00:00\", \"TrainingElapsedTimeSeconds\": 38.0, \"TuningJobName\": \"xgb-tuner-27-00-32-14\", \"validation:auc\": 0.6396369934082031}, {\"eta\": 1.0, \"gamma\": 2.6037968858547393, \"max_depth\": 2.0, \"min_child_weight\": 1.2697212535128511e-05, \"TrainingJobName\": \"xgb-tuner-27-00-32-14-021-03800cc4\", \"TrainingJobStatus\": \"Completed\", \"TrainingStartTime\": \"2023-01-27T00:36:05+00:00\", \"TrainingEndTime\": \"2023-01-27T00:36:37+00:00\", \"TrainingElapsedTimeSeconds\": 32.0, \"TuningJobName\": \"xgb-tuner-27-00-32-14\", \"validation:auc\": 0.6396369934082031}, {\"eta\": 0.36606677700059287, \"gamma\": 0.0019054963649105118, \"max_depth\": 6.0, \"min_child_weight\": 1.810145691616177e-06, \"TrainingJobName\": \"xgb-tuner-27-00-32-14-100-e5881b85\", \"TrainingJobStatus\": \"Completed\", \"TrainingStartTime\": \"2023-01-27T00:43:49+00:00\", \"TrainingEndTime\": \"2023-01-27T00:44:26+00:00\", \"TrainingElapsedTimeSeconds\": 37.0, \"TuningJobName\": \"xgb-tuner-27-00-32-14\", \"validation:auc\": 0.6407639980316162}, {\"eta\": 1.0, \"gamma\": 3.662828378864391e-05, \"max_depth\": 3.0, \"min_child_weight\": 1.5195140665984885e-06, \"TrainingJobName\": \"xgb-tuner-27-00-32-14-022-dc2e8432\", \"TrainingJobStatus\": \"Completed\", \"TrainingStartTime\": \"2023-01-27T00:36:06+00:00\", \"TrainingEndTime\": \"2023-01-27T00:36:43+00:00\", \"TrainingElapsedTimeSeconds\": 37.0, \"TuningJobName\": \"xgb-tuner-27-00-32-14\", \"validation:auc\": 0.641182005405426}, {\"eta\": 1.0, \"gamma\": 8.045316338302279e-05, \"max_depth\": 3.0, \"min_child_weight\": 6.937228646628226e-06, \"TrainingJobName\": \"xgb-tuner-27-00-32-14-068-627112bd\", \"TrainingJobStatus\": \"Completed\", \"TrainingStartTime\": \"2023-01-27T00:40:34+00:00\", \"TrainingEndTime\": \"2023-01-27T00:41:11+00:00\", \"TrainingElapsedTimeSeconds\": 37.0, \"TuningJobName\": \"xgb-tuner-27-00-32-14\", \"validation:auc\": 0.641182005405426}, {\"eta\": 0.34789294508620394, \"gamma\": 3.785361185733168e-05, \"max_depth\": 5.0, \"min_child_weight\": 0.0002510718258344753, \"TrainingJobName\": \"xgb-tuner-27-00-32-14-085-e328e71a\", \"TrainingJobStatus\": \"Completed\", \"TrainingStartTime\": \"2023-01-27T00:42:28+00:00\", \"TrainingEndTime\": \"2023-01-27T00:43:05+00:00\", \"TrainingElapsedTimeSeconds\": 37.0, \"TuningJobName\": \"xgb-tuner-27-00-32-14\", \"validation:auc\": 0.6417980194091797}, {\"eta\": 0.37221220987193515, \"gamma\": 0.009588918951566711, \"max_depth\": 4.0, \"min_child_weight\": 4.7712872170100565e-05, \"TrainingJobName\": \"xgb-tuner-27-00-32-14-098-fad7ba04\", \"TrainingJobStatus\": \"Completed\", \"TrainingStartTime\": \"2023-01-27T00:43:37+00:00\", \"TrainingEndTime\": \"2023-01-27T00:44:14+00:00\", \"TrainingElapsedTimeSeconds\": 37.0, \"TuningJobName\": \"xgb-tuner-27-00-32-14\", \"validation:auc\": 0.6432070136070251}, {\"eta\": 0.7264214786954166, \"gamma\": 0.0012381729251901296, \"max_depth\": 4.0, \"min_child_weight\": 5.8290802375453766e-06, \"TrainingJobName\": \"xgb-tuner-27-00-32-14-055-f2631c7b\", \"TrainingJobStatus\": \"Completed\", \"TrainingStartTime\": \"2023-01-27T00:39:12+00:00\", \"TrainingEndTime\": \"2023-01-27T00:39:49+00:00\", \"TrainingElapsedTimeSeconds\": 37.0, \"TuningJobName\": \"xgb-tuner-27-00-32-14\", \"validation:auc\": 0.6447529792785645}, {\"eta\": 0.3952851132087465, \"gamma\": 0.0013974499106955112, \"max_depth\": 4.0, \"min_child_weight\": 5.293464813289082e-06, \"TrainingJobName\": \"xgb-tuner-27-00-32-14-039-26633656\", \"TrainingJobStatus\": \"Completed\", \"TrainingStartTime\": \"2023-01-27T00:37:33+00:00\", \"TrainingEndTime\": \"2023-01-27T00:38:10+00:00\", \"TrainingElapsedTimeSeconds\": 37.0, \"TuningJobName\": \"xgb-tuner-27-00-32-14\", \"validation:auc\": 0.6448550224304199}, {\"eta\": 0.5714316140242427, \"gamma\": 0.011947526132969233, \"max_depth\": 4.0, \"min_child_weight\": 0.0004496409294629394, \"TrainingJobName\": \"xgb-tuner-27-00-32-14-091-e5dd2184\", \"TrainingJobStatus\": \"Completed\", \"TrainingStartTime\": \"2023-01-27T00:42:59+00:00\", \"TrainingEndTime\": \"2023-01-27T00:43:36+00:00\", \"TrainingElapsedTimeSeconds\": 37.0, \"TuningJobName\": \"xgb-tuner-27-00-32-14\", \"validation:auc\": 0.6453679800033569}, {\"eta\": 0.741499041138007, \"gamma\": 0.00011501406956120287, \"max_depth\": 4.0, \"min_child_weight\": 5.2424373666487885e-06, \"TrainingJobName\": \"xgb-tuner-27-00-32-14-062-315eab2f\", \"TrainingJobStatus\": \"Completed\", \"TrainingStartTime\": \"2023-01-27T00:39:59+00:00\", \"TrainingEndTime\": \"2023-01-27T00:40:36+00:00\", \"TrainingElapsedTimeSeconds\": 37.0, \"TuningJobName\": \"xgb-tuner-27-00-32-14\", \"validation:auc\": 0.6461279988288879}, {\"eta\": 1.0, \"gamma\": 1.0000000000000004e-06, \"max_depth\": 2.0, \"min_child_weight\": 2.715628905707335, \"TrainingJobName\": \"xgb-tuner-27-00-32-14-011-bd91024e\", \"TrainingJobStatus\": \"Completed\", \"TrainingStartTime\": \"2023-01-27T00:35:12+00:00\", \"TrainingEndTime\": \"2023-01-27T00:35:49+00:00\", \"TrainingElapsedTimeSeconds\": 37.0, \"TuningJobName\": \"xgb-tuner-27-00-32-14\", \"validation:auc\": 0.6465380191802979}, {\"eta\": 0.48167564866256796, \"gamma\": 1.4997046012771859e-05, \"max_depth\": 6.0, \"min_child_weight\": 1.134356855058567e-05, \"TrainingJobName\": \"xgb-tuner-27-00-32-14-025-39ef4700\", \"TrainingJobStatus\": \"Completed\", \"TrainingStartTime\": \"2023-01-27T00:36:21+00:00\", \"TrainingEndTime\": \"2023-01-27T00:36:58+00:00\", \"TrainingElapsedTimeSeconds\": 37.0, \"TuningJobName\": \"xgb-tuner-27-00-32-14\", \"validation:auc\": 0.6472899913787842}, {\"eta\": 0.6170108326048533, \"gamma\": 0.0021337369962837294, \"max_depth\": 3.0, \"min_child_weight\": 4.422131607757105e-06, \"TrainingJobName\": \"xgb-tuner-27-00-32-14-041-173a1dfd\", \"TrainingJobStatus\": \"Completed\", \"TrainingStartTime\": \"2023-01-27T00:37:45+00:00\", \"TrainingEndTime\": \"2023-01-27T00:38:22+00:00\", \"TrainingElapsedTimeSeconds\": 37.0, \"TuningJobName\": \"xgb-tuner-27-00-32-14\", \"validation:auc\": 0.6472899913787842}, {\"eta\": 0.7161854399427349, \"gamma\": 2.5881420379136427e-05, \"max_depth\": 4.0, \"min_child_weight\": 0.06246576476759941, \"TrainingJobName\": \"xgb-tuner-27-00-32-14-015-ea31aea4\", \"TrainingJobStatus\": \"Completed\", \"TrainingStartTime\": \"2023-01-27T00:35:20+00:00\", \"TrainingEndTime\": \"2023-01-27T00:35:57+00:00\", \"TrainingElapsedTimeSeconds\": 37.0, \"TuningJobName\": \"xgb-tuner-27-00-32-14\", \"validation:auc\": 0.647707998752594}, {\"eta\": 0.6373095412106826, \"gamma\": 0.10498745451806764, \"max_depth\": 5.0, \"min_child_weight\": 1.0000000000000004e-06, \"TrainingJobName\": \"xgb-tuner-27-00-32-14-046-5945949c\", \"TrainingJobStatus\": \"Completed\", \"TrainingStartTime\": \"2023-01-27T00:38:13+00:00\", \"TrainingEndTime\": \"2023-01-27T00:38:50+00:00\", \"TrainingElapsedTimeSeconds\": 37.0, \"TuningJobName\": \"xgb-tuner-27-00-32-14\", \"validation:auc\": 0.6482200026512146}, {\"eta\": 0.7196598699058606, \"gamma\": 5.705323140425428e-05, \"max_depth\": 5.0, \"min_child_weight\": 0.00017006151815770367, \"TrainingJobName\": \"xgb-tuner-27-00-32-14-087-5b0068aa\", \"TrainingJobStatus\": \"Completed\", \"TrainingStartTime\": \"2023-01-27T00:42:32+00:00\", \"TrainingEndTime\": \"2023-01-27T00:43:09+00:00\", \"TrainingElapsedTimeSeconds\": 37.0, \"TuningJobName\": \"xgb-tuner-27-00-32-14\", \"validation:auc\": 0.6483229994773865}, {\"eta\": 0.546406032681705, \"gamma\": 0.009409396891033976, \"max_depth\": 8.0, \"min_child_weight\": 0.013528529356283266, \"TrainingJobName\": \"xgb-tuner-27-00-32-14-089-f9103605\", \"TrainingJobStatus\": \"Completed\", \"TrainingStartTime\": \"2023-01-27T00:42:45+00:00\", \"TrainingEndTime\": \"2023-01-27T00:43:17+00:00\", \"TrainingElapsedTimeSeconds\": 32.0, \"TuningJobName\": \"xgb-tuner-27-00-32-14\", \"validation:auc\": 0.6483229994773865}, {\"eta\": 0.6631377617178216, \"gamma\": 5.739237132180121e-05, \"max_depth\": 7.0, \"min_child_weight\": 0.0010599256020095106, \"TrainingJobName\": \"xgb-tuner-27-00-32-14-027-e70c798e\", \"TrainingJobStatus\": \"Completed\", \"TrainingStartTime\": \"2023-01-27T00:36:24+00:00\", \"TrainingEndTime\": \"2023-01-27T00:36:56+00:00\", \"TrainingElapsedTimeSeconds\": 32.0, \"TuningJobName\": \"xgb-tuner-27-00-32-14\", \"validation:auc\": 0.6490749716758728}, {\"eta\": 0.4240883596918352, \"gamma\": 0.27787594415844663, \"max_depth\": 3.0, \"min_child_weight\": 4.4808705066792956e-05, \"TrainingJobName\": \"xgb-tuner-27-00-32-14-023-9d21321a\", \"TrainingJobStatus\": \"Completed\", \"TrainingStartTime\": \"2023-01-27T00:36:08+00:00\", \"TrainingEndTime\": \"2023-01-27T00:36:45+00:00\", \"TrainingElapsedTimeSeconds\": 37.0, \"TuningJobName\": \"xgb-tuner-27-00-32-14\", \"validation:auc\": 0.6502450108528137}, {\"eta\": 0.6640099947749902, \"gamma\": 0.015433726731291375, \"max_depth\": 3.0, \"min_child_weight\": 3.6897131568368724e-05, \"TrainingJobName\": \"xgb-tuner-27-00-32-14-097-2263db40\", \"TrainingJobStatus\": \"Completed\", \"TrainingStartTime\": \"2023-01-27T00:43:25+00:00\", \"TrainingEndTime\": \"2023-01-27T00:44:02+00:00\", \"TrainingElapsedTimeSeconds\": 37.0, \"TuningJobName\": \"xgb-tuner-27-00-32-14\", \"validation:auc\": 0.6511420011520386}, {\"eta\": 0.6542742846979628, \"gamma\": 0.013944193469699427, \"max_depth\": 4.0, \"min_child_weight\": 1.822009893874928e-05, \"TrainingJobName\": \"xgb-tuner-27-00-32-14-096-9aedfee5\", \"TrainingJobStatus\": \"Completed\", \"TrainingStartTime\": \"2023-01-27T00:43:24+00:00\", \"TrainingEndTime\": \"2023-01-27T00:44:01+00:00\", \"TrainingElapsedTimeSeconds\": 37.0, \"TuningJobName\": \"xgb-tuner-27-00-32-14\", \"validation:auc\": 0.6523029804229736}, {\"eta\": 0.6219710038517458, \"gamma\": 3.072832599020894e-05, \"max_depth\": 4.0, \"min_child_weight\": 7.473893824991221e-06, \"TrainingJobName\": \"xgb-tuner-27-00-32-14-067-c7ba6b7e\", \"TrainingJobStatus\": \"Completed\", \"TrainingStartTime\": \"2023-01-27T00:40:24+00:00\", \"TrainingEndTime\": \"2023-01-27T00:41:01+00:00\", \"TrainingElapsedTimeSeconds\": 37.0, \"TuningJobName\": \"xgb-tuner-27-00-32-14\", \"validation:auc\": 0.6530629992485046}, {\"eta\": 0.49946555836313394, \"gamma\": 7.64420171655004e-05, \"max_depth\": 5.0, \"min_child_weight\": 7.68510328235303e-06, \"TrainingJobName\": \"xgb-tuner-27-00-32-14-095-81bc994d\", \"TrainingJobStatus\": \"Completed\", \"TrainingStartTime\": \"2023-01-27T00:43:23+00:00\", \"TrainingEndTime\": \"2023-01-27T00:44:00+00:00\", \"TrainingElapsedTimeSeconds\": 37.0, \"TuningJobName\": \"xgb-tuner-27-00-32-14\", \"validation:auc\": 0.6536779999732971}, {\"eta\": 0.6356986658481818, \"gamma\": 0.0033340390229850236, \"max_depth\": 6.0, \"min_child_weight\": 0.02451066318504093, \"TrainingJobName\": \"xgb-tuner-27-00-32-14-049-0618e802\", \"TrainingJobStatus\": \"Completed\", \"TrainingStartTime\": \"2023-01-27T00:38:28+00:00\", \"TrainingEndTime\": \"2023-01-27T00:39:37+00:00\", \"TrainingElapsedTimeSeconds\": 69.0, \"TuningJobName\": \"xgb-tuner-27-00-32-14\", \"validation:auc\": 0.653814971446991}, {\"eta\": 0.7483799245241507, \"gamma\": 0.13546288027215408, \"max_depth\": 4.0, \"min_child_weight\": 2.004159428836589e-05, \"TrainingJobName\": \"xgb-tuner-27-00-32-14-030-1c54ee26\", \"TrainingJobStatus\": \"Completed\", \"TrainingStartTime\": \"2023-01-27T00:36:38+00:00\", \"TrainingEndTime\": \"2023-01-27T00:37:15+00:00\", \"TrainingElapsedTimeSeconds\": 37.0, \"TuningJobName\": \"xgb-tuner-27-00-32-14\", \"validation:auc\": 0.6544730067253113}, {\"eta\": 0.6644263649318927, \"gamma\": 0.006686421148623481, \"max_depth\": 5.0, \"min_child_weight\": 1.0000000000000004e-06, \"TrainingJobName\": \"xgb-tuner-27-00-32-14-071-eab72cce\", \"TrainingJobStatus\": \"Completed\", \"TrainingStartTime\": \"2023-01-27T00:41:34+00:00\", \"TrainingEndTime\": \"2023-01-27T00:42:06+00:00\", \"TrainingElapsedTimeSeconds\": 32.0, \"TuningJobName\": \"xgb-tuner-27-00-32-14\", \"validation:auc\": 0.6548479795455933}, {\"eta\": 0.6092967298942422, \"gamma\": 0.0063553969851672595, \"max_depth\": 2.0, \"min_child_weight\": 2.7372430927854867e-05, \"TrainingJobName\": \"xgb-tuner-27-00-32-14-048-3da84955\", \"TrainingJobStatus\": \"Completed\", \"TrainingStartTime\": \"2023-01-27T00:38:25+00:00\", \"TrainingEndTime\": \"2023-01-27T00:39:02+00:00\", \"TrainingElapsedTimeSeconds\": 37.0, \"TuningJobName\": \"xgb-tuner-27-00-32-14\", \"validation:auc\": 0.6554970145225525}, {\"eta\": 0.7955871143518594, \"gamma\": 0.07132739025501157, \"max_depth\": 4.0, \"min_child_weight\": 0.028101796496451607, \"TrainingJobName\": \"xgb-tuner-27-00-32-14-094-86fc93dc\", \"TrainingJobStatus\": \"Completed\", \"TrainingStartTime\": \"2023-01-27T00:43:11+00:00\", \"TrainingEndTime\": \"2023-01-27T00:43:43+00:00\", \"TrainingElapsedTimeSeconds\": 32.0, \"TuningJobName\": \"xgb-tuner-27-00-32-14\", \"validation:auc\": 0.6564970016479492}, {\"eta\": 0.49871657103196576, \"gamma\": 0.00023008172622317684, \"max_depth\": 5.0, \"min_child_weight\": 1.3487456636467294e-05, \"TrainingJobName\": \"xgb-tuner-27-00-32-14-060-c903e078\", \"TrainingJobStatus\": \"Completed\", \"TrainingStartTime\": \"2023-01-27T00:39:45+00:00\", \"TrainingEndTime\": \"2023-01-27T00:40:22+00:00\", \"TrainingElapsedTimeSeconds\": 37.0, \"TuningJobName\": \"xgb-tuner-27-00-32-14\", \"validation:auc\": 0.657384991645813}, {\"eta\": 0.47421550540709406, \"gamma\": 1.6056298953793463e-05, \"max_depth\": 3.0, \"min_child_weight\": 0.0004526933724432077, \"TrainingJobName\": \"xgb-tuner-27-00-32-14-012-33b1a582\", \"TrainingJobStatus\": \"Completed\", \"TrainingStartTime\": \"2023-01-27T00:35:14+00:00\", \"TrainingEndTime\": \"2023-01-27T00:35:51+00:00\", \"TrainingElapsedTimeSeconds\": 37.0, \"TuningJobName\": \"xgb-tuner-27-00-32-14\", \"validation:auc\": 0.6586920022964478}, {\"eta\": 0.7305833570778586, \"gamma\": 0.0026267703012480205, \"max_depth\": 4.0, \"min_child_weight\": 0.00048736808614934364, \"TrainingJobName\": \"xgb-tuner-27-00-32-14-056-250a354c\", \"TrainingJobStatus\": \"Completed\", \"TrainingStartTime\": \"2023-01-27T00:39:24+00:00\", \"TrainingEndTime\": \"2023-01-27T00:40:01+00:00\", \"TrainingElapsedTimeSeconds\": 37.0, \"TuningJobName\": \"xgb-tuner-27-00-32-14\", \"validation:auc\": 0.6595889925956726}, {\"eta\": 0.6117077699446535, \"gamma\": 9.091706117443728e-05, \"max_depth\": 4.0, \"min_child_weight\": 0.004199212213659081, \"TrainingJobName\": \"xgb-tuner-27-00-32-14-013-e0d8f46a\", \"TrainingJobStatus\": \"Completed\", \"TrainingStartTime\": \"2023-01-27T00:35:16+00:00\", \"TrainingEndTime\": \"2023-01-27T00:35:53+00:00\", \"TrainingElapsedTimeSeconds\": 37.0, \"TuningJobName\": \"xgb-tuner-27-00-32-14\", \"validation:auc\": 0.6631590127944946}, {\"eta\": 0.5248442554876624, \"gamma\": 0.06673827004382778, \"max_depth\": 3.0, \"min_child_weight\": 8.449355147035803e-06, \"TrainingJobName\": \"xgb-tuner-27-00-32-14-065-f1f06d11\", \"TrainingJobStatus\": \"Completed\", \"TrainingStartTime\": \"2023-01-27T00:40:21+00:00\", \"TrainingEndTime\": \"2023-01-27T00:40:58+00:00\", \"TrainingElapsedTimeSeconds\": 37.0, \"TuningJobName\": \"xgb-tuner-27-00-32-14\", \"validation:auc\": 0.6650810241699219}, {\"eta\": 0.7185536475898795, \"gamma\": 0.054961803514725814, \"max_depth\": 4.0, \"min_child_weight\": 1.2877573217460173e-05, \"TrainingJobName\": \"xgb-tuner-27-00-32-14-019-b6885f1d\", \"TrainingJobStatus\": \"Completed\", \"TrainingStartTime\": \"2023-01-27T00:35:35+00:00\", \"TrainingEndTime\": \"2023-01-27T00:36:12+00:00\", \"TrainingElapsedTimeSeconds\": 37.0, \"TuningJobName\": \"xgb-tuner-27-00-32-14\", \"validation:auc\": 0.6672419905662537}, {\"eta\": 0.6483771027602893, \"gamma\": 9.798457390479842e-05, \"max_depth\": 4.0, \"min_child_weight\": 1.762853305772171e-05, \"TrainingJobName\": \"xgb-tuner-27-00-32-14-014-7c090c65\", \"TrainingJobStatus\": \"Completed\", \"TrainingStartTime\": \"2023-01-27T00:35:18+00:00\", \"TrainingEndTime\": \"2023-01-27T00:35:50+00:00\", \"TrainingElapsedTimeSeconds\": 32.0, \"TuningJobName\": \"xgb-tuner-27-00-32-14\", \"validation:auc\": 0.6692659854888916}, {\"eta\": 0.6438506797337316, \"gamma\": 8.847851158810656e-05, \"max_depth\": 4.0, \"min_child_weight\": 3.294385609871094e-06, \"TrainingJobName\": \"xgb-tuner-27-00-32-14-029-43d2f514\", \"TrainingJobStatus\": \"Completed\", \"TrainingStartTime\": \"2023-01-27T00:36:36+00:00\", \"TrainingEndTime\": \"2023-01-27T00:37:08+00:00\", \"TrainingElapsedTimeSeconds\": 32.0, \"TuningJobName\": \"xgb-tuner-27-00-32-14\", \"validation:auc\": 0.6774740219116211}, {\"eta\": 0.5444508070897833, \"gamma\": 0.000904360464974121, \"max_depth\": 4.0, \"min_child_weight\": 7.76497369277073e-05, \"TrainingJobName\": \"xgb-tuner-27-00-32-14-032-c6499eb4\", \"TrainingJobStatus\": \"Completed\", \"TrainingStartTime\": \"2023-01-27T00:37:02+00:00\", \"TrainingEndTime\": \"2023-01-27T00:37:40+00:00\", \"TrainingElapsedTimeSeconds\": 38.0, \"TuningJobName\": \"xgb-tuner-27-00-32-14\", \"validation:auc\": 0.6786100268363953}, {\"eta\": 0.5486115853265142, \"gamma\": 0.012420693362461344, \"max_depth\": 4.0, \"min_child_weight\": 6.600165759874769e-05, \"TrainingJobName\": \"xgb-tuner-27-00-32-14-052-be514283\", \"TrainingJobStatus\": \"Completed\", \"TrainingStartTime\": \"2023-01-27T00:39:38+00:00\", \"TrainingEndTime\": \"2023-01-27T00:40:47+00:00\", \"TrainingElapsedTimeSeconds\": 69.0, \"TuningJobName\": \"xgb-tuner-27-00-32-14\", \"validation:auc\": 0.6838629841804504}]}}, {\"mode\": \"vega-lite\"});\n",
       "</script>"
      ],
      "text/plain": [
       "alt.VConcatChart(...)"
      ]
     },
     "execution_count": 39,
     "metadata": {},
     "output_type": "execute_result"
    }
   ],
   "source": [
    "#!pip install altair\n",
    "from amtviz import visualize_tuning_job\n",
    "visualize_tuning_job(tuner, trials_only=True)"
   ]
  },
  {
   "cell_type": "markdown",
   "metadata": {},
   "source": [
    "### Clean-up\n",
    "\n",
    "Remove any resources to save on AWS cost."
   ]
  },
  {
   "cell_type": "code",
   "execution_count": 40,
   "metadata": {},
   "outputs": [],
   "source": [
    "#CLEAN UP - Uncomment code in this cell to Spin Down Endpoint\n",
    "\n",
    "# Create a low-level SageMaker service client.\n",
    "sagemaker_client = boto3.client('sagemaker', region_name=\"us-east-2\")\n",
    "\n",
    "# Delete endpoint\n",
    "sagemaker_client.delete_endpoint(EndpointName=endpoint_name)\n",
    "\n",
    "#Clean-up temporary files in s3 bucket.Removing these temp files will impact re-creating the 'pareto frontier' chart\n",
    "\n",
    "import boto3\n",
    "s3_client = boto3.client('s3')\n",
    "session = Session()\n",
    "s3_bucket = session.default_bucket()\n",
    "s3_bucket_prefix = \"sagemaker/sagemaker-amt-credit-risk-model/data/output/tmp/\"\n",
    "response = s3_client.list_objects_v2(Bucket=s3_bucket, Prefix=s3_bucket_prefix)\n",
    "for object in response['Contents']:\n",
    "    s3_client.delete_object(Bucket=s3_bucket, Key=object['Key'])"
   ]
  }
 ],
 "metadata": {
  "instance_type": "ml.t3.medium",
  "kernelspec": {
   "display_name": "Python 3 (Data Science 2.0)",
   "language": "python",
   "name": "python3__SAGEMAKER_INTERNAL__arn:aws:sagemaker:us-east-2:429704687514:image/sagemaker-data-science-38"
  },
  "language_info": {
   "codemirror_mode": {
    "name": "ipython",
    "version": 3
   },
   "file_extension": ".py",
   "mimetype": "text/x-python",
   "name": "python",
   "nbconvert_exporter": "python",
   "pygments_lexer": "ipython3",
   "version": "3.8.13"
  }
 },
 "nbformat": 4,
 "nbformat_minor": 4
}
